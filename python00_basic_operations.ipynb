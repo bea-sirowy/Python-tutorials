{
 "cells": [
  {
   "cell_type": "markdown",
   "id": "05f6fbce",
   "metadata": {},
   "source": [
    "Beata Sirowy"
   ]
  },
  {
   "cell_type": "markdown",
   "id": "f5c778cc-f033-4bb0-8cd4-51f8618efbea",
   "metadata": {},
   "source": [
    "# __Python demo: <br> multi way decisions, loops, functions__"
   ]
  },
  {
   "cell_type": "markdown",
   "id": "aea9f70b",
   "metadata": {},
   "source": [
    "Based on Severance, Ch. (2016) _Python for Everybody. Exploring Data in Python 3_"
   ]
  },
  {
   "cell_type": "markdown",
   "id": "ac95ea31-4105-409f-8b51-e81094d5fa88",
   "metadata": {},
   "source": [
    "## Lift converter"
   ]
  },
  {
   "cell_type": "code",
   "execution_count": 20,
   "id": "ef026702-b06e-4cd9-a4cb-673a4df81615",
   "metadata": {},
   "outputs": [
    {
     "name": "stdout",
     "output_type": "stream",
     "text": [
      "European floor number: 6 \n",
      "Your floor in USA would be: 7\n"
     ]
    }
   ],
   "source": [
    "x = input(\"Write the European floor number you wish to go: \\n\")\n",
    "y = int(x) + 1\n",
    "print(\"European floor number:\", x, \"\\nYour floor in USA would be:\", y)"
   ]
  },
  {
   "cell_type": "markdown",
   "id": "dc183833-4fd7-43b8-b8d6-2de538631da5",
   "metadata": {},
   "source": [
    "## One way decisions with IF ELSE"
   ]
  },
  {
   "cell_type": "code",
   "execution_count": 16,
   "id": "013b0294-8dc6-4d26-b8f6-28c3d7e4623f",
   "metadata": {
    "scrolled": true
   },
   "outputs": [
    {
     "name": "stdout",
     "output_type": "stream",
     "text": [
      "Whats your name? \n",
      " John\n"
     ]
    },
    {
     "name": "stdout",
     "output_type": "stream",
     "text": [
      "Welcome, John nice to meet you!\n"
     ]
    },
    {
     "name": "stdout",
     "output_type": "stream",
     "text": [
      "How old are you? \n",
      " 12\n"
     ]
    },
    {
     "name": "stdout",
     "output_type": "stream",
     "text": [
      "Awesome, 12 years old is so young!\n"
     ]
    }
   ],
   "source": [
    "x = input(\"Whats your name? \\n\")\n",
    "print(\"Welcome,\", x, \"nice to meet you!\")\n",
    "x = input(\"How old are you? \\n\")\n",
    "if int(x) < 20:\n",
    "    print(\"Awesome,\", x, \"years old is so young!\")\n",
    "else:\n",
    "    print(\"Great,\", x, \"years old is an age of wisdom!\")"
   ]
  },
  {
   "cell_type": "markdown",
   "id": "2755ab80-5347-456c-bd89-ef01ccee050f",
   "metadata": {},
   "source": [
    "## ELIF structure (multi way decisions)"
   ]
  },
  {
   "cell_type": "markdown",
   "id": "ba8f837c-221c-44c2-902f-68462f51df75",
   "metadata": {},
   "source": [
    "Runs in sequence; exits the block once it finds TRUE value (doesn't check the following conditions)."
   ]
  },
  {
   "cell_type": "markdown",
   "id": "9e54eb69-6f5b-4496-adf1-885756ff6b7e",
   "metadata": {},
   "source": [
    "### example 1"
   ]
  },
  {
   "cell_type": "code",
   "execution_count": 21,
   "id": "e117f53b-22be-4f35-b953-7bfeb3783925",
   "metadata": {},
   "outputs": [
    {
     "name": "stdout",
     "output_type": "stream",
     "text": [
      "Give me a number 21\n"
     ]
    },
    {
     "name": "stdout",
     "output_type": "stream",
     "text": [
      "It's big\n"
     ]
    }
   ],
   "source": [
    "x = int(input(\"Give me a number\"))\n",
    "if x < 5:\n",
    "    print(\"It's small\")\n",
    "elif x > 20:\n",
    "    print(\"It's big\")\n",
    "    if x > 25:\n",
    "        print(\"More than I expected\")\n",
    "else:\n",
    "    print(\"It's medium\")"
   ]
  },
  {
   "cell_type": "markdown",
   "id": "d4e6e39f-9a45-4d3d-9570-75166fb06a58",
   "metadata": {},
   "source": [
    "### example 2"
   ]
  },
  {
   "cell_type": "code",
   "execution_count": 26,
   "id": "922fb4cd-2aed-4b28-90cd-37d216aed1aa",
   "metadata": {},
   "outputs": [
    {
     "name": "stdout",
     "output_type": "stream",
     "text": [
      "Give me a number 44\n"
     ]
    },
    {
     "name": "stdout",
     "output_type": "stream",
     "text": [
      "It's huge\n",
      "Thank you and goodbye\n"
     ]
    }
   ],
   "source": [
    "x = int(input(\"Give me a number\"))\n",
    "if x < 5:\n",
    "    print(\"It's small\")\n",
    "elif x < 20:\n",
    "    print(\"It's medium\")\n",
    "elif x < 20:\n",
    "    print(\"It's big\")\n",
    "else:\n",
    "    print(\"It's huge\")\n",
    "print(\"Thank you and goodbye\")"
   ]
  },
  {
   "cell_type": "markdown",
   "id": "0fc713f5-52e6-4ca1-8515-2f1255c45cca",
   "metadata": {},
   "source": [
    "## TRY / EXCEPT structure - eliminates a traceback / catches errors"
   ]
  },
  {
   "cell_type": "markdown",
   "id": "deb1dfc7-e27c-4b4e-98ea-ee325b07a638",
   "metadata": {},
   "source": [
    "If the code in TRY works, EXCEPT is skipped. <br>\n",
    "If TRY fails, runs to EXCEPT."
   ]
  },
  {
   "cell_type": "markdown",
   "id": "b3018582-7d91-44a7-beca-939dffb30000",
   "metadata": {},
   "source": [
    "### example 1"
   ]
  },
  {
   "cell_type": "code",
   "execution_count": 43,
   "id": "d1efe0b6-ee05-4a13-9d59-939583f61d52",
   "metadata": {},
   "outputs": [
    {
     "name": "stdout",
     "output_type": "stream",
     "text": [
      "Give me a number trfduti\n"
     ]
    },
    {
     "name": "stdout",
     "output_type": "stream",
     "text": [
      "It's not a number my friend\n"
     ]
    }
   ],
   "source": [
    "x = input(\"Give me a number\")\n",
    "try:\n",
    "    x = int(x)\n",
    "    print(x, \"is my favourite number\")\n",
    "except:\n",
    "    print(\"It's not a number my friend\")"
   ]
  },
  {
   "cell_type": "markdown",
   "id": "bb578d04-47b9-4e02-b9ce-193845359365",
   "metadata": {},
   "source": [
    "### example 2"
   ]
  },
  {
   "cell_type": "code",
   "execution_count": 24,
   "id": "7d598f2b-0b99-47c5-94f0-d9923a550eb5",
   "metadata": {},
   "outputs": [
    {
     "name": "stdout",
     "output_type": "stream",
     "text": [
      "What's your name? \n",
      " rop\n"
     ]
    },
    {
     "name": "stdout",
     "output_type": "stream",
     "text": [
      "Welcome, rop nice to meet you! \n",
      "\n"
     ]
    },
    {
     "name": "stdout",
     "output_type": "stream",
     "text": [
      "How old are you? ff\n"
     ]
    },
    {
     "name": "stdout",
     "output_type": "stream",
     "text": [
      "It's not a number my friend\n"
     ]
    }
   ],
   "source": [
    "x = input(\"What's your name? \\n\")\n",
    "print(\"Welcome,\", x, \"nice to meet you! \\n\")\n",
    "x = input(\"How old are you?\")\n",
    "try:\n",
    "    if int(x) < 20:\n",
    "        print(\"Nice,\", x, \"years old is so young!\")\n",
    "    if int(x) > 20:\n",
    "        print(\"Great,\", x, \"years old is an age of wisdom!\")\n",
    "except:\n",
    "    print(\"It's not a number my friend!\")"
   ]
  },
  {
   "cell_type": "code",
   "execution_count": 27,
   "id": "ae77255c-4f29-4833-a530-3d681fa6fad7",
   "metadata": {},
   "outputs": [
    {
     "name": "stdout",
     "output_type": "stream",
     "text": [
      "How old are you? \n",
      " 12\n"
     ]
    },
    {
     "name": "stdout",
     "output_type": "stream",
     "text": [
      "Nice, 12 years old is so young!\n"
     ]
    }
   ],
   "source": [
    "x = input(\"How old are you? \\n\")\n",
    "try:\n",
    "    x = int(x)\n",
    "    if x < 20:\n",
    "        print(\"Nice,\", x, \"years old is so young!\")\n",
    "    if x > 20:\n",
    "        print(\"Great,\", x, \"years old is an age of wisdom!\")\n",
    "except:\n",
    "    print(\"It's not a number my friend!\")"
   ]
  },
  {
   "cell_type": "markdown",
   "id": "bfca097e-576a-4710-b6d9-fc5d17fabf94",
   "metadata": {},
   "source": [
    "## Functions"
   ]
  },
  {
   "cell_type": "markdown",
   "id": "578528cc-d112-4c69-8df3-bd9ff72d28ba",
   "metadata": {},
   "source": [
    "Purpose: store and reuse. <br>\n",
    "DRY: don't repeat yourself"
   ]
  },
  {
   "cell_type": "code",
   "execution_count": 30,
   "id": "04bcd588-1ab5-4a8d-b5d5-a2f42311e5fa",
   "metadata": {},
   "outputs": [],
   "source": [
    "def greet(language):\n",
    "    if language == \"es\":\n",
    "        print(\"Hola\")\n",
    "    elif language == \"fr\":\n",
    "        print(\"Bonjour\")\n",
    "    else:\n",
    "        print(\"Hi\")"
   ]
  },
  {
   "cell_type": "code",
   "execution_count": 31,
   "id": "2f206fff-9bcf-4c21-aa10-75d0f59563d3",
   "metadata": {},
   "outputs": [
    {
     "name": "stdout",
     "output_type": "stream",
     "text": [
      "Bonjour\n"
     ]
    }
   ],
   "source": [
    "greet(\"fr\")"
   ]
  },
  {
   "cell_type": "code",
   "execution_count": 4,
   "id": "5feb48c1-1649-4602-9a58-b9c3646f1fbb",
   "metadata": {
    "scrolled": true
   },
   "outputs": [
    {
     "name": "stdout",
     "output_type": "stream",
     "text": [
      "give me a word \n",
      " fdfuhf\n"
     ]
    },
    {
     "name": "stdout",
     "output_type": "stream",
     "text": [
      "u\n"
     ]
    }
   ],
   "source": [
    "word = input(\"give me a word \\n\")\n",
    "g = max(word)\n",
    "print(g)"
   ]
  },
  {
   "cell_type": "code",
   "execution_count": 49,
   "id": "463e51ba-d784-4bc8-bbb9-e2e9362e6327",
   "metadata": {},
   "outputs": [],
   "source": [
    "def x(word):\n",
    "    big = max(word)\n",
    "    print(\"The biggest letter in this word is: \" + big)"
   ]
  },
  {
   "cell_type": "code",
   "execution_count": 51,
   "id": "c230ffce-1bb6-43fc-92ab-624514bea4b3",
   "metadata": {},
   "outputs": [
    {
     "name": "stdout",
     "output_type": "stream",
     "text": [
      "Choose a word \n",
      " Cat\n"
     ]
    },
    {
     "name": "stdout",
     "output_type": "stream",
     "text": [
      "The biggest letter in this word is: t\n"
     ]
    }
   ],
   "source": [
    "word = input(\"Choose a word \\n\")\n",
    "x(word)"
   ]
  },
  {
   "cell_type": "markdown",
   "id": "45a67748-54fd-4b6d-b8b5-24e19d4c002b",
   "metadata": {},
   "source": [
    "### Multiple parameters/ arguments"
   ]
  },
  {
   "cell_type": "code",
   "execution_count": 9,
   "id": "8a78e46b-5150-4cd9-9c76-fba1c487206e",
   "metadata": {},
   "outputs": [],
   "source": [
    "def add(a, b):\n",
    "    adding = a + b\n",
    "    return adding"
   ]
  },
  {
   "cell_type": "code",
   "execution_count": 12,
   "id": "1a8c7e20-c764-463f-801f-0462b0af7c95",
   "metadata": {},
   "outputs": [
    {
     "name": "stdout",
     "output_type": "stream",
     "text": [
      "12\n"
     ]
    }
   ],
   "source": [
    "x = add(5, 7)\n",
    "print(x)"
   ]
  },
  {
   "cell_type": "markdown",
   "id": "793edfeb-db24-4c97-b97b-ca0649d81251",
   "metadata": {},
   "source": [
    "## Loops and iteration"
   ]
  },
  {
   "cell_type": "code",
   "execution_count": 4,
   "id": "346a6fca-47c5-4515-873b-67b1a60f9a81",
   "metadata": {},
   "outputs": [
    {
     "name": "stdout",
     "output_type": "stream",
     "text": [
      "10\n",
      "9\n",
      "8\n",
      "7\n",
      "6\n",
      "5\n",
      "4\n",
      "3\n",
      "2\n",
      "1\n",
      "Bye it is the end\n",
      "0\n"
     ]
    }
   ],
   "source": [
    "n = 10\n",
    "while n > 0:\n",
    "    print(n)\n",
    "    n = n - 1\n",
    "print(\"Bye it is the end\")\n",
    "print(n)"
   ]
  },
  {
   "cell_type": "code",
   "execution_count": 4,
   "id": "50083449-c20d-4fc0-8004-a1576abf4df6",
   "metadata": {},
   "outputs": [
    {
     "name": "stdout",
     "output_type": "stream",
     "text": [
      "Lather\n",
      "Rinse\n",
      "Lather\n",
      "Rinse\n",
      "Lather\n",
      "Rinse\n",
      "Lather\n",
      "Rinse\n",
      "Lather\n",
      "Rinse\n",
      "Day off!\n"
     ]
    }
   ],
   "source": [
    "n = 5\n",
    "while n > 0:\n",
    "    print(\"Lather\")\n",
    "    print(\"Rinse\")\n",
    "    n = n - 1\n",
    "print(\"Day off!\")"
   ]
  },
  {
   "cell_type": "markdown",
   "id": "43c870f7-d68b-4403-b312-370182d49de1",
   "metadata": {},
   "source": [
    "### Breaking out of a loop"
   ]
  },
  {
   "cell_type": "code",
   "execution_count": 52,
   "id": "e087dc74-3b71-4c33-98ce-2729829eb22b",
   "metadata": {},
   "outputs": [
    {
     "name": "stdout",
     "output_type": "stream",
     "text": [
      "Say something \n",
      " Hi\n"
     ]
    },
    {
     "name": "stdout",
     "output_type": "stream",
     "text": [
      "Hi\n"
     ]
    },
    {
     "name": "stdout",
     "output_type": "stream",
     "text": [
      "Say something \n",
      " done\n"
     ]
    },
    {
     "name": "stdout",
     "output_type": "stream",
     "text": [
      "I'm done too!\n"
     ]
    }
   ],
   "source": [
    "while True:\n",
    "    line = input(\"Say something \\n\")\n",
    "    if line == \"done\":\n",
    "        break\n",
    "    print(line)\n",
    "print(\"I'm done too!\")"
   ]
  },
  {
   "cell_type": "markdown",
   "id": "35f7714d-b590-4dca-89f8-ff2245d85319",
   "metadata": {},
   "source": [
    "### Finishing an iteration with CONTINUE"
   ]
  },
  {
   "cell_type": "markdown",
   "id": "cdd1211d-c444-483a-b653-fb344e3f5c03",
   "metadata": {},
   "source": [
    "CONTINUE ends the current iteration and jumps to the top of the loop."
   ]
  },
  {
   "cell_type": "code",
   "execution_count": 53,
   "id": "c6411e01-1dab-461a-acb9-d85c970a512e",
   "metadata": {},
   "outputs": [
    {
     "name": "stdout",
     "output_type": "stream",
     "text": [
      "Say something \n",
      " Hi\n"
     ]
    },
    {
     "name": "stdout",
     "output_type": "stream",
     "text": [
      "Hi!\n"
     ]
    },
    {
     "name": "stdout",
     "output_type": "stream",
     "text": [
      "Say something \n",
      " #big\n",
      "Say something \n",
      " done\n"
     ]
    },
    {
     "name": "stdout",
     "output_type": "stream",
     "text": [
      "I'm done too!\n"
     ]
    }
   ],
   "source": [
    "while True:\n",
    "    line = input(\"Say something \\n\")\n",
    "    if line[0] == \"#\":\n",
    "        continue\n",
    "    if line == \"done\":\n",
    "        break\n",
    "    print(line + \"!\")\n",
    "print(\"I'm done too!\")"
   ]
  },
  {
   "cell_type": "code",
   "execution_count": null,
   "id": "33e933ee-3718-4f77-9243-105ae3b87d6c",
   "metadata": {},
   "outputs": [],
   "source": []
  },
  {
   "cell_type": "markdown",
   "id": "dfa8dd5b-b161-4abe-b670-efdce028c808",
   "metadata": {},
   "source": [
    "## Definite loops"
   ]
  },
  {
   "cell_type": "markdown",
   "id": "e5d6161a-3bdd-43e1-99be-0b6ad07b12e2",
   "metadata": {},
   "source": [
    "The iteration variable \"iterates\" through the sequence (ordered set). <br>\n",
    "The block (body) of code is executed once with each iteration."
   ]
  },
  {
   "cell_type": "code",
   "execution_count": 14,
   "id": "0f2382d1-8d41-4755-a0d6-781eceacffe8",
   "metadata": {},
   "outputs": [
    {
     "name": "stdout",
     "output_type": "stream",
     "text": [
      "25\n",
      "20\n",
      "15\n",
      "10\n",
      "5\n",
      "The End\n"
     ]
    }
   ],
   "source": [
    "for i in [5, 4, 3, 2, 1]:\n",
    "    print(i * 5)\n",
    "print(\"The End\")"
   ]
  },
  {
   "cell_type": "code",
   "execution_count": 11,
   "id": "870b85f8-1367-468b-93b9-1692fd08a25b",
   "metadata": {},
   "outputs": [
    {
     "name": "stdout",
     "output_type": "stream",
     "text": [
      "1\n",
      "2\n",
      "3\n",
      "4\n",
      "5\n",
      "Blastoff!!!\n"
     ]
    }
   ],
   "source": [
    "for i in range(1, 6):\n",
    "    print(i)\n",
    "print(\"Blastoff!!!\")"
   ]
  },
  {
   "cell_type": "markdown",
   "id": "09b3e59e-8744-4341-9300-c639d3e0bbd2",
   "metadata": {},
   "source": [
    "### A definite loop with strings"
   ]
  },
  {
   "cell_type": "code",
   "execution_count": 16,
   "id": "6f3be5b4-ab43-406d-9154-d69e02b70564",
   "metadata": {},
   "outputs": [
    {
     "name": "stdout",
     "output_type": "stream",
     "text": [
      "Happy New Year Damian!\n",
      "Happy New Year Mat!\n",
      "Happy New Year Kon!\n",
      "Done!\n"
     ]
    }
   ],
   "source": [
    "friends = [\"Damian\", \"Mat\", \"Kon\"]\n",
    "for x in friends:\n",
    "    print(\"Happy New Year\", x + \"!\")\n",
    "print(\"Done!\")"
   ]
  },
  {
   "cell_type": "markdown",
   "id": "aa395daf-5eb8-436b-b248-dd4f57b3162c",
   "metadata": {},
   "source": [
    "### Finding the largest value"
   ]
  },
  {
   "cell_type": "code",
   "execution_count": 28,
   "id": "7670bcb4-fed3-4e66-ab1f-ca035e4ed689",
   "metadata": {},
   "outputs": [
    {
     "name": "stdout",
     "output_type": "stream",
     "text": [
      "Before the loop: let's begin with -1\n",
      "9 9\n",
      "56 56\n",
      "97 97\n",
      "97 45\n",
      "97 15\n",
      "99 99\n",
      "99 27\n",
      "After the loop: the largest number in the set is 99\n"
     ]
    }
   ],
   "source": [
    "largest_so_far = -1\n",
    "print(\"Before the loop: let's begin with\", largest_so_far)\n",
    "for x in [9, 56, 97, 45, 15, 99, 27]:\n",
    "    if x > largest_so_far:\n",
    "        largest_so_far=x\n",
    "    print(largest_so_far, x)\n",
    "print(\"After the loop: the largest number in the set is\", largest_so_far)"
   ]
  },
  {
   "cell_type": "markdown",
   "id": "cd4b3c4f-96b9-429c-9b24-bf861ea46508",
   "metadata": {},
   "source": [
    "### Counting in a loop"
   ]
  },
  {
   "cell_type": "markdown",
   "id": "49cb6b2b-6a82-4172-8cc1-2c13cb6c9893",
   "metadata": {},
   "source": [
    "To count in the loop we introduce a __counter variable__ that starts at 0 and we add one to it each time through the loop."
   ]
  },
  {
   "cell_type": "code",
   "execution_count": 34,
   "id": "9e2df556-1b80-4348-be42-ac45abf3545e",
   "metadata": {},
   "outputs": [
    {
     "name": "stdout",
     "output_type": "stream",
     "text": [
      "Before the loop 0\n",
      "1 9\n",
      "2 56\n",
      "3 97\n",
      "4 45\n",
      "5 15\n",
      "6 99\n",
      "7 27\n",
      "After the loop: the sum is 7\n"
     ]
    }
   ],
   "source": [
    "n = 0\n",
    "print(\"Before the loop\", n)\n",
    "for x in [9, 56, 97, 45, 15, 99, 27]:\n",
    "    n = n +1\n",
    "    print(n, x)\n",
    "print(\"After the loop: the COUNT is\", n)\n",
    "    "
   ]
  },
  {
   "cell_type": "markdown",
   "id": "7351c2de-4af9-4845-82b5-8d7a32837db1",
   "metadata": {},
   "source": [
    "### Summing in a loop"
   ]
  },
  {
   "cell_type": "code",
   "execution_count": 36,
   "id": "00d41911-354b-402f-a3ff-d1cf40e16f1d",
   "metadata": {},
   "outputs": [
    {
     "name": "stdout",
     "output_type": "stream",
     "text": [
      "Before the loop 0\n",
      "9 9\n",
      "56 65\n",
      "97 162\n",
      "45 207\n",
      "15 222\n",
      "99 321\n",
      "27 348\n",
      "After the loop: the SUM is 348\n"
     ]
    }
   ],
   "source": [
    "n = 0\n",
    "print(\"Before the loop\", n)\n",
    "for x in [9, 56, 97, 45, 15, 99, 27]:\n",
    "    n = n + x\n",
    "    print(x, n)\n",
    "print(\"After the loop: the SUM is\", n)\n",
    "    \n"
   ]
  },
  {
   "cell_type": "markdown",
   "id": "570c1722-b51a-4a74-8085-61e36d93f5f8",
   "metadata": {},
   "source": [
    "### Finding an average in the loop"
   ]
  },
  {
   "cell_type": "code",
   "execution_count": 41,
   "id": "e7df6403-0d9b-485e-b52f-fe9b357a9b39",
   "metadata": {},
   "outputs": [
    {
     "name": "stdout",
     "output_type": "stream",
     "text": [
      "Before the loop 0 0\n",
      "1 9 9\n",
      "2 65 56\n",
      "3 162 97\n",
      "4 207 45\n",
      "5 222 15\n",
      "6 321 99\n",
      "7 348 27\n",
      "After the loop: COUNT, SUM and AVERAGE are: 7 348 49.714285714285715\n"
     ]
    }
   ],
   "source": [
    "count = 0\n",
    "sum_ = 0\n",
    "print(\"Before the loop\", count, sum_)\n",
    "for x in [9, 56, 97, 45, 15, 99, 27]:\n",
    "    count = count + 1\n",
    "    sum_ = sum_ + x\n",
    "    print(count, sum_, x)\n",
    "print(\"After the loop: COUNT, SUM and AVERAGE are:\", count, sum_, sum_/count)"
   ]
  },
  {
   "cell_type": "markdown",
   "id": "5ba7a0fb-df39-4b91-989b-bdd7d298fe71",
   "metadata": {},
   "source": [
    "### Filtering in a loop"
   ]
  },
  {
   "cell_type": "markdown",
   "id": "dda37acf-a735-421f-8cb2-0c58be61a615",
   "metadata": {},
   "source": [
    "We use an IF statement in the loop to catch / filter the values we are lookig for (e.g. searching for large numbers in a list of numbers)."
   ]
  },
  {
   "cell_type": "code",
   "execution_count": 43,
   "id": "52c558b8-ffaf-41bc-af94-4abd2705a1f6",
   "metadata": {},
   "outputs": [
    {
     "name": "stdout",
     "output_type": "stream",
     "text": [
      "Before the loop: the following numbers in the set are larger than 20:\n",
      "Large number: 56\n",
      "Large number: 97\n",
      "Large number: 45\n",
      "Large number: 99\n",
      "Large number: 27\n",
      "After the loop\n"
     ]
    }
   ],
   "source": [
    "print(\"Before the loop: the following numbers in the set are larger than 20:\")\n",
    "for x in [9, 56, 97, 45, 15, 99, 27]:\n",
    "    if x > 20:\n",
    "        print(\"Large number:\", x)\n",
    "print(\"After the loop\")"
   ]
  },
  {
   "cell_type": "markdown",
   "id": "556a8c3e-f2bf-40b4-a089-8f8f93206a9d",
   "metadata": {},
   "source": [
    "### Search using a Boolean variable"
   ]
  },
  {
   "cell_type": "markdown",
   "id": "f5042d3a-b925-41ac-9def-96f6fba02cb1",
   "metadata": {},
   "source": [
    "If we just want to know if the value was found, we use a variable that starts at FALSE and is set to TRUE as soon as we find what we are looking for."
   ]
  },
  {
   "cell_type": "markdown",
   "id": "99fa5e8c-e1a7-43b5-a135-5ed6532c27ec",
   "metadata": {},
   "source": [
    "found = False\n",
    "print(\"Before the loop: finding a value:\", found)\n",
    "for x in [9, 56, 97, 45, 15, 99, 27]:\n",
    "    if x == 15:\n",
    "        found = True\n",
    "    print(found, x)\n",
    "print(\"After the loop: the value was found:\", found)"
   ]
  },
  {
   "cell_type": "markdown",
   "id": "2bdea25e-1fc3-45fa-8ad1-6d2701731edb",
   "metadata": {},
   "source": [
    "### Finding the smallest value"
   ]
  },
  {
   "cell_type": "code",
   "execution_count": 55,
   "id": "bba0f45c-34b5-41e9-9f02-a2e2291ec87a",
   "metadata": {},
   "outputs": [
    {
     "name": "stdout",
     "output_type": "stream",
     "text": [
      "Before the loop: let's begin with 100000\n",
      "9 9\n",
      "9 56\n",
      "9 97\n",
      "9 45\n",
      "9 15\n",
      "9 99\n",
      "2 2\n",
      "2 27\n",
      "After the loop: the smallest number in the set is 2\n"
     ]
    }
   ],
   "source": [
    "smallest_so_far = 100000\n",
    "print(\"Before the loop: let's begin with\", smallest_so_far)\n",
    "for x in [9, 56, 97, 45, 15, 99, 2, 27]:\n",
    "    if x < smallest_so_far:\n",
    "        smallest_so_far=x\n",
    "    print(smallest_so_far, x)\n",
    "print(\"After the loop: the smallest number in the set is\", smallest_so_far)"
   ]
  },
  {
   "cell_type": "markdown",
   "id": "aabb5028-6e52-4e2e-8276-aafa838e9c49",
   "metadata": {},
   "source": [
    "__NONE type variable__ should be used in this loop instead of a random large number at the beginning as a __flag value__- to make sure our loop works correctly with any sets of numbers, no matter how small. <br>\n",
    "<br>\n",
    "IS / IS NOT operators can be used with logical expressions. IS implies \"the same as\", is similar to but stronger than =="
   ]
  },
  {
   "cell_type": "code",
   "execution_count": 57,
   "id": "1814354b-85e7-4d19-9bfc-51d2eb61f816",
   "metadata": {},
   "outputs": [
    {
     "name": "stdout",
     "output_type": "stream",
     "text": [
      "Before the loop: let's begin with None\n",
      "9 9\n",
      "9 56\n",
      "9 97\n",
      "9 45\n",
      "9 15\n",
      "9 99\n",
      "2 2\n",
      "2 27\n",
      "After the loop: the smallest number in the set is 2\n"
     ]
    }
   ],
   "source": [
    "smallest_so_far = None\n",
    "print(\"Before the loop: let's begin with\", smallest_so_far)\n",
    "for x in [9, 56, 97, 45, 15, 99, 2, 27]:\n",
    "    if smallest_so_far is None:\n",
    "        smallest_so_far=x\n",
    "    elif x < smallest_so_far:\n",
    "        smallest_so_far=x\n",
    "    print(smallest_so_far, x)\n",
    "print(\"After the loop: the smallest number in the set is\", smallest_so_far)"
   ]
  }
 ],
 "metadata": {
  "kernelspec": {
   "display_name": "Bea00",
   "language": "python",
   "name": "python3"
  },
  "language_info": {
   "codemirror_mode": {
    "name": "ipython",
    "version": 3
   },
   "file_extension": ".py",
   "mimetype": "text/x-python",
   "name": "python",
   "nbconvert_exporter": "python",
   "pygments_lexer": "ipython3",
   "version": "3.12.7"
  }
 },
 "nbformat": 4,
 "nbformat_minor": 5
}

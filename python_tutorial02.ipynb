{
 "cells": [
  {
   "cell_type": "markdown",
   "metadata": {},
   "source": [
    "Beata Sirowy"
   ]
  },
  {
   "cell_type": "markdown",
   "metadata": {},
   "source": [
    "# **Python demo: <br> processing files**\n"
   ]
  },
  {
   "cell_type": "markdown",
   "metadata": {},
   "source": [
    "## Opening the file\n"
   ]
  },
  {
   "cell_type": "markdown",
   "metadata": {},
   "source": [
    "The function open() creates a \"file handle\" opening the file for reading. It can be treatred as a sequence of strings where each line in the file is a string in the sequence.\n",
    "\n",
    "We can use the \"for\" statement to iterate through a sequence.\n"
   ]
  },
  {
   "cell_type": "code",
   "execution_count": 1,
   "metadata": {},
   "outputs": [],
   "source": [
    "document=open(r\"C:\\Users\\Beata\\Documents\\Python Scripts\\mbox-short.txt\")"
   ]
  },
  {
   "cell_type": "code",
   "execution_count": 2,
   "metadata": {},
   "outputs": [
    {
     "name": "stdout",
     "output_type": "stream",
     "text": [
      "<_io.TextIOWrapper name='C:\\\\Users\\\\Beata\\\\Documents\\\\Python Scripts\\\\mbox-short.txt' mode='r' encoding='utf-8'>\n"
     ]
    }
   ],
   "source": [
    "print(document)"
   ]
  },
  {
   "cell_type": "markdown",
   "metadata": {},
   "source": [
    "Printing the first 10 lines in the document (including whitespace)"
   ]
  },
  {
   "cell_type": "code",
   "execution_count": 7,
   "metadata": {},
   "outputs": [
    {
     "name": "stdout",
     "output_type": "stream",
     "text": [
      "\tBY holes.mr.itd.umich.edu ID 477F90B0.2DB2F.12494 ; \n",
      "\n",
      "\t 5 Jan 2008 09:14:10 -0500\n",
      "\n",
      "Received: from paploo.uhi.ac.uk (localhost [127.0.0.1])\n",
      "\n",
      "\tby paploo.uhi.ac.uk (Postfix) with ESMTP id 5F919BC2F2;\n",
      "\n",
      "\tSat,  5 Jan 2008 14:10:05 +0000 (GMT)\n",
      "\n"
     ]
    }
   ],
   "source": [
    "index = 0\n",
    "for x in document:\n",
    "    if index >= 10:\n",
    "        break\n",
    "    print(x) \n",
    "    index = index + 1"
   ]
  },
  {
   "cell_type": "markdown",
   "metadata": {},
   "source": [
    "Getting rid of whitespace"
   ]
  },
  {
   "cell_type": "code",
   "execution_count": 5,
   "metadata": {},
   "outputs": [
    {
     "name": "stdout",
     "output_type": "stream",
     "text": [
      "From stephen.marquard@uct.ac.za Sat Jan  5 09:14:16 2008\n",
      "Return-Path: <postmaster@collab.sakaiproject.org>\n",
      "Received: from murder (mail.umich.edu [141.211.14.90])\n",
      "\t by frankenstein.mail.umich.edu (Cyrus v2.3.8) with LMTPA;\n",
      "\t Sat, 05 Jan 2008 09:14:16 -0500\n",
      "X-Sieve: CMU Sieve 2.3\n",
      "Received: from murder ([unix socket])\n",
      "\t by mail.umich.edu (Cyrus v2.2.12) with LMTPA;\n",
      "\t Sat, 05 Jan 2008 09:14:16 -0500\n",
      "Received: from holes.mr.itd.umich.edu (holes.mr.itd.umich.edu [141.211.14.79])\n"
     ]
    }
   ],
   "source": [
    "document=open(r\"C:\\Users\\Beata\\Documents\\Python Scripts\\mbox-short.txt\")\n",
    "index = 0\n",
    "for x in document:\n",
    "    if index >= 10:\n",
    "        break\n",
    "    y = x.rstrip()\n",
    "    print(y) \n",
    "    index = index + 1"
   ]
  },
  {
   "cell_type": "markdown",
   "metadata": {},
   "source": [
    "### Counting lines in a file"
   ]
  },
  {
   "cell_type": "code",
   "execution_count": 11,
   "metadata": {},
   "outputs": [
    {
     "name": "stdout",
     "output_type": "stream",
     "text": [
      "Line Count: 1910\n"
     ]
    }
   ],
   "source": [
    "document=open(r\"C:\\Users\\Beata\\Documents\\Python Scripts\\mbox-short.txt\")\n",
    "count = 0\n",
    "for x in document:\n",
    "    count = count +1\n",
    "print('Line Count:', count)"
   ]
  },
  {
   "cell_type": "markdown",
   "metadata": {},
   "source": [
    "### Reading the whole file into a single string"
   ]
  },
  {
   "cell_type": "code",
   "execution_count": 13,
   "metadata": {},
   "outputs": [
    {
     "name": "stdout",
     "output_type": "stream",
     "text": [
      "94626\n",
      "From stephen.marquar\n"
     ]
    }
   ],
   "source": [
    "document=open(r\"C:\\Users\\Beata\\Documents\\Python Scripts\\mbox-short.txt\")\n",
    "inp = document.read()\n",
    "print(len(inp))\n",
    "print (inp[:20])"
   ]
  },
  {
   "cell_type": "markdown",
   "metadata": {},
   "source": [
    "### Searching through a file"
   ]
  },
  {
   "cell_type": "markdown",
   "metadata": {},
   "source": [
    "Printing lines that meet certain criteria"
   ]
  },
  {
   "cell_type": "code",
   "execution_count": 1,
   "metadata": {},
   "outputs": [
    {
     "name": "stdout",
     "output_type": "stream",
     "text": [
      "From: cwen@iupui.edu\n",
      "\n",
      "From: cwen@iupui.edu\n",
      "\n",
      "From: cwen@iupui.edu\n",
      "\n",
      "From: cwen@iupui.edu\n",
      "\n",
      "From: cwen@iupui.edu\n",
      "\n"
     ]
    }
   ],
   "source": [
    "document=open(r\"C:\\Users\\Beata\\Documents\\Python Scripts\\mbox-short.txt\")\n",
    "for x in document:\n",
    "    if x.startswith('From: c'):\n",
    "        print(x)"
   ]
  },
  {
   "cell_type": "markdown",
   "metadata": {},
   "source": [
    "We can strip the whitespace from the right-hand side of the string using rstrip() from the string library. The newline (\\n) is considered \"white space\" and is stripped."
   ]
  },
  {
   "cell_type": "code",
   "execution_count": 2,
   "metadata": {},
   "outputs": [
    {
     "name": "stdout",
     "output_type": "stream",
     "text": [
      "From cwen@iupui.edu Fri Jan  4 11:37:30 2008\n",
      "From cwen@iupui.edu Fri Jan  4 11:35:08 2008\n",
      "From cwen@iupui.edu Thu Jan  3 16:34:40 2008\n",
      "From cwen@iupui.edu Thu Jan  3 16:29:07 2008\n",
      "From cwen@iupui.edu Thu Jan  3 16:23:48 2008\n"
     ]
    }
   ],
   "source": [
    "document=open(r\"C:\\Users\\Beata\\Documents\\Python Scripts\\mbox-short.txt\")\n",
    "for x in document:\n",
    "    x = x.rstrip()\n",
    "    if x.startswith('From c'):\n",
    "        print(x)\n",
    "                    "
   ]
  },
  {
   "cell_type": "markdown",
   "metadata": {},
   "source": [
    "The same output with a different statement"
   ]
  },
  {
   "cell_type": "code",
   "execution_count": 3,
   "metadata": {},
   "outputs": [
    {
     "name": "stdout",
     "output_type": "stream",
     "text": [
      "From cwen@iupui.edu Fri Jan  4 11:37:30 2008\n",
      "From cwen@iupui.edu Fri Jan  4 11:35:08 2008\n",
      "From cwen@iupui.edu Thu Jan  3 16:34:40 2008\n",
      "From cwen@iupui.edu Thu Jan  3 16:29:07 2008\n",
      "From cwen@iupui.edu Thu Jan  3 16:23:48 2008\n"
     ]
    }
   ],
   "source": [
    "document=open(r\"C:\\Users\\Beata\\Documents\\Python Scripts\\mbox-short.txt\")\n",
    "for x in document:\n",
    "    x = x.rstrip()\n",
    "    if not x.startswith('From c'):\n",
    "        continue\n",
    "    print(x)\n",
    "    "
   ]
  },
  {
   "cell_type": "markdown",
   "metadata": {},
   "source": [
    "Looking for a string anywhere in a line "
   ]
  },
  {
   "cell_type": "code",
   "execution_count": 38,
   "metadata": {},
   "outputs": [
    {
     "name": "stdout",
     "output_type": "stream",
     "text": [
      "\n"
     ]
    }
   ],
   "source": [
    "document=open(r\"C:\\Users\\Beata\\Documents\\Python Scripts\\mbox-short.txt\")\n",
    "for x in document:\n",
    "    x = x.rstrip()\n",
    "    if not 'uct' in x:\n",
    "        continue\n",
    "print(x)"
   ]
  },
  {
   "cell_type": "markdown",
   "metadata": {},
   "source": [
    "Counting specific line in a file."
   ]
  },
  {
   "cell_type": "code",
   "execution_count": 1,
   "metadata": {},
   "outputs": [
    {
     "name": "stdout",
     "output_type": "stream",
     "text": [
      "There were 27 subject lines in C:\\Users\\Beata\\Documents\\Python Scripts\\mbox-short.txt\n"
     ]
    }
   ],
   "source": [
    "fname=(r\"C:\\Users\\Beata\\Documents\\Python Scripts\\mbox-short.txt\")\n",
    "try:\n",
    "    doc = open(fname)\n",
    "except: \n",
    "    print('File cannot be opened:', fname)\n",
    "    quit()\n",
    "count = 0\n",
    "for x in doc:\n",
    "    if x.startswith('Subject'):\n",
    "        count = count + 1\n",
    "print('There were', count, 'subject lines in', fname)"
   ]
  }
 ],
 "metadata": {
  "kernelspec": {
   "display_name": "Bea00",
   "language": "python",
   "name": "python3"
  },
  "language_info": {
   "codemirror_mode": {
    "name": "ipython",
    "version": 3
   },
   "file_extension": ".py",
   "mimetype": "text/x-python",
   "name": "python",
   "nbconvert_exporter": "python",
   "pygments_lexer": "ipython3",
   "version": "3.12.7"
  }
 },
 "nbformat": 4,
 "nbformat_minor": 2
}

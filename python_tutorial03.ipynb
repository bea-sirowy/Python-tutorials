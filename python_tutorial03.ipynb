{
 "cells": [
  {
   "cell_type": "markdown",
   "metadata": {},
   "source": [
    "Beata Sirowy\n",
    "# __Python demo: lists, dictonaries and tuples__"
   ]
  },
  {
   "cell_type": "markdown",
   "metadata": {},
   "source": [
    "## Lists\n",
    "A list is a \"collection\" variable type- allows us to put many values in a single \"variable\".\n",
    "A list element can be any Python object - even another list\n",
    "A list can be empty.\n",
    "\n",
    "examples: \n",
    "friends = [\"John\", \"Sue\", \"Ann\"]\n",
    "x = ['yellow', 24, [6, 7],  97.6]\n",
    "y = []\n",
    " "
   ]
  },
  {
   "cell_type": "code",
   "execution_count": 2,
   "metadata": {},
   "outputs": [
    {
     "name": "stdout",
     "output_type": "stream",
     "text": [
      "yellow\n",
      "24\n",
      "[6, 7]\n",
      "97.6\n"
     ]
    }
   ],
   "source": [
    "for i in ['yellow', 24, [6, 7],  97.6]:\n",
    "    print(i)   "
   ]
  },
  {
   "cell_type": "code",
   "execution_count": 4,
   "metadata": {},
   "outputs": [
    {
     "name": "stdout",
     "output_type": "stream",
     "text": [
      "Happy Birthday, John!\n",
      "Happy Birthday, Sue!\n",
      "Happy Birthday, Ann!\n"
     ]
    }
   ],
   "source": [
    "friends = [\"John\", \"Sue\", \"Ann\"]\n",
    "for x in friends:\n",
    "    print('Happy Birthday,', x+'!')"
   ]
  },
  {
   "cell_type": "markdown",
   "metadata": {},
   "source": [
    "Like with strings, we can get a single element of a list using an index specified in square brackets. \n"
   ]
  },
  {
   "cell_type": "code",
   "execution_count": 11,
   "metadata": {},
   "outputs": [
    {
     "name": "stdout",
     "output_type": "stream",
     "text": [
      "John\n"
     ]
    }
   ],
   "source": [
    "friends = [\"John\", \"Sue\", \"Ann\"]\n",
    "print(friends[0])"
   ]
  },
  {
   "cell_type": "markdown",
   "metadata": {},
   "source": [
    "__Lists are mutable__ - we can change an element of a list using the index operator.\n",
    "Strings are immutable - we must create a new string to make any change.\n"
   ]
  },
  {
   "cell_type": "code",
   "execution_count": 14,
   "metadata": {},
   "outputs": [
    {
     "name": "stdout",
     "output_type": "stream",
     "text": [
      "[2, 6, 23, 34, 54]\n",
      "[2, 6, 30, 34, 54]\n"
     ]
    }
   ],
   "source": [
    "lotto = [2, 6, 23, 34, 54]\n",
    "print(lotto)\n",
    "lotto[2] = 30\n",
    "print(lotto)\n"
   ]
  },
  {
   "cell_type": "markdown",
   "metadata": {},
   "source": [
    "We can get __the length of a list__ with len() function - returns the number of elements. This function works also with any other set or sequence (such as a atring..)"
   ]
  },
  {
   "cell_type": "code",
   "execution_count": 16,
   "metadata": {},
   "outputs": [
    {
     "data": {
      "text/plain": [
       "3"
      ]
     },
     "execution_count": 16,
     "metadata": {},
     "output_type": "execute_result"
    }
   ],
   "source": [
    "friends = [\"John\", \"Sue\", \"Ann\"]\n",
    "len(friends)"
   ]
  },
  {
   "cell_type": "markdown",
   "metadata": {},
   "source": [
    "__The range function__ returns a list of numbers that range from 0 to one less than the parameter. We can use it to construct an index loop using for and an integer iterator. "
   ]
  },
  {
   "cell_type": "code",
   "execution_count": 3,
   "metadata": {},
   "outputs": [
    {
     "name": "stdout",
     "output_type": "stream",
     "text": [
      "0\n",
      "1\n",
      "2\n",
      "3\n"
     ]
    }
   ],
   "source": [
    "\n",
    "x = range(4)\n",
    "for b in x:\n",
    "    print(b)\n",
    "\n"
   ]
  },
  {
   "cell_type": "code",
   "execution_count": 5,
   "metadata": {},
   "outputs": [
    {
     "name": "stdout",
     "output_type": "stream",
     "text": [
      "4\n",
      "5\n",
      "6\n",
      "7\n",
      "8\n"
     ]
    }
   ],
   "source": [
    "x = range(4, 9)\n",
    "for b in x:\n",
    "    print(b)"
   ]
  },
  {
   "cell_type": "markdown",
   "metadata": {},
   "source": [
    "It is possible to specify an increment . the last number."
   ]
  },
  {
   "cell_type": "code",
   "execution_count": 6,
   "metadata": {},
   "outputs": [
    {
     "name": "stdout",
     "output_type": "stream",
     "text": [
      "4\n",
      "6\n",
      "8\n"
     ]
    }
   ],
   "source": [
    "x = range(4, 9, 2)\n",
    "for b in x:\n",
    "    print(b)"
   ]
  },
  {
   "cell_type": "markdown",
   "metadata": {},
   "source": [
    "## Manipulating lists"
   ]
  },
  {
   "cell_type": "markdown",
   "metadata": {},
   "source": [
    "__Concatenating__ lists using +"
   ]
  },
  {
   "cell_type": "code",
   "execution_count": 12,
   "metadata": {},
   "outputs": [
    {
     "name": "stdout",
     "output_type": "stream",
     "text": [
      "[1, 5, 8, 6, 9, 12]\n",
      "[1, 5, 8, 6, 9, 12, 'cat', 'dog', 'parrot']\n"
     ]
    }
   ],
   "source": [
    "a = [1, 5, 8]\n",
    "b = [6, 9, 12]\n",
    "c = ['cat', 'dog', 'parrot']\n",
    "print (a +b)\n",
    "print(a+b+c)"
   ]
  },
  {
   "cell_type": "markdown",
   "metadata": {},
   "source": [
    "__Slicing operator__ the second number is \"up to but not including\""
   ]
  },
  {
   "cell_type": "code",
   "execution_count": 19,
   "metadata": {},
   "outputs": [
    {
     "name": "stdout",
     "output_type": "stream",
     "text": [
      "[8, 6, 9]\n",
      "[1, 5, 8, 6]\n",
      "[8, 6, 9, 12]\n",
      "['dog']\n",
      "['cat', 'dog', 'parrot']\n"
     ]
    }
   ],
   "source": [
    "a = [1, 5, 8, 6, 9, 12]\n",
    "b = ['cat', 'dog', 'parrot']\n",
    "\n",
    "print(a[2:5])\n",
    "print(a[:4])\n",
    "print(a[2:])\n",
    "print(b[1:2])\n",
    "print(b[:])"
   ]
  },
  {
   "cell_type": "markdown",
   "metadata": {},
   "source": [
    "There are many functions that can be used with list: e.g. append, count, extend, index, insert, pop, remove, reverse, sort"
   ]
  },
  {
   "cell_type": "code",
   "execution_count": 22,
   "metadata": {},
   "outputs": [
    {
     "data": {
      "text/plain": [
       "['__add__',\n",
       " '__class__',\n",
       " '__class_getitem__',\n",
       " '__contains__',\n",
       " '__delattr__',\n",
       " '__delitem__',\n",
       " '__dir__',\n",
       " '__doc__',\n",
       " '__eq__',\n",
       " '__format__',\n",
       " '__ge__',\n",
       " '__getattribute__',\n",
       " '__getitem__',\n",
       " '__getstate__',\n",
       " '__gt__',\n",
       " '__hash__',\n",
       " '__iadd__',\n",
       " '__imul__',\n",
       " '__init__',\n",
       " '__init_subclass__',\n",
       " '__iter__',\n",
       " '__le__',\n",
       " '__len__',\n",
       " '__lt__',\n",
       " '__mul__',\n",
       " '__ne__',\n",
       " '__new__',\n",
       " '__reduce__',\n",
       " '__reduce_ex__',\n",
       " '__repr__',\n",
       " '__reversed__',\n",
       " '__rmul__',\n",
       " '__setattr__',\n",
       " '__setitem__',\n",
       " '__sizeof__',\n",
       " '__str__',\n",
       " '__subclasshook__',\n",
       " 'append',\n",
       " 'clear',\n",
       " 'copy',\n",
       " 'count',\n",
       " 'extend',\n",
       " 'index',\n",
       " 'insert',\n",
       " 'pop',\n",
       " 'remove',\n",
       " 'reverse',\n",
       " 'sort']"
      ]
     },
     "execution_count": 22,
     "metadata": {},
     "output_type": "execute_result"
    }
   ],
   "source": [
    "x = list()\n",
    "type(x)\n",
    "dir(x)\n"
   ]
  }
 ],
 "metadata": {
  "kernelspec": {
   "display_name": "Bea00",
   "language": "python",
   "name": "python3"
  },
  "language_info": {
   "codemirror_mode": {
    "name": "ipython",
    "version": 3
   },
   "file_extension": ".py",
   "mimetype": "text/x-python",
   "name": "python",
   "nbconvert_exporter": "python",
   "pygments_lexer": "ipython3",
   "version": "3.12.7"
  }
 },
 "nbformat": 4,
 "nbformat_minor": 2
}

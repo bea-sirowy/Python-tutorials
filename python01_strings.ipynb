{
 "cells": [
  {
   "cell_type": "markdown",
   "id": "05f6fbce",
   "metadata": {},
   "source": [
    "Beata Sirowy"
   ]
  },
  {
   "cell_type": "markdown",
   "id": "f5c778cc-f033-4bb0-8cd4-51f8618efbea",
   "metadata": {},
   "source": [
    "# __Python demo: strings__"
   ]
  },
  {
   "cell_type": "markdown",
   "id": "5b466773",
   "metadata": {},
   "source": [
    "Based on Severance, Ch. (2016) _Python for Everybody. Exploring Data in Python 3_"
   ]
  },
  {
   "cell_type": "markdown",
   "id": "98ff79e4-bc8c-463d-9ca9-7f9f73015899",
   "metadata": {},
   "source": [
    "## An overview"
   ]
  },
  {
   "cell_type": "markdown",
   "id": "148fe832-7ab1-4851-84b4-56538d647adf",
   "metadata": {},
   "source": [
    "Strings have indexable data within.\n",
    "\n",
    "Using a \"while\" statement, an iteration variable, and the len functions we can construct a loop to look at each letter in a string individually.\n",
    "\n"
   ]
  },
  {
   "cell_type": "code",
   "execution_count": 71,
   "id": "9d213d82-f669-489a-a28a-e1d6700dca9d",
   "metadata": {},
   "outputs": [
    {
     "name": "stdout",
     "output_type": "stream",
     "text": [
      "0 b\n",
      "1 a\n",
      "2 n\n",
      "3 a\n",
      "4 n\n",
      "5 a\n"
     ]
    }
   ],
   "source": [
    "x = 'banana'\n",
    "index = 0\n",
    "while index < len(x):\n",
    "    letter = x[index]\n",
    "    print(index, letter)\n",
    "    index = index + 1"
   ]
  },
  {
   "cell_type": "markdown",
   "id": "759e181e-6a0e-4732-8e3e-d01c2a1ef832",
   "metadata": {},
   "source": [
    "A definite loop using \"for\" statement is more convenient - the iteration variable is taken care of by the loop"
   ]
  },
  {
   "cell_type": "code",
   "execution_count": 70,
   "id": "a6e082f1-c601-41cd-a431-69a6ebf3592f",
   "metadata": {},
   "outputs": [
    {
     "name": "stdout",
     "output_type": "stream",
     "text": [
      "b\n",
      "a\n",
      "n\n",
      "a\n",
      "n\n",
      "a\n"
     ]
    }
   ],
   "source": [
    "x = 'banana'\n",
    "for y in x:\n",
    "    print(y)"
   ]
  },
  {
   "cell_type": "markdown",
   "id": "674072f1-5afa-4e4d-bd19-5bfd452b1d5a",
   "metadata": {},
   "source": [
    "### Looping and counting"
   ]
  },
  {
   "cell_type": "markdown",
   "id": "1a3346f7-4a53-4841-9c16-ab9cb213425e",
   "metadata": {},
   "source": [
    "Counting letters \"a\""
   ]
  },
  {
   "cell_type": "markdown",
   "id": "15958dbf-f976-4e15-8e82-314479163cb8",
   "metadata": {},
   "source": [
    "## Slicing strings"
   ]
  },
  {
   "cell_type": "markdown",
   "id": "0a3a4d47-affb-4e01-95c6-3af08017390d",
   "metadata": {},
   "source": [
    "The first number is included, the second is \"up to but not including\". If the second number is beyond the string, it stops at the end."
   ]
  },
  {
   "cell_type": "code",
   "execution_count": 76,
   "id": "a722544a-85c8-40ee-9dcb-8f8095dc3776",
   "metadata": {},
   "outputs": [
    {
     "name": "stdout",
     "output_type": "stream",
     "text": [
      "App\n"
     ]
    }
   ],
   "source": [
    "x = 'Apples and bananas'\n",
    "print(x[0:3])"
   ]
  },
  {
   "cell_type": "code",
   "execution_count": 80,
   "id": "1ca1b875-7d9e-4418-8e29-790bde62b3aa",
   "metadata": {},
   "outputs": [
    {
     "name": "stdout",
     "output_type": "stream",
     "text": [
      "a\n"
     ]
    }
   ],
   "source": [
    "print(x[7:8])"
   ]
  },
  {
   "cell_type": "code",
   "execution_count": 81,
   "id": "112e068b-4d29-4c49-8606-72994113cf85",
   "metadata": {},
   "outputs": [
    {
     "name": "stdout",
     "output_type": "stream",
     "text": [
      "and bananas\n"
     ]
    }
   ],
   "source": [
    "print(x[7:20])"
   ]
  },
  {
   "cell_type": "code",
   "execution_count": 83,
   "id": "6797388d-02c6-49e7-9755-d64cc0c1da56",
   "metadata": {},
   "outputs": [
    {
     "name": "stdout",
     "output_type": "stream",
     "text": [
      "Ap\n"
     ]
    }
   ],
   "source": [
    "print(x[:2])"
   ]
  },
  {
   "cell_type": "code",
   "execution_count": 84,
   "id": "aab1d4f0-06fb-42e8-8754-cbc45404118c",
   "metadata": {},
   "outputs": [
    {
     "name": "stdout",
     "output_type": "stream",
     "text": [
      "nd bananas\n"
     ]
    }
   ],
   "source": [
    "print(x[8:])"
   ]
  },
  {
   "cell_type": "code",
   "execution_count": 85,
   "id": "194d1628-fcb8-405e-96f2-31093d5e0e80",
   "metadata": {},
   "outputs": [
    {
     "name": "stdout",
     "output_type": "stream",
     "text": [
      "Apples and bananas\n"
     ]
    }
   ],
   "source": [
    "print(x[:])"
   ]
  },
  {
   "cell_type": "markdown",
   "id": "6e4cdb1d-c397-4b1b-9b1b-e28188684e4f",
   "metadata": {},
   "source": [
    "### String Concatenation"
   ]
  },
  {
   "cell_type": "code",
   "execution_count": 88,
   "id": "e0a7da74-55ba-46de-9bb6-5ef9456075de",
   "metadata": {},
   "outputs": [
    {
     "name": "stdout",
     "output_type": "stream",
     "text": [
      "Hi There\n"
     ]
    }
   ],
   "source": [
    "a = \"Hi\"\n",
    "b = \" \"\n",
    "c = \"There\"\n",
    "print(a + b + c)"
   ]
  },
  {
   "cell_type": "markdown",
   "id": "42cd78b7-252f-4b29-ae90-014960803cc9",
   "metadata": {},
   "source": [
    "## Using \"in\" as a logical operator"
   ]
  },
  {
   "cell_type": "code",
   "execution_count": 90,
   "id": "d619a80c-b475-46e9-9032-d3055cfd1d7e",
   "metadata": {},
   "outputs": [
    {
     "data": {
      "text/plain": [
       "True"
      ]
     },
     "execution_count": 90,
     "metadata": {},
     "output_type": "execute_result"
    }
   ],
   "source": [
    "x = 'banana'\n",
    "'n' in x"
   ]
  },
  {
   "cell_type": "code",
   "execution_count": 93,
   "id": "3ace1bd5-e7ef-49aa-bfea-7972c3d1204e",
   "metadata": {},
   "outputs": [
    {
     "name": "stdout",
     "output_type": "stream",
     "text": [
      "I found it!\n"
     ]
    }
   ],
   "source": [
    "if 'a' in x:\n",
    "    print('I found it!')\n"
   ]
  },
  {
   "cell_type": "markdown",
   "id": "9f6de756-e25b-4175-8264-d438966031b0",
   "metadata": {},
   "source": [
    "## String functions"
   ]
  },
  {
   "cell_type": "code",
   "execution_count": 95,
   "id": "95883741-5b39-4d41-9500-d6f4f6bab5e9",
   "metadata": {},
   "outputs": [
    {
     "name": "stdout",
     "output_type": "stream",
     "text": [
      "hello bob\n"
     ]
    }
   ],
   "source": [
    "x = 'Hello Bob'\n",
    "y = x.lower()\n",
    "print(y)"
   ]
  },
  {
   "cell_type": "code",
   "execution_count": 98,
   "id": "a9e12f2e-b72e-40bc-93bb-b65b6eaafdc0",
   "metadata": {},
   "outputs": [
    {
     "name": "stdout",
     "output_type": "stream",
     "text": [
      "HELLO BOB\n"
     ]
    }
   ],
   "source": [
    "print('Hello Bob'.upper())"
   ]
  },
  {
   "cell_type": "code",
   "execution_count": 97,
   "id": "e511c758-ef15-43c6-8c5d-a65f96869c50",
   "metadata": {},
   "outputs": [
    {
     "data": {
      "text/plain": [
       "9"
      ]
     },
     "execution_count": 97,
     "metadata": {},
     "output_type": "execute_result"
    }
   ],
   "source": [
    "len('Hello Bob')"
   ]
  },
  {
   "cell_type": "code",
   "execution_count": 100,
   "id": "877b8033-18c5-46fb-afc0-6915dbde8eac",
   "metadata": {},
   "outputs": [
    {
     "data": {
      "text/plain": [
       "str"
      ]
     },
     "execution_count": 100,
     "metadata": {},
     "output_type": "execute_result"
    }
   ],
   "source": [
    "type('Hello Bob')"
   ]
  },
  {
   "cell_type": "markdown",
   "id": "974245ed-b01c-45b5-b986-fa2086aac795",
   "metadata": {},
   "source": [
    "The following command lists all in-built string methods/functions"
   ]
  },
  {
   "cell_type": "code",
   "execution_count": 101,
   "id": "8366b623-9a12-4ebe-8280-30e42b4df831",
   "metadata": {},
   "outputs": [
    {
     "data": {
      "text/plain": [
       "['__add__',\n",
       " '__class__',\n",
       " '__contains__',\n",
       " '__delattr__',\n",
       " '__dir__',\n",
       " '__doc__',\n",
       " '__eq__',\n",
       " '__format__',\n",
       " '__ge__',\n",
       " '__getattribute__',\n",
       " '__getitem__',\n",
       " '__getnewargs__',\n",
       " '__getstate__',\n",
       " '__gt__',\n",
       " '__hash__',\n",
       " '__init__',\n",
       " '__init_subclass__',\n",
       " '__iter__',\n",
       " '__le__',\n",
       " '__len__',\n",
       " '__lt__',\n",
       " '__mod__',\n",
       " '__mul__',\n",
       " '__ne__',\n",
       " '__new__',\n",
       " '__reduce__',\n",
       " '__reduce_ex__',\n",
       " '__repr__',\n",
       " '__rmod__',\n",
       " '__rmul__',\n",
       " '__setattr__',\n",
       " '__sizeof__',\n",
       " '__str__',\n",
       " '__subclasshook__',\n",
       " 'capitalize',\n",
       " 'casefold',\n",
       " 'center',\n",
       " 'count',\n",
       " 'encode',\n",
       " 'endswith',\n",
       " 'expandtabs',\n",
       " 'find',\n",
       " 'format',\n",
       " 'format_map',\n",
       " 'index',\n",
       " 'isalnum',\n",
       " 'isalpha',\n",
       " 'isascii',\n",
       " 'isdecimal',\n",
       " 'isdigit',\n",
       " 'isidentifier',\n",
       " 'islower',\n",
       " 'isnumeric',\n",
       " 'isprintable',\n",
       " 'isspace',\n",
       " 'istitle',\n",
       " 'isupper',\n",
       " 'join',\n",
       " 'ljust',\n",
       " 'lower',\n",
       " 'lstrip',\n",
       " 'maketrans',\n",
       " 'partition',\n",
       " 'removeprefix',\n",
       " 'removesuffix',\n",
       " 'replace',\n",
       " 'rfind',\n",
       " 'rindex',\n",
       " 'rjust',\n",
       " 'rpartition',\n",
       " 'rsplit',\n",
       " 'rstrip',\n",
       " 'split',\n",
       " 'splitlines',\n",
       " 'startswith',\n",
       " 'strip',\n",
       " 'swapcase',\n",
       " 'title',\n",
       " 'translate',\n",
       " 'upper',\n",
       " 'zfill']"
      ]
     },
     "execution_count": 101,
     "metadata": {},
     "output_type": "execute_result"
    }
   ],
   "source": [
    "dir('Hello Bob')"
   ]
  },
  {
   "cell_type": "markdown",
   "id": "f4f1d628-2806-4d3e-b11d-36392e2825b5",
   "metadata": {},
   "source": [
    "### String library - examples"
   ]
  },
  {
   "cell_type": "code",
   "execution_count": 104,
   "id": "e69d4482-fa48-4b4f-8d85-f66bcbdd708b",
   "metadata": {},
   "outputs": [
    {
     "data": {
      "text/plain": [
       "'Hello bob'"
      ]
     },
     "execution_count": 104,
     "metadata": {},
     "output_type": "execute_result"
    }
   ],
   "source": [
    "str.capitalize('hello bob')"
   ]
  },
  {
   "cell_type": "code",
   "execution_count": 105,
   "id": "14d19b60-7e92-4243-8f9f-3a40ba6621b6",
   "metadata": {},
   "outputs": [
    {
     "data": {
      "text/plain": [
       "'hello bob'"
      ]
     },
     "execution_count": 105,
     "metadata": {},
     "output_type": "execute_result"
    }
   ],
   "source": [
    "str.lower('Hello Bob')"
   ]
  },
  {
   "cell_type": "code",
   "execution_count": 106,
   "id": "4256741f-1427-4a1e-bb36-1eb7cb9816bf",
   "metadata": {},
   "outputs": [
    {
     "data": {
      "text/plain": [
       "'HELLO BOB'"
      ]
     },
     "execution_count": 106,
     "metadata": {},
     "output_type": "execute_result"
    }
   ],
   "source": [
    "str.upper('Hello Bob')"
   ]
  },
  {
   "cell_type": "markdown",
   "id": "9a92105a-b635-4958-a774-076994e82ab0",
   "metadata": {},
   "source": [
    "__find()__ function - searches for a substring within a string, finds it's first occurrence and indicates where it starts (position number), if the string is not found - returns -1; string positions start at 0. "
   ]
  },
  {
   "cell_type": "code",
   "execution_count": 108,
   "id": "f3f6ff37-9ee4-4e4d-98b1-a355c1ad6918",
   "metadata": {},
   "outputs": [
    {
     "name": "stdout",
     "output_type": "stream",
     "text": [
      "2\n"
     ]
    }
   ],
   "source": [
    "x = 'banana'\n",
    "pos = x.find('na')\n",
    "print(pos)"
   ]
  },
  {
   "cell_type": "code",
   "execution_count": 109,
   "id": "e4b12e20-a470-4ecc-b47d-2b54c8233861",
   "metadata": {},
   "outputs": [
    {
     "name": "stdout",
     "output_type": "stream",
     "text": [
      "-1\n"
     ]
    }
   ],
   "source": [
    "pos = x.find('zz')\n",
    "print(pos)"
   ]
  },
  {
   "cell_type": "markdown",
   "id": "c148ced1-a656-47eb-96a8-90bb5b57b130",
   "metadata": {},
   "source": [
    "__replace()__ function - works like a search and replace operation in a word processor, replaces all occurences of the search string within the replacement string"
   ]
  },
  {
   "cell_type": "code",
   "execution_count": 110,
   "id": "7b02d092-7c94-4bde-b291-2b64974f7bba",
   "metadata": {},
   "outputs": [
    {
     "name": "stdout",
     "output_type": "stream",
     "text": [
      "Hello Sue\n"
     ]
    }
   ],
   "source": [
    "x = 'Hello Bob'\n",
    "y = x.replace('Bob', 'Sue')\n",
    "print(y)"
   ]
  },
  {
   "cell_type": "code",
   "execution_count": 111,
   "id": "b1b538ff-3ffa-4b09-b73f-1182b6f586c7",
   "metadata": {},
   "outputs": [
    {
     "name": "stdout",
     "output_type": "stream",
     "text": [
      "HellX BXb\n"
     ]
    }
   ],
   "source": [
    "x = 'Hello Bob'\n",
    "y = x.replace('o', 'X')\n",
    "print(y)"
   ]
  },
  {
   "cell_type": "markdown",
   "id": "51ec3109-1dbd-4098-90be-3a3e1951440c",
   "metadata": {},
   "source": [
    "__lstrip()__, __rstrip()__, __strip()__ removw whitespace - at tle left, right, or both sides of a string"
   ]
  },
  {
   "cell_type": "code",
   "execution_count": 113,
   "id": "b64f0983-e4ba-4972-a612-068f78fe4c47",
   "metadata": {},
   "outputs": [
    {
     "data": {
      "text/plain": [
       "'Hello Bob'"
      ]
     },
     "execution_count": 113,
     "metadata": {},
     "output_type": "execute_result"
    }
   ],
   "source": [
    "x = '   Hello Bob'\n",
    "x.strip()"
   ]
  },
  {
   "cell_type": "markdown",
   "id": "4fbfbb94-a1fc-429d-b0a3-d3bd876b7dd2",
   "metadata": {},
   "source": [
    "__startswith()__ - looks for a prefix"
   ]
  },
  {
   "cell_type": "code",
   "execution_count": 114,
   "id": "2528841d-1673-42ba-88fa-c16390c1792d",
   "metadata": {},
   "outputs": [
    {
     "data": {
      "text/plain": [
       "False"
      ]
     },
     "execution_count": 114,
     "metadata": {},
     "output_type": "execute_result"
    }
   ],
   "source": [
    "x ='Hello Bob'\n",
    "x.startswith('Please')"
   ]
  },
  {
   "cell_type": "code",
   "execution_count": 116,
   "id": "8a462c41-32ac-48ef-9853-b173bc413110",
   "metadata": {},
   "outputs": [
    {
     "data": {
      "text/plain": [
       "True"
      ]
     },
     "execution_count": 116,
     "metadata": {},
     "output_type": "execute_result"
    }
   ],
   "source": [
    "x.startswith('H')"
   ]
  },
  {
   "cell_type": "markdown",
   "id": "e10d0b46-91a0-4cca-af00-ceac886488ce",
   "metadata": {},
   "source": [
    "### Parsing amd extracting"
   ]
  },
  {
   "cell_type": "code",
   "execution_count": 122,
   "id": "f090d3b2-fe13-454a-9207-4f43ba72ed44",
   "metadata": {},
   "outputs": [
    {
     "name": "stdout",
     "output_type": "stream",
     "text": [
      "10\n"
     ]
    }
   ],
   "source": [
    "x = 'from bobby@xyz.com Sat Jan 5 09:14:16 2024'\n",
    "at = x.find('@')\n",
    "print(at)"
   ]
  },
  {
   "cell_type": "markdown",
   "id": "ff56acff-90e8-48d5-943e-876724249502",
   "metadata": {},
   "source": [
    "The second parameter in the following statement specifies where to startt the search."
   ]
  },
  {
   "cell_type": "code",
   "execution_count": 123,
   "id": "d3fc4d43-121c-4ec9-b454-4a430694badb",
   "metadata": {},
   "outputs": [
    {
     "name": "stdout",
     "output_type": "stream",
     "text": [
      "18\n"
     ]
    }
   ],
   "source": [
    "sp = x.find(' ', at)\n",
    "print(sp)"
   ]
  },
  {
   "cell_type": "code",
   "execution_count": 128,
   "id": "f771d838-31e8-4e82-b210-9302771d1558",
   "metadata": {},
   "outputs": [
    {
     "name": "stdout",
     "output_type": "stream",
     "text": [
      "xyz.com\n"
     ]
    }
   ],
   "source": [
    "domain = x[at +1 : sp]\n",
    "print(domain)"
   ]
  },
  {
   "cell_type": "code",
   "execution_count": null,
   "id": "19492fbb-39ba-4181-ab52-dcdacace7292",
   "metadata": {},
   "outputs": [],
   "source": []
  }
 ],
 "metadata": {
  "kernelspec": {
   "display_name": "Bea00",
   "language": "python",
   "name": "python3"
  },
  "language_info": {
   "codemirror_mode": {
    "name": "ipython",
    "version": 3
   },
   "file_extension": ".py",
   "mimetype": "text/x-python",
   "name": "python",
   "nbconvert_exporter": "python",
   "pygments_lexer": "ipython3",
   "version": "3.12.7"
  }
 },
 "nbformat": 4,
 "nbformat_minor": 5
}

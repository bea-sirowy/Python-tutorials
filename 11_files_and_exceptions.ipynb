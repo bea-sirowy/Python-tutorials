{
 "cells": [
  {
   "cell_type": "markdown",
   "metadata": {},
   "source": [
    "Beata Sirowy\n",
    "# __Files and exceptions__\n",
    "Based on Matthes, E. (2023) _Python: Crash Course_"
   ]
  },
  {
   "cell_type": "markdown",
   "metadata": {},
   "source": [
    "To work with the contents of a file, we need to tell Python the path to\n",
    "the file. A path is the exact location of a file or folder on a system. Python\n",
    "provides a module called pathlib that makes it easier to work with files and\n",
    "directories."
   ]
  },
  {
   "cell_type": "code",
   "execution_count": null,
   "metadata": {},
   "outputs": [
    {
     "name": "stdout",
     "output_type": "stream",
     "text": [
      "3.1415926535\n",
      "  8979323846\n",
      "  2643383279\n",
      "\n"
     ]
    }
   ],
   "source": [
    "from pathlib import Path\n",
    "\n",
    "path = Path(\"pi_digits.txt\")\n",
    "contents = path.read_text()\n",
    "print(contents)"
   ]
  },
  {
   "cell_type": "markdown",
   "metadata": {},
   "source": [
    "Python’s rstrip() method removes, or strips,\n",
    "any whitespace characters from the right side of a string."
   ]
  },
  {
   "cell_type": "code",
   "execution_count": null,
   "metadata": {},
   "outputs": [
    {
     "name": "stdout",
     "output_type": "stream",
     "text": [
      "3.1415926535\n",
      "  8979323846\n",
      "  2643383279\n"
     ]
    }
   ],
   "source": [
    "from pathlib import Path\n",
    "\n",
    "path = Path(\"pi_digits.txt\")\n",
    "contents = path.read_text()\n",
    "contents = contents.rstrip()\n",
    "print(contents)\n"
   ]
  },
  {
   "cell_type": "markdown",
   "metadata": {},
   "source": [
    "We can strip the trailing newline character when we read the con-\n",
    "tents of the file, by applying the rstrip() method immediately after calling\n",
    "\n",
    "read_text():"
   ]
  },
  {
   "cell_type": "code",
   "execution_count": null,
   "metadata": {},
   "outputs": [
    {
     "name": "stdout",
     "output_type": "stream",
     "text": [
      "3.1415926535\n",
      "  8979323846\n",
      "  2643383279\n"
     ]
    }
   ],
   "source": [
    "contents = path.read_text().rstrip()\n",
    "print(contents)\n"
   ]
  },
  {
   "cell_type": "markdown",
   "metadata": {},
   "source": [
    "To get Python to open files from a\n",
    "directory other than the one where your program file is stored, you need\n",
    "to provide the correct path."
   ]
  },
  {
   "cell_type": "code",
   "execution_count": null,
   "metadata": {},
   "outputs": [
    {
     "name": "stdout",
     "output_type": "stream",
     "text": [
      "3.1415926535\n",
      "  8979323846\n",
      "  2643383279\n"
     ]
    }
   ],
   "source": [
    "path = Path(\n",
    "    r\"C:\\Users\\Beata\\Documents\\Python Scripts\\Files\\pcc_3e-main\\chapter_10\\reading_from_a_file\\pi_digits.txt\"\n",
    ")\n",
    "contents = path.read_text().rstrip()\n",
    "print(contents)"
   ]
  },
  {
   "cell_type": "code",
   "execution_count": null,
   "metadata": {},
   "outputs": [
    {
     "name": "stdout",
     "output_type": "stream",
     "text": [
      "3.1415926535\n",
      "  8979323846\n",
      "  2643383279\n"
     ]
    }
   ],
   "source": [
    "from pathlib import Path\n",
    "\n",
    "path = Path(\"pi_digits.txt\")\n",
    "contents = path.read_text()\n",
    "lines = contents.splitlines()\n",
    "\n",
    "for line in lines:\n",
    "    print(line)"
   ]
  },
  {
   "cell_type": "code",
   "execution_count": null,
   "metadata": {},
   "outputs": [
    {
     "name": "stdout",
     "output_type": "stream",
     "text": [
      "3.141592653589793238462643383279\n",
      "32\n"
     ]
    }
   ],
   "source": [
    "from pathlib import Path\n",
    "\n",
    "path = Path(\"pi_digits.txt\")\n",
    "contents = path.read_text()\n",
    "lines = contents.splitlines()\n",
    "\n",
    "pi_string = \"\"\n",
    "for line in lines:\n",
    "    pi_string += line.lstrip()\n",
    "\n",
    "print(pi_string)\n",
    "print(len(pi_string))"
   ]
  },
  {
   "cell_type": "markdown",
   "metadata": {},
   "source": [
    "__Large file: one million digits__"
   ]
  },
  {
   "cell_type": "code",
   "execution_count": null,
   "metadata": {},
   "outputs": [
    {
     "name": "stdout",
     "output_type": "stream",
     "text": [
      "3.14159265358979323846264338327950288419716939937510...\n",
      "1000002\n"
     ]
    }
   ],
   "source": [
    "from pathlib import Path\n",
    "\n",
    "path = Path(\"pi_million_digits.txt\")\n",
    "contents = path.read_text()\n",
    "lines = contents.splitlines()\n",
    "\n",
    "pi_string = \"\"\n",
    "for line in lines:\n",
    "    pi_string += line.lstrip()\n",
    "print(f\"{pi_string[:52]}...\")\n",
    "print(len(pi_string))"
   ]
  },
  {
   "cell_type": "markdown",
   "metadata": {},
   "source": [
    "__Is Your Birthday Contained in Pi?__"
   ]
  },
  {
   "cell_type": "code",
   "execution_count": null,
   "metadata": {},
   "outputs": [
    {
     "name": "stdout",
     "output_type": "stream",
     "text": [
      "Your birthday appears in the first million digits of pi!\n"
     ]
    }
   ],
   "source": [
    "for line in lines:\n",
    "    pi_string += line.strip()\n",
    "    birthday = input(\"Enter your birthday, in the form mmddyy: \")\n",
    "if birthday in pi_string:\n",
    "    print(\"Your birthday appears in the first million digits of pi!\")\n",
    "else:\n",
    "    print(\"Your birthday does not appear in the first million digits of pi.\")"
   ]
  },
  {
   "cell_type": "markdown",
   "metadata": {},
   "source": [
    "### Writing to a file"
   ]
  },
  {
   "cell_type": "markdown",
   "metadata": {},
   "source": [
    "Once you have a path defined, you can write to a file using the write_text()\n",
    "method. If the file does not exist, Python will create a new one."
   ]
  },
  {
   "cell_type": "code",
   "execution_count": null,
   "metadata": {},
   "outputs": [
    {
     "data": {
      "text/plain": [
       "19"
      ]
     },
     "metadata": {},
     "output_type": "display_data"
    }
   ],
   "source": [
    "from pathlib import Path\n",
    "\n",
    "path = Path(\n",
    "    r\"C:\\Users\\Beata\\Documents\\Python Scripts\\Files\\pcc_3e-main\\chapter_10\\writing_to_a_file\\programming01.txt\"\n",
    ")\n",
    "path.write_text(\"I love programming.\")"
   ]
  },
  {
   "cell_type": "code",
   "execution_count": null,
   "metadata": {},
   "outputs": [
    {
     "name": "stdout",
     "output_type": "stream",
     "text": [
      "I love programming.\n"
     ]
    }
   ],
   "source": [
    "content = path.read_text()\n",
    "lines = content.splitlines()\n",
    "\n",
    "for n in lines:\n",
    "    print(n)"
   ]
  },
  {
   "cell_type": "markdown",
   "metadata": {},
   "source": [
    "The write_text() method takes a single argument: the string that you\n",
    "want to write to the file. This program has no terminal output, but if you\n",
    "open the file programming.txt, you’ll see one line:"
   ]
  },
  {
   "cell_type": "markdown",
   "metadata": {},
   "source": [
    "To write more than one line to a file, you need to build a string contain-\n",
    "ing the entire contents of the file, and then call write_text() with that string."
   ]
  },
  {
   "cell_type": "code",
   "execution_count": null,
   "metadata": {},
   "outputs": [
    {
     "data": {
      "text/plain": [
       "73"
      ]
     },
     "metadata": {},
     "output_type": "display_data"
    }
   ],
   "source": [
    "contents = \"I like programming.\\n\"\n",
    "contents += \"I like Python and R.\\n\"\n",
    "contents += \"I also enjoy working with data.\\n\"\n",
    "\n",
    "path = Path(\n",
    "    r\"C:\\Users\\Beata\\Documents\\Python Scripts\\Files\\pcc_3e-main\\chapter_10\\writing_to_a_file\\programming01.txt\"\n",
    ")\n",
    "path.write_text(contents)\n"
   ]
  },
  {
   "cell_type": "code",
   "execution_count": null,
   "metadata": {},
   "outputs": [
    {
     "name": "stdout",
     "output_type": "stream",
     "text": [
      "I like programming.\n",
      "I like Python and R.\n",
      "I also enjoy working with data.\n"
     ]
    }
   ],
   "source": [
    "content = path.read_text()\n",
    "lines = content.splitlines()\n",
    "\n",
    "for n in lines:\n",
    "    print(n)\n"
   ]
  },
  {
   "attachments": {
    "image.png": {
     "image/png": "[encoded data removed]"
    }
   },
   "cell_type": "markdown",
   "metadata": {},
   "source": [
    "![image.png](attachment:image.png)"
   ]
  },
  {
   "cell_type": "markdown",
   "metadata": {},
   "source": [
    "We can specify encoding if necessary."
   ]
  },
  {
   "cell_type": "code",
   "execution_count": null,
   "metadata": {},
   "outputs": [],
   "source": [
    "from pathlib import Path\n",
    "\n",
    "path = Path('alice.txt')\n",
    "contents = path.read_text(encoding='utf-8')"
   ]
  },
  {
   "cell_type": "markdown",
   "metadata": {},
   "source": [
    "## Exceptions"
   ]
  },
  {
   "cell_type": "markdown",
   "metadata": {},
   "source": [
    "Python uses special objects called exceptions to manage errors that arise during a program’s execution. Whenever an error occurs that makes Python unsure of what to do next, it creates an exception object. If you write code that handles the exception, the program will continue running. If you don’t\n",
    "handle the exception, the program will halt and show a traceback, which\n",
    "includes a report of the exception that was raised.\n",
    "\n",
    "- Exceptions are handled with try-except blocks."
   ]
  },
  {
   "cell_type": "markdown",
   "metadata": {},
   "source": [
    "The only code that should go in a try block is code that might cause an\n",
    "exception to be raised. Sometimes you’ll have additional code that should\n",
    "run only if the try block was successful; this code goes in the else block."
   ]
  },
  {
   "cell_type": "code",
   "execution_count": 111,
   "metadata": {},
   "outputs": [
    {
     "name": "stdout",
     "output_type": "stream",
     "text": [
      "You can't divide by zero!\n"
     ]
    }
   ],
   "source": [
    "try:\n",
    "    print(5/0)\n",
    "except:\n",
    "    print(\"You can't divide by zero!\")"
   ]
  },
  {
   "cell_type": "code",
   "execution_count": 7,
   "metadata": {},
   "outputs": [
    {
     "name": "stdout",
     "output_type": "stream",
     "text": [
      "Give me two numbers, and I'll divide them.\n",
      "Enter 'q' to quit.\n",
      "1.3235294117647058\n",
      "4.583333333333333\n",
      "0.5111111111111111\n",
      "It's not a valid operation!\n",
      "It's not a valid operation!\n"
     ]
    }
   ],
   "source": [
    "print(\"Give me two numbers, and I'll divide them.\")\n",
    "print(\"Enter 'q' to quit.\")\n",
    "\n",
    "while True:\n",
    "    first_number = input(\"\\nFirst number: \")\n",
    "    if first_number == 'q':\n",
    "        break\n",
    "    second_number = input(\"Second number: \")\n",
    "    if second_number == 'q':\n",
    "        break\n",
    "    try:\n",
    "        answer = int(first_number) / int(second_number)\n",
    "        print(answer)\n",
    "    except:\n",
    "        print(\"It's not a valid operation!\")"
   ]
  },
  {
   "cell_type": "markdown",
   "metadata": {},
   "source": [
    "Handling the FileNotFoundError Exception"
   ]
  },
  {
   "cell_type": "code",
   "execution_count": 10,
   "metadata": {},
   "outputs": [
    {
     "name": "stdout",
     "output_type": "stream",
     "text": [
      "Sorry, the file alice.txt does not exist.\n"
     ]
    }
   ],
   "source": [
    "from pathlib import Path\n",
    "path = Path('alice.txt')\n",
    "\n",
    "try:\n",
    "    contents = path.read_text(encoding='utf-8')\n",
    "except:\n",
    "    print(f\"Sorry, the file {path} does not exist.\")"
   ]
  },
  {
   "cell_type": "markdown",
   "metadata": {},
   "source": [
    "## Analyzing text"
   ]
  },
  {
   "cell_type": "markdown",
   "metadata": {},
   "source": [
    "You can analyze text files containing entire books. Many classic works of literature are available as simple text files because they are in the public domain. The texts used in this section come from Project Gutenberg\n",
    "\n",
    "(https://gutenberg.org)."
   ]
  },
  {
   "cell_type": "markdown",
   "metadata": {},
   "source": [
    "Let’s pull in the text of Alice in Wonderland and try to count the number\n",
    "of words in the text. To do this, we’ll use the string method split(), which\n",
    "by default splits a string wherever it finds any whitespace:"
   ]
  },
  {
   "cell_type": "code",
   "execution_count": 54,
   "metadata": {},
   "outputs": [
    {
     "name": "stdout",
     "output_type": "stream",
     "text": [
      "\n",
      "\n",
      "CHAPTER I.\n",
      "Down the Rabbit-Hole\n",
      "\n",
      "\n",
      "Alice was beginning to get very tired of sitting by her sister on the\n",
      "bank, and of having nothing to do: once or twice she had peeped into\n",
      "the book her sister was reading, but it had no pictures or\n",
      "conversations in it, “and what is the use of a book,” thought Alice\n",
      "“without pictures or conversations?”\n",
      "\n",
      "\n",
      "\n",
      "\n",
      "The document has about 3755 lines.\n",
      "The document has about 29564 words.\n"
     ]
    }
   ],
   "source": [
    "from pathlib import Path\n",
    "path = Path(r\"C:\\Users\\Beata\\Documents\\Books\\alice.txt\")\n",
    "contents = path.read_text(encoding='utf-8').rstrip()\n",
    "lines = contents.splitlines()\n",
    "words = contents.split()\n",
    "\n",
    "for line in lines[50:61]:\n",
    "    print(line)\n",
    "print(\"\\n\")\n",
    "    \n",
    "num_lines = (len(lines))\n",
    "num_words=(len(words))\n",
    "print(\"\\n\")\n",
    "\n",
    "print(f\"The document has about {num_lines} lines.\")\n",
    "print(f\"The document has about {num_words} words.\")\n",
    "    "
   ]
  },
  {
   "cell_type": "markdown",
   "metadata": {},
   "source": [
    "__Working with Multiple Files__\n",
    "\n",
    "We can move the bulk of this program to a function called count_words(). This will make it easier to\n",
    "run the analysis for multiple books:"
   ]
  },
  {
   "cell_type": "code",
   "execution_count": 95,
   "metadata": {},
   "outputs": [
    {
     "name": "stdout",
     "output_type": "stream",
     "text": [
      "The file C:\\Users\\Beata\\Documents\\Books\\alice.txt has about 29564 words.\n"
     ]
    }
   ],
   "source": [
    "from pathlib import Path\n",
    "\n",
    "path2 = Path(input(\"Please provide a txt file path\"))\n",
    "\n",
    "\n",
    "\n",
    "def count_words(path2):\n",
    "    try:\n",
    "        contents = path2.read_text(encoding='utf-8')\n",
    "    except :\n",
    "        print(f\"Sorry, the file {path2} does not exist.\")\n",
    "    else: # Count the approximate number of words in the file:\n",
    "        words = contents.split()\n",
    "        num_words = len(words)\n",
    "        print(f\"The file {path2} has about {num_words} words.\")\n",
    "\n",
    "\n",
    "\n",
    "\n",
    "count_words(path2)\n",
    "\n"
   ]
  },
  {
   "cell_type": "code",
   "execution_count": 92,
   "metadata": {},
   "outputs": [
    {
     "name": "stdout",
     "output_type": "stream",
     "text": [
      "The file C:\\Users\\Beata\\Documents\\Books\\bible.txt has about 824036 words.\n"
     ]
    }
   ],
   "source": [
    "from pathlib import Path\n",
    "\n",
    "path1 = Path(input(\"Please, provide the file path\"))\n",
    "\n",
    "def count_words(path1):\n",
    "    # Count the approximate number of words in the file:\n",
    "    contents = path1.read_text(encoding='utf-8')\n",
    "    words = contents.split()\n",
    "    num_words = len(words)\n",
    "    print(f\"The file {path1} has about {num_words} words.\")\n",
    "\n",
    "\n",
    "\n",
    "\n",
    "count_words(path1)\n",
    "\n"
   ]
  },
  {
   "cell_type": "markdown",
   "metadata": {},
   "source": [
    "We can modify the program to return the last elementt in the file path:"
   ]
  },
  {
   "cell_type": "code",
   "execution_count": null,
   "metadata": {},
   "outputs": [
    {
     "name": "stdout",
     "output_type": "stream",
     "text": [
      "The file bible.txt has about 824036 words.\n"
     ]
    }
   ],
   "source": [
    "from pathlib import Path\n",
    "\n",
    "path1 = Path(input(\"Please, provide the file path\"))\n",
    "\n",
    "def get_last_element(path): # Return the last element of the file path \n",
    "    return path.name\n",
    "\n",
    "def count_words(path):\n",
    "    # Count the approximate number of words in the file:\n",
    "    contents = path.read_text(encoding='utf-8')\n",
    "    words = contents.split()\n",
    "    num_words = len(words)\n",
    "    print(f\"The file {get_last_element(path)} has about {num_words} words.\")\n",
    "\n",
    "\n",
    "\n",
    "\n",
    "count_words(path1)\n",
    "\n",
    "print(get_last_element(Path(input(\"Please, provide the file path\"))))"
   ]
  },
  {
   "cell_type": "markdown",
   "metadata": {},
   "source": [
    "__Failing silently__"
   ]
  },
  {
   "cell_type": "markdown",
   "metadata": {},
   "source": [
    "Sometimes, you’ll want the program to fail silently when an exception\n",
    "occurs and continue on as if nothing happened. To make a program fail\n",
    "silently, you write a try block as usual, but you explicitly tell Python to do nothing in the except block using \"pass\""
   ]
  },
  {
   "cell_type": "code",
   "execution_count": 112,
   "metadata": {},
   "outputs": [],
   "source": [
    "try:\n",
    "    print(5/0)\n",
    "except:\n",
    "    pass"
   ]
  },
  {
   "cell_type": "markdown",
   "metadata": {},
   "source": [
    "- The pass statement also acts as a placeholder. It’s a reminder that you’re choosing to do nothing at a specific point in your program’s execution and that you might want to do something there later. \n",
    "\n",
    "- For example, in our count_words(path) function we may want to write any missing filenames to a file\n",
    "called missing_files.txt. Our users wouldn’t see this file, but we’d be able to\n",
    "read the file and deal with any missing texts."
   ]
  },
  {
   "cell_type": "markdown",
   "metadata": {},
   "source": [
    "## Storing data"
   ]
  }
 ],
 "metadata": {
  "kernelspec": {
   "display_name": "Python 3",
   "language": "python",
   "name": "python3"
  },
  "language_info": {
   "codemirror_mode": {
    "name": "ipython",
    "version": 3
   },
   "file_extension": ".py",
   "mimetype": "text/x-python",
   "name": "python",
   "nbconvert_exporter": "python",
   "pygments_lexer": "ipython3",
   "version": "3.13.0"
  }
 },
 "nbformat": 4,
 "nbformat_minor": 2
}

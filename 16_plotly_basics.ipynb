{
 "cells": [
  {
   "cell_type": "code",
   "execution_count": null,
   "metadata": {},
   "outputs": [],
   "source": []
  },
  {
   "cell_type": "markdown",
   "metadata": {},
   "source": [
    "Beata Sirowy\n",
    "# __Plotly basics: rolling dice__\n",
    "Based on Matthes, E. (2023) _Python: Crash Course_"
   ]
  },
  {
   "cell_type": "markdown",
   "metadata": {},
   "source": [
    "Plotly is\n",
    "particularly useful when you’re creating visualizations that will be displayed\n",
    "in a browser, because the visualizations will scale automatically to fit the viewer’s screen. These visualizations are also interactive; when the user hovers over certain elements on the screen, information about those elements is highlighted."
   ]
  },
  {
   "cell_type": "markdown",
   "metadata": {},
   "source": [
    "- We’ll build our initial visualization in just a couple lines of\n",
    "code using Plotly Express, a subset of Plotly that focuses on generating plots with as little code as possible. \n",
    "- Plotly Express depends on pandas, which is a library for working effi-\n",
    "ciently with data, so we need to install that as well.\n",
    "- Once we know our plot is correct, we’ll cus\n",
    "tomize the output"
   ]
  },
  {
   "cell_type": "markdown",
   "metadata": {},
   "source": [
    "## Rolling two dice"
   ]
  },
  {
   "cell_type": "markdown",
   "metadata": {
    "vscode": {
     "languageId": "plaintext"
    }
   },
   "source": [
    "In this project, we’ll analyze the results of rolling dice. This work helps model games involving dice, but the core ideas also apply to games that involve chance of any kind, such as card games. It also relates to many real-world situations where randomness plays a significant factor.\n",
    "- when you roll one regular, six-sided die, you have an equal chance of rolling any of the\n",
    "numbers from 1 through 6\n",
    "- when you use two dice, you’re more likely to roll certain numbers than others\n",
    "- we’ll try to determine which\n",
    "numbers are most likely to occur by generating a dataset that represents rolling dice \n",
    "- then we’ll plot the results of a large number of rolls to deter-\n",
    "mine which results are more likely than others"
   ]
  },
  {
   "cell_type": "markdown",
   "metadata": {},
   "source": [
    "#### Creating the Die Class"
   ]
  },
  {
   "cell_type": "code",
   "execution_count": null,
   "metadata": {},
   "outputs": [],
   "source": [
    "from random import randint\n",
    "\n",
    "class Die: #A class representing a single die.\n",
    "    def __init__(self, num_sides=6): #Assume a six-sided die\n",
    "        self.num_sides = num_sides\n",
    "    \n",
    "    def roll(self): #Return a random value between 1 and number of sides\n",
    "        return randint(1, self.num_sides)\n",
    "    \n",
    "    "
   ]
  },
  {
   "cell_type": "markdown",
   "metadata": {},
   "source": [
    "#### Rolling a Die"
   ]
  },
  {
   "cell_type": "code",
   "execution_count": 12,
   "metadata": {},
   "outputs": [
    {
     "name": "stdout",
     "output_type": "stream",
     "text": [
      "[6, 4, 2, 3, 4, 1, 3, 3, 5, 4, 3, 3, 6, 3, 1, 6, 3, 6, 6, 2]\n"
     ]
    }
   ],
   "source": [
    "# Create a D6.\n",
    "die = Die()\n",
    "\n",
    "# Make some rolls, and store results in a list.\n",
    "results = []\n",
    "for n in range(20):\n",
    "    result = die.roll()\n",
    "    results.append(result)\n",
    "print(results)\n"
   ]
  },
  {
   "cell_type": "markdown",
   "metadata": {},
   "source": [
    "#### Analyzing the Results"
   ]
  },
  {
   "cell_type": "code",
   "execution_count": 21,
   "metadata": {},
   "outputs": [
    {
     "name": "stdout",
     "output_type": "stream",
     "text": [
      "[170, 175, 161, 167, 180, 147]\n"
     ]
    }
   ],
   "source": [
    "results = []\n",
    "for n in range(1000):\n",
    "    result = die.roll()\n",
    "    results.append(result)\n",
    "\n",
    "# Analyze the results.\n",
    "frequencies = []\n",
    "toss_results = range(1, die.num_sides+1)\n",
    "for value in toss_results:\n",
    "    frequency = results.count(value)\n",
    "    frequencies.append(frequency)\n",
    "print(frequencies)"
   ]
  },
  {
   "cell_type": "code",
   "execution_count": 20,
   "metadata": {},
   "outputs": [
    {
     "data": {
      "text/plain": [
       "1000"
      ]
     },
     "execution_count": 20,
     "metadata": {},
     "output_type": "execute_result"
    }
   ],
   "source": [
    "sum(frequencies)"
   ]
  }
 ],
 "metadata": {
  "kernelspec": {
   "display_name": "Python 3",
   "language": "python",
   "name": "python3"
  },
  "language_info": {
   "codemirror_mode": {
    "name": "ipython",
    "version": 3
   },
   "file_extension": ".py",
   "mimetype": "text/x-python",
   "name": "python",
   "nbconvert_exporter": "python",
   "pygments_lexer": "ipython3",
   "version": "3.13.0"
  }
 },
 "nbformat": 4,
 "nbformat_minor": 2
}

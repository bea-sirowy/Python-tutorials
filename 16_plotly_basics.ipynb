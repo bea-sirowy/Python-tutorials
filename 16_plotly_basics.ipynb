{
 "cells": [
  {
   "cell_type": "markdown",
   "metadata": {},
   "source": [
    "Beata Sirowy\n",
    "# __Plotly basics: rolling dice__\n",
    "Based on Matthes, E. (2023) _Python: Crash Course_"
   ]
  },
  {
   "cell_type": "markdown",
   "metadata": {},
   "source": [
    "Plotly is\n",
    "particularly useful when you’re creating visualizations that will be displayed\n",
    "in a browser, because the visualizations will scale automatically to fit the viewer’s screen. These visualizations are also interactive; when the user hovers over certain elements on the screen, information about those elements is highlighted."
   ]
  },
  {
   "cell_type": "markdown",
   "metadata": {},
   "source": [
    "- We’ll build our initial visualization in just a couple lines of\n",
    "code using Plotly Express, a subset of Plotly that focuses on generating plots with as little code as possible. \n",
    "- Once we know our plot is correct, we’ll cus\n",
    "tomize the output"
   ]
  },
  {
   "cell_type": "markdown",
   "metadata": {},
   "source": [
    "## Rolling two dice"
   ]
  },
  {
   "cell_type": "markdown",
   "metadata": {
    "vscode": {
     "languageId": "plaintext"
    }
   },
   "source": [
    "In this project, we’ll analyze the results of rolling dice. This work helps model games involving dice, but the core ideas also apply to games that involve chance of any kind, such as card games. It also relates to many real-world situations where randomness plays a significant factor.\n",
    "- when you roll one regular, six-sided die, you have an equal chance of rolling any of the\n",
    "numbers from 1 through 6\n",
    "- when you use two dice, you’re more likely to roll certain numbers than others\n",
    "- we’ll try to determine which\n",
    "numbers are most likely to occur by generating a dataset that represents rolling dice \n",
    "- then we’ll plot the results of a large number of rolls to deter-\n",
    "mine which results are more likely than others"
   ]
  }
 ],
 "metadata": {
  "language_info": {
   "name": "python"
  }
 },
 "nbformat": 4,
 "nbformat_minor": 2
}

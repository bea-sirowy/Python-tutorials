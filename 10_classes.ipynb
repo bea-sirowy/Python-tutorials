{
 "cells": [
  {
   "cell_type": "markdown",
   "metadata": {},
   "source": [
    "Beata Sirowy\n",
    "# __Classes__\n",
    "Based on Matthes, E. (2023) _Python: Crash Course_"
   ]
  },
  {
   "cell_type": "markdown",
   "metadata": {},
   "source": [
    "## Object-oriented programming\n",
    "\n",
    "Object-oriented programming (OOP) is one of\n",
    "the most effective approaches to writing\n",
    "software. In object-oriented programming,\n",
    "you write classes that represent real-world things\n",
    "and situations, and you create objects based on these\n",
    "classes. When you write a class, you define the general\n",
    "behavior that a whole category of objects can have."
   ]
  },
  {
   "cell_type": "markdown",
   "metadata": {},
   "source": [
    "Making an object from a class is called instantiation, and you work with\n",
    "instances of a class.\n",
    "\n",
    "You store your classes in modules and import classes written by\n",
    "other programmers into your own program files."
   ]
  },
  {
   "cell_type": "markdown",
   "metadata": {},
   "source": []
  },
  {
   "cell_type": "markdown",
   "metadata": {},
   "source": [
    "### Creating and Using a Class"
   ]
  },
  {
   "cell_type": "markdown",
   "metadata": {},
   "source": [
    "Let's create a class Dog, that represents a dog in general. What\n",
    "do we know about most pet dogs? They all have a name and an age. We\n",
    "also know that most dogs sit and roll over. Those two pieces of information\n",
    "(name and age) and those two behaviors (sit and roll over) will go in our Dog\n",
    "class because they’re common to most dogs.\n",
    "\n",
    "This class will tell Python how\n",
    "to make an object representing a dog. \n",
    "\n",
    "After our class is written, we’ll use it to\n",
    "make individual instances, each of which represents one specific dog."
   ]
  },
  {
   "cell_type": "markdown",
   "metadata": {},
   "source": [
    "Each instance created from the Dog class will store a name and an age, and\n",
    "we’ll give each dog the ability to sit() and roll_over():"
   ]
  },
  {
   "cell_type": "code",
   "execution_count": null,
   "metadata": {},
   "outputs": [],
   "source": [
    "class Dog:\n",
    "    def __init__(self, name, age): # Initialize name and age attributes.\n",
    "        self.name = name\n",
    "        self.age = age\n",
    "    def sit(self): #Simulate a dog sitting in response to a command.\n",
    "            print(f\"{self.name} is now sitting.\")\n",
    "    def roll_over(self): #Simulate rolling over in response to a command.\n",
    "            print(f\"{self.name} rolled over!\")"
   ]
  },
  {
   "cell_type": "markdown",
   "metadata": {},
   "source": [
    "- By convention, capitalized names refer to classes\n",
    "in Python.\n",
    "- A function that’s part of a class is a method. Everything you learned about\n",
    "functions applies to methods as well; the only practical difference for now\n",
    "is the way we’ll call methods. \n",
    "- The __ __init__ __() methodis a special method\n",
    "that Python runs automatically whenever we create a new instance based on the Dog class.\n",
    "- Make sure to use two\n",
    "underscores on each side of __ __init__ __(). Otherwise, the\n",
    "method won’t be called automatically when you use your class, which can\n",
    "result in errors that are difficult to identify."
   ]
  },
  {
   "cell_type": "code",
   "execution_count": null,
   "metadata": {},
   "outputs": [],
   "source": [
    "__init__()"
   ]
  },
  {
   "cell_type": "markdown",
   "metadata": {},
   "source": [
    "- Our method has three parameters: self, name,\n",
    "and age. \n",
    "- The self parameter is required in the method definition, and\n",
    "it must come first, before the other parameters.\n",
    "- When Python calls this method later (to create an\n",
    "instance of Dog), the method call will automatically pass the self argument. \n",
    "- Every method call associated with an instance automatically passes self,\n",
    "which is a reference to the instance itself; it gives the individual instance\n",
    "access to the attributes and methods in the class.\n",
    "- Whenever we want to make an instance from the Dog class, we’ll provide values for only the last two parameters, name\n",
    "and age.\n",
    "- For now, sit() and roll_over() don’t do much. They simply print\n",
    "a message saying the dog is sitting or rolling over. But the concept can be\n",
    "extended to realistic situations: if this class were part of a computer game,\n",
    "these methods would contain code to make an animated dog sit and roll\n",
    "over.\n"
   ]
  },
  {
   "cell_type": "markdown",
   "metadata": {},
   "source": [
    "__Making an Instance from a Class__"
   ]
  },
  {
   "cell_type": "code",
   "execution_count": 17,
   "metadata": {},
   "outputs": [
    {
     "name": "stdout",
     "output_type": "stream",
     "text": [
      "My dog's name is Willie.\n",
      "My dog is 6 years old.\n"
     ]
    }
   ],
   "source": [
    "my_dog = Dog('Willie', 6)\n",
    "print(f\"My dog's name is {my_dog.name}.\")\n",
    "print(f\"My dog is {my_dog.age} years old.\")"
   ]
  },
  {
   "cell_type": "markdown",
   "metadata": {},
   "source": [
    "__Accessing Attributes__"
   ]
  },
  {
   "cell_type": "markdown",
   "metadata": {},
   "source": [
    "To access the attributes of an instance, you use dot notation. We access the\n",
    "value of my_dog’s attribute name by writing:\n",
    "__my_dog.name__"
   ]
  },
  {
   "cell_type": "code",
   "execution_count": 18,
   "metadata": {},
   "outputs": [
    {
     "data": {
      "text/plain": [
       "'Willie'"
      ]
     },
     "execution_count": 18,
     "metadata": {},
     "output_type": "execute_result"
    }
   ],
   "source": [
    "my_dog.name"
   ]
  },
  {
   "cell_type": "code",
   "execution_count": 29,
   "metadata": {},
   "outputs": [
    {
     "name": "stdout",
     "output_type": "stream",
     "text": [
      "Willie is now sitting.\n",
      "Willie rolled over!\n"
     ]
    }
   ],
   "source": [
    "\n",
    "my_dog.sit()\n",
    "my_dog.roll_over()\n"
   ]
  },
  {
   "cell_type": "markdown",
   "metadata": {},
   "source": [
    "__Creating Multiple Instances__"
   ]
  },
  {
   "cell_type": "code",
   "execution_count": 35,
   "metadata": {},
   "outputs": [
    {
     "name": "stdout",
     "output_type": "stream",
     "text": [
      "Your dog's name is Lucy\n",
      "Lucy is now sitting.\n",
      "Willie rolled over!\n"
     ]
    }
   ],
   "source": [
    "your_dog = Dog(\"Lucy\", 3)\n",
    "print(f\"Your dog's name is {your_dog.name}\")\n",
    "your_dog.sit()\n",
    "my_dog.roll_over()"
   ]
  },
  {
   "cell_type": "markdown",
   "metadata": {},
   "source": [
    "- Even if we used the same name and age for the second dog, Python\n",
    "would still create a separate instance from the Dog class. \n",
    "- You can make\n",
    "as many instances from one class as you need, as long as you give each\n",
    "instance a unique variable name or it occupies a unique spot in a list or\n",
    "dictionary."
   ]
  },
  {
   "cell_type": "markdown",
   "metadata": {},
   "source": [
    "__Example: restaurants__\n"
   ]
  },
  {
   "cell_type": "code",
   "execution_count": 125,
   "metadata": {},
   "outputs": [
    {
     "name": "stdout",
     "output_type": "stream",
     "text": [
      "Welcome to Ming restaurant! We offer Chinese cuisine. \n",
      "The restaurant Ming offers deliveries.\n",
      "The restaurant Ming is fully booked.\n"
     ]
    }
   ],
   "source": [
    "class Restaurant: \n",
    "    def __init__ (self, name, cuisine, booking):\n",
    "        self.name = name\n",
    "        self.cuisine = cuisine\n",
    "        self.booking = booking\n",
    "    def welcome(self):\n",
    "        print (f\"Welcome to {self.name} restaurant! We offer {self.cuisine.title()} cuisine. \")\n",
    "    def deliveries(self):\n",
    "        print(f\"The restaurant {self.name} offers deliveries.\")\n",
    "    def reservations(self):\n",
    "        if self.booking == \"yes\":\n",
    "            print(f\"The restaurant {self.name} accepts reservations.\")\n",
    "        elif self.booking == \"no\": \n",
    "            print(f\"The restaurant {self.name} is fully booked.\")\n",
    "        else: \n",
    "            print(f\"Please contact the {self.name} restaurant on booking opportunities.\")\n",
    "        \n",
    "        \n",
    "chinese_restaurant = Restaurant(\"Ming\", \"chinese\", \"no\")\n",
    "\n",
    "chinese_restaurant.welcome()\n",
    "chinese_restaurant.deliveries()\n",
    "chinese_restaurant.reservations()\n",
    "\n",
    "    "
   ]
  },
  {
   "cell_type": "code",
   "execution_count": 76,
   "metadata": {},
   "outputs": [
    {
     "name": "stdout",
     "output_type": "stream",
     "text": [
      "Welcome to Ahimsa restaurant! We offer indian cuisinne. \n",
      "The restaurant Ahimsa offers deliveries.\n",
      "Please contact the Ahimsa restaurant on booking opportunities.\n"
     ]
    }
   ],
   "source": [
    "indian_restaurant = Restaurant(\"Ahimsa\", \"indian\", \"maybe\")\n",
    "\n",
    "indian_restaurant.welcome()\n",
    "indian_restaurant.deliveries()\n",
    "indian_restaurant.reservations()\n"
   ]
  },
  {
   "cell_type": "markdown",
   "metadata": {},
   "source": [
    "__Example: cars__"
   ]
  },
  {
   "cell_type": "code",
   "execution_count": 77,
   "metadata": {},
   "outputs": [
    {
     "name": "stdout",
     "output_type": "stream",
     "text": [
      "2024 Audi A4\n"
     ]
    }
   ],
   "source": [
    "class Car:\n",
    "    def __init__(self, make, model, year):\n",
    "        self.make = make\n",
    "        self.model = model\n",
    "        self.year = year\n",
    "    def get_descriptive_name(self):\n",
    "        long_name = f\"{self.year} {self.make} {self.model}\"\n",
    "        return long_name.title()\n",
    "\n",
    "my_new_car = Car('audi', 'a4', 2024)\n",
    "print(my_new_car.get_descriptive_name())"
   ]
  },
  {
   "cell_type": "markdown",
   "metadata": {},
   "source": [
    "__Setting a default value for an attribute:__\n"
   ]
  },
  {
   "cell_type": "code",
   "execution_count": 83,
   "metadata": {},
   "outputs": [
    {
     "name": "stdout",
     "output_type": "stream",
     "text": [
      "My new car is 2024 Audi A4.\n",
      "This car has 0 miles on it.\n"
     ]
    }
   ],
   "source": [
    "class Car:\n",
    "    def __init__(self, make, model, year):\n",
    "        self.make = make\n",
    "        self.model = model\n",
    "        self.year = year\n",
    "        self.odometer_reading = 0\n",
    "    def get_descriptive_name(self):\n",
    "        long_name = f\"{self.year} {self.make} {self.model}\"\n",
    "        return long_name.title()\n",
    "    def read_odometer(self):\n",
    "        print(f\"This car has {self.odometer_reading} miles on it.\")\n",
    "\n",
    "my_new_car = Car('audi', 'a4', 2024)\n",
    "print(f\"My new car is {my_new_car.get_descriptive_name()}.\")\n",
    "my_new_car.read_odometer()"
   ]
  },
  {
   "cell_type": "markdown",
   "metadata": {},
   "source": [
    "__Modifying attribute values__"
   ]
  },
  {
   "cell_type": "markdown",
   "metadata": {},
   "source": [
    "You can change an attribute’s value in three ways: \n",
    "- you can change the value\n",
    "directly through an instance, \n",
    "- set the value through a method, \n",
    "- increment\n",
    "the value (add a certain amount to it) through a method. Let’s look at each\n",
    "of these approaches."
   ]
  },
  {
   "cell_type": "markdown",
   "metadata": {},
   "source": [
    "__Modifying an Attribute’s Value Directly__"
   ]
  },
  {
   "cell_type": "code",
   "execution_count": 84,
   "metadata": {},
   "outputs": [
    {
     "name": "stdout",
     "output_type": "stream",
     "text": [
      "This car has 23 miles on it.\n"
     ]
    }
   ],
   "source": [
    "my_new_car.odometer_reading = 23\n",
    "my_new_car.read_odometer()"
   ]
  },
  {
   "cell_type": "markdown",
   "metadata": {},
   "source": [
    "__Modifying an Attribute’s Value Through a Method__"
   ]
  },
  {
   "cell_type": "code",
   "execution_count": 103,
   "metadata": {},
   "outputs": [
    {
     "name": "stdout",
     "output_type": "stream",
     "text": [
      "My new car is 2024 Audi A4.\n",
      "This car has 0 miles on it.\n",
      "This car has 23 miles on it.\n"
     ]
    }
   ],
   "source": [
    "class Car:\n",
    "    def __init__(self, make, model, year):\n",
    "        self.make = make\n",
    "        self.model = model\n",
    "        self.year = year\n",
    "        self.odometer_reading = 0\n",
    "    def get_descriptive_name(self):\n",
    "        long_name = f\"{self.year} {self.make} {self.model}\"\n",
    "        return long_name.title()\n",
    "    def update_odometer(self, mileage):\n",
    "        self.odometer_reading = mileage\n",
    "    def read_odometer(self):\n",
    "        print(f\"This car has {self.odometer_reading} miles on it.\")\n",
    "\n",
    "\n",
    "my_new_car = Car('audi', 'a4', 2024)\n",
    "print(f\"My new car is {my_new_car.get_descriptive_name()}.\")\n",
    "\n",
    "my_new_car.read_odometer()\n",
    "\n",
    "my_new_car.update_odometer(23)\n",
    "\n",
    "my_new_car.read_odometer()\n",
    "\n"
   ]
  },
  {
   "cell_type": "markdown",
   "metadata": {},
   "source": [
    "We can extend the method update_odometer() to do additional work every\n",
    "time the odometer reading is modified. We set the odometer reading to the given value.\n",
    "We reject the change if it attempts to roll the odometer back."
   ]
  },
  {
   "cell_type": "code",
   "execution_count": 107,
   "metadata": {},
   "outputs": [
    {
     "name": "stdout",
     "output_type": "stream",
     "text": [
      "My new car is 2024 Audi A4.\n",
      "This car has 10 miles on it.\n",
      "You can't roll back an odometer!\n",
      "This car has 10 miles on it.\n"
     ]
    }
   ],
   "source": [
    "class Car:\n",
    "    def __init__(self, make, model, year):\n",
    "        self.make = make\n",
    "        self.model = model\n",
    "        self.year = year\n",
    "        self.odometer_reading = 10\n",
    "    def get_descriptive_name(self):\n",
    "        long_name = f\"{self.year} {self.make} {self.model}\"\n",
    "        return long_name.title()\n",
    "    def update_odometer(self, mileage):\n",
    "        if mileage >= self.odometer_reading:\n",
    "            self.odometer_reading = mileage\n",
    "        else: \n",
    "            print(\"You can't roll back an odometer!\")\n",
    "    def read_odometer(self):\n",
    "        print(f\"This car has {self.odometer_reading} miles on it.\")\n",
    "\n",
    "\n",
    "my_new_car = Car('audi', 'a4', 2024)\n",
    "print(f\"My new car is {my_new_car.get_descriptive_name()}.\")\n",
    "\n",
    "my_new_car.read_odometer()\n",
    "\n",
    "my_new_car.update_odometer(5)\n",
    "\n",
    "my_new_car.read_odometer()"
   ]
  },
  {
   "cell_type": "markdown",
   "metadata": {},
   "source": [
    "__Incrementing an Attribute’s Value Through a Method__"
   ]
  },
  {
   "cell_type": "markdown",
   "metadata": {},
   "source": [
    "Sometimes you’ll want to increment an attribute’s value by a certain amount,\n",
    "rather than set an entirely new value. Say we buy a used car and put 100 miles\n",
    "on it between the time we buy it and the time we register it. \n",
    "- We use __+=__ to indicate the increment: __self.odometer_reading += miles__"
   ]
  },
  {
   "cell_type": "code",
   "execution_count": 128,
   "metadata": {},
   "outputs": [
    {
     "name": "stdout",
     "output_type": "stream",
     "text": [
      "My new car is 2024 Audi A4.\n",
      "This car has 10 miles on it.\n",
      "\n",
      "An update:\n",
      "This car has 20 miles on it.\n",
      "\n",
      "An update:\n",
      "This car has 120 miles on it.\n"
     ]
    }
   ],
   "source": [
    "class Car:\n",
    "    def __init__(self, make, model, year):\n",
    "        self.make = make\n",
    "        self.model = model\n",
    "        self.year = year\n",
    "        self.odometer_reading = 10\n",
    "    def get_descriptive_name(self):\n",
    "        long_name = f\"{self.year} {self.make} {self.model}\"\n",
    "        return long_name.title()\n",
    "    def update_odometer(self, mileage):\n",
    "        if mileage >= self.odometer_reading:\n",
    "            self.odometer_reading = mileage\n",
    "        else: \n",
    "            print(\"You can't roll back an odometer!\")\n",
    "    def increment_odometer(self, miles):\n",
    "        self.odometer_reading += miles\n",
    "    def read_odometer(self):\n",
    "        print(f\"This car has {self.odometer_reading} miles on it.\")\n",
    "\n",
    "\n",
    "my_new_car = Car('audi', 'a4', 2024)\n",
    "print(f\"My new car is {my_new_car.get_descriptive_name()}.\")\n",
    "\n",
    "my_new_car.read_odometer()\n",
    "\n",
    "print(\"\\nAn update:\")\n",
    "\n",
    "my_new_car.update_odometer(20)\n",
    "\n",
    "my_new_car.read_odometer()\n",
    "\n",
    "\n",
    "print(\"\\nAn update:\")\n",
    "\n",
    "my_new_car.increment_odometer(100)\n",
    "\n",
    "my_new_car.read_odometer()"
   ]
  },
  {
   "cell_type": "markdown",
   "metadata": {},
   "source": [
    "__Modified example: restaurants__"
   ]
  },
  {
   "cell_type": "code",
   "execution_count": 137,
   "metadata": {},
   "outputs": [
    {
     "name": "stdout",
     "output_type": "stream",
     "text": [
      "Welcome to Ming restaurant! We offer Chinese cuisine. \n",
      "The restaurant Ming offers deliveries.\n",
      "The restaurant Ming accepts reservations.\n",
      "This restaurant serves 30 people.\n",
      "\n",
      "An update on the number served:\n",
      "This restaurant serves 30 people.\n",
      "\n",
      "An update on the number served:\n",
      "This restaurant serves 70 people.\n"
     ]
    }
   ],
   "source": [
    "class Restaurant: \n",
    "    def __init__ (self, name, cuisine, booking):\n",
    "        self.name = name\n",
    "        self.cuisine = cuisine\n",
    "        self.booking = booking\n",
    "        self.number_served = 30\n",
    "    def welcome(self):\n",
    "        print (f\"Welcome to {self.name} restaurant! We offer {self.cuisine.title()} cuisine. \")\n",
    "    def deliveries(self):\n",
    "        print(f\"The restaurant {self.name} offers deliveries.\")\n",
    "    def reservations(self):\n",
    "        if self.booking == \"yes\":\n",
    "            print(f\"The restaurant {self.name} accepts reservations.\")\n",
    "        elif self.booking == \"no\": \n",
    "            print(f\"The restaurant {self.name} is fully booked.\")\n",
    "        else: \n",
    "            print(f\"Please contact the {self.name} restaurant on booking opportunities.\")\n",
    "\n",
    "    def update_served(self, number):\n",
    "        self.number_served = number\n",
    "    def served(self):\n",
    "        print(f\"This restaurant serves {self.number_served} people.\")\n",
    "        \n",
    "        \n",
    "chinese_restaurant = Restaurant(\"Ming\", \"chinese\", \"yes\")\n",
    "\n",
    "chinese_restaurant.welcome()\n",
    "chinese_restaurant.deliveries()\n",
    "chinese_restaurant.reservations()\n",
    "chinese_restaurant.served()\n",
    "\n",
    "print (\"\\nAn update on the number served:\")\n",
    "chinese_restaurant.served()\n",
    "\n",
    "chinese_restaurant.number_served = 50\n",
    "\n",
    "print (\"\\nAn update on the number served:\")\n",
    "\n",
    "chinese_restaurant.update_served(70)\n",
    "\n",
    "chinese_restaurant.served()"
   ]
  },
  {
   "cell_type": "code",
   "execution_count": 141,
   "metadata": {},
   "outputs": [
    {
     "name": "stdout",
     "output_type": "stream",
     "text": [
      "Welcome to Tuk Tuk restaurant! We offer Thai cuisine. \n",
      "The restaurant Tuk Tuk offers deliveries.\n",
      "Please contact the Tuk Tuk restaurant on booking opportunities.\n",
      "This restaurant serves 25 people.\n"
     ]
    }
   ],
   "source": [
    "thai_restaurant = Restaurant(\"Tuk Tuk\", \"thai\", \"no info\")\n",
    "\n",
    "\n",
    "thai_restaurant.welcome()\n",
    "thai_restaurant.deliveries()\n",
    "thai_restaurant.reservations()\n",
    "\n",
    "thai_restaurant.update_served(25)\n",
    "thai_restaurant.served()\n",
    "\n"
   ]
  },
  {
   "cell_type": "markdown",
   "metadata": {},
   "source": [
    "We can add a function that returns the collected info on each restaurant:"
   ]
  },
  {
   "cell_type": "code",
   "execution_count": 145,
   "metadata": {},
   "outputs": [
    {
     "name": "stdout",
     "output_type": "stream",
     "text": [
      "Welcome to Pierogi restaurant! We offer Polish cuisine. \n",
      "The restaurant Pierogi offers deliveries.\n",
      "The restaurant Pierogi accepts reservations.\n",
      "This restaurant serves 37 people.\n"
     ]
    }
   ],
   "source": [
    "polish_restaurant = Restaurant(\"Pierogi\", \"polish\", \"yes\")\n",
    "polish_restaurant.update_served(37)\n",
    "\n",
    "\n",
    "def describe_restaurant(name):\n",
    "    name.welcome()\n",
    "    name.deliveries()\n",
    "    name.reservations()\n",
    "    name.served()\n",
    "    \n",
    "\n",
    "describe_restaurant(polish_restaurant)\n",
    "    \n",
    "    "
   ]
  },
  {
   "cell_type": "code",
   "execution_count": 147,
   "metadata": {},
   "outputs": [
    {
     "name": "stdout",
     "output_type": "stream",
     "text": [
      "Welcome to Tuk Tuk restaurant! We offer Thai cuisine. \n",
      "The restaurant Tuk Tuk offers deliveries.\n",
      "Please contact the Tuk Tuk restaurant on booking opportunities.\n",
      "This restaurant serves 25 people.\n"
     ]
    }
   ],
   "source": [
    "describe_restaurant(thai_restaurant)"
   ]
  },
  {
   "cell_type": "markdown",
   "metadata": {},
   "source": [
    "__Example: user profiles__\n"
   ]
  },
  {
   "cell_type": "code",
   "execution_count": 41,
   "metadata": {},
   "outputs": [],
   "source": [
    "class User:\n",
    "    def __init__(self, fname, lname, email, city):\n",
    "       self.fname = fname \n",
    "       self.lname = lname\n",
    "       self.email = email\n",
    "       self.city = city\n",
    "       self.login_attempts = 0\n",
    "       \n",
    "       \n",
    "def describe_user(self):\n",
    "        print(\"This is user info:\\n\") \n",
    "        print(f\"First name: {self.fname.title()}\\n\") \n",
    "        print(f\"Last name: {self.lname.title()}\\n\")\n",
    "        print(f\"Enail: {self.email}\\n\")\n",
    "        print(f\"City: {self.city.title()}\")\n",
    "    \n",
    "def increment_login_attempts(self):\n",
    "        self.login_attempts += 1\n",
    "        print(f\"\\nThis is your login nr: {self.login_attempts}\")\n",
    "        \n",
    "def reset_login_attempts(self):\n",
    "        print(f\"The number of your login attempts is currently: {self.login_attempts}\")\n",
    "        self.login_attempts = 0\n",
    "        print(f\"The number of your login attempts has been reset to {self.login_attempts}\")\n"
   ]
  },
  {
   "cell_type": "code",
   "execution_count": 42,
   "metadata": {},
   "outputs": [
    {
     "name": "stdout",
     "output_type": "stream",
     "text": [
      "This is user info:\n",
      "\n",
      "First name: Jane\n",
      "\n",
      "Last name: Doe\n",
      "\n",
      "Enail: jdoe@gmail.no\n",
      "\n",
      "City: New York\n",
      "\n",
      "This is your login nr: 1\n"
     ]
    }
   ],
   "source": [
    "user_1 = User(\"jane\", \"doe\", \"jdoe@gmail.no\", \"new york\")\n",
    "\n",
    "describe_user(user_1)\n",
    "\n",
    "increment_login_attempts(user_1)"
   ]
  },
  {
   "cell_type": "code",
   "execution_count": 43,
   "metadata": {},
   "outputs": [
    {
     "name": "stdout",
     "output_type": "stream",
     "text": [
      "\n",
      "This is your login nr: 2\n"
     ]
    }
   ],
   "source": [
    "increment_login_attempts(user_1)\n"
   ]
  },
  {
   "cell_type": "code",
   "execution_count": 45,
   "metadata": {},
   "outputs": [
    {
     "name": "stdout",
     "output_type": "stream",
     "text": [
      "The number of your login attempts is currently: 2\n",
      "The number of your login attempts has been reset to 0\n"
     ]
    }
   ],
   "source": [
    "reset_login_attempts(user_1)"
   ]
  },
  {
   "cell_type": "code",
   "execution_count": 44,
   "metadata": {},
   "outputs": [
    {
     "name": "stdout",
     "output_type": "stream",
     "text": [
      "This is user info:\n",
      "\n",
      "First name: John\n",
      "\n",
      "Last name: Wick\n",
      "\n",
      "Enail: jwick@gmail.no\n",
      "\n",
      "City: Los Angeles\n",
      "\n",
      "This is your login nr: 1\n"
     ]
    }
   ],
   "source": [
    "user_2 = User(\"john\", \"wick\", \"jwick@gmail.no\", \"los angeles\")\n",
    "\n",
    "describe_user(user_2)\n",
    "\n",
    "increment_login_attempts(user_2)\n"
   ]
  }
 ],
 "metadata": {
  "kernelspec": {
   "display_name": "Python 3",
   "language": "python",
   "name": "python3"
  },
  "language_info": {
   "codemirror_mode": {
    "name": "ipython",
    "version": 3
   },
   "file_extension": ".py",
   "mimetype": "text/x-python",
   "name": "python",
   "nbconvert_exporter": "python",
   "pygments_lexer": "ipython3",
   "version": "3.13.0"
  }
 },
 "nbformat": 4,
 "nbformat_minor": 2
}

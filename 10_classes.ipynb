{
 "cells": [
  {
   "cell_type": "markdown",
   "metadata": {},
   "source": [
    "Beata Sirowy\n",
    "# __Classes__\n",
    "Based on Matthes, E. (2023) _Python: Crash Course_"
   ]
  },
  {
   "cell_type": "markdown",
   "metadata": {},
   "source": [
    "## Object-oriented programming\n",
    "\n",
    "Object-oriented programming (OOP) is one of\n",
    "the most effective approaches to writing\n",
    "software. In object-oriented programming,\n",
    "you write classes that represent real-world things\n",
    "and situations, and you create objects based on these\n",
    "classes. When you write a class, you define the general\n",
    "behavior that a whole category of objects can have."
   ]
  },
  {
   "cell_type": "markdown",
   "metadata": {},
   "source": [
    "Making an object from a class is called instantiation, and you work with\n",
    "instances of a class.\n",
    "\n",
    "You store your classes in modules and import classes written by\n",
    "other programmers into your own program files."
   ]
  },
  {
   "cell_type": "markdown",
   "metadata": {},
   "source": []
  },
  {
   "cell_type": "markdown",
   "metadata": {},
   "source": [
    "### Creating and Using a Class"
   ]
  },
  {
   "cell_type": "markdown",
   "metadata": {},
   "source": [
    "Let's create a class Dog, that represents a dog in general. What\n",
    "do we know about most pet dogs? They all have a name and an age. We\n",
    "also know that most dogs sit and roll over. Those two pieces of information\n",
    "(name and age) and those two behaviors (sit and roll over) will go in our Dog\n",
    "class because they’re common to most dogs.\n",
    "\n",
    "This class will tell Python how\n",
    "to make an object representing a dog. \n",
    "\n",
    "After our class is written, we’ll use it to\n",
    "make individual instances, each of which represents one specific dog."
   ]
  },
  {
   "cell_type": "markdown",
   "metadata": {},
   "source": [
    "Each instance created from the Dog class will store a name and an age, and\n",
    "we’ll give each dog the ability to sit() and roll_over():"
   ]
  },
  {
   "cell_type": "code",
   "execution_count": 2,
   "metadata": {},
   "outputs": [],
   "source": [
    "class Dog:\n",
    "    def __init__(self, name, age): # Initialize name and age attributes.\n",
    "        self.name = name\n",
    "        self.age = age\n",
    "        def sit(self): #Simulate a dog sitting in response to a command.\n",
    "            print(f\"{self.name} is now sitting.\")\n",
    "        def roll_over(self): #Simulate rolling over in response to a command.\n",
    "            print(f\"{self.name} rolled over!\")"
   ]
  },
  {
   "cell_type": "markdown",
   "metadata": {},
   "source": [
    "- By convention, capitalized names refer to classes\n",
    "in Python.\n",
    "- A function that’s part of a class is a method. Everything you learned about\n",
    "functions applies to methods as well; the only practical difference for now\n",
    "is the way we’ll call methods. The __init__() method 2 is a special method\n",
    "that Python runs automatically whenever we create a new instance based on the Dog class.\n",
    "- Make sure to use two\n",
    "underscores on each side of __init__(). If you use just one on each side, the\n",
    "method won’t be called automatically when you use your class, which can\n",
    "result in errors that are difficult to identify."
   ]
  },
  {
   "cell_type": "code",
   "execution_count": null,
   "metadata": {},
   "outputs": [],
   "source": [
    "__init__()"
   ]
  },
  {
   "cell_type": "markdown",
   "metadata": {},
   "source": [
    "- our method has three parameters: self, name,\n",
    "and age. \n",
    "- The self parameter is required in the method definition, and\n",
    "it must come first, before the other parameters. It must be included in\n",
    "the definition because when Python calls this method later (to create an\n",
    "instance of Dog), the method call will automatically pass the self argument.\n",
    "Every method call associated with an instance automatically passes self,\n",
    "which is a reference to the instance itself; it gives the individual instance\n",
    "access to the attributes and methods in the class."
   ]
  }
 ],
 "metadata": {
  "kernelspec": {
   "display_name": "Python 3",
   "language": "python",
   "name": "python3"
  },
  "language_info": {
   "codemirror_mode": {
    "name": "ipython",
    "version": 3
   },
   "file_extension": ".py",
   "mimetype": "text/x-python",
   "name": "python",
   "nbconvert_exporter": "python",
   "pygments_lexer": "ipython3",
   "version": "3.13.0"
  }
 },
 "nbformat": 4,
 "nbformat_minor": 2
}

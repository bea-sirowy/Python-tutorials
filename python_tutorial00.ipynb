{
 "cells": [
  {
   "cell_type": "markdown",
   "id": "f5c778cc-f033-4bb0-8cd4-51f8618efbea",
   "metadata": {},
   "source": [
    "# __Python demo - basic operations__"
   ]
  },
  {
   "cell_type": "markdown",
   "id": "ac95ea31-4105-409f-8b51-e81094d5fa88",
   "metadata": {},
   "source": [
    "## Lift converter"
   ]
  },
  {
   "cell_type": "code",
   "execution_count": 18,
   "id": "ef026702-b06e-4cd9-a4cb-673a4df81615",
   "metadata": {
    "jupyter": {
     "source_hidden": true
    }
   },
   "outputs": [
    {
     "name": "stdin",
     "output_type": "stream",
     "text": [
      "Write the European floor number you wish to go: \n",
      " 12\n"
     ]
    },
    {
     "name": "stdout",
     "output_type": "stream",
     "text": [
      "Your floor in USA would be: 13\n"
     ]
    }
   ],
   "source": [
    "x = input(\"Write the European floor number you wish to go: \\n\")\n",
    "y = int(x) + 1\n",
    "print(\"Your floor in USA would be:\", y)"
   ]
  },
  {
   "cell_type": "markdown",
   "id": "dc183833-4fd7-43b8-b8d6-2de538631da5",
   "metadata": {},
   "source": [
    "## One way decisions with IF ELSE"
   ]
  },
  {
   "cell_type": "code",
   "execution_count": 16,
   "id": "013b0294-8dc6-4d26-b8f6-28c3d7e4623f",
   "metadata": {
    "scrolled": true
   },
   "outputs": [
    {
     "name": "stdin",
     "output_type": "stream",
     "text": [
      "Whats your name? \n",
      " John\n"
     ]
    },
    {
     "name": "stdout",
     "output_type": "stream",
     "text": [
      "Welcome, John nice to meet you!\n"
     ]
    },
    {
     "name": "stdin",
     "output_type": "stream",
     "text": [
      "How old are you? \n",
      " 12\n"
     ]
    },
    {
     "name": "stdout",
     "output_type": "stream",
     "text": [
      "Awesome, 12 years old is so young!\n"
     ]
    }
   ],
   "source": [
    "x = input(\"Whats your name? \\n\")\n",
    "print(\"Welcome,\", x, \"nice to meet you!\")\n",
    "x = input(\"How old are you? \\n\")\n",
    "if int(x) < 20:\n",
    "    print(\"Awesome,\", x, \"years old is so young!\")\n",
    "else:\n",
    "    print(\"Great,\", x, \"years old is an age of wisdom!\")"
   ]
  },
  {
   "cell_type": "markdown",
   "id": "2755ab80-5347-456c-bd89-ef01ccee050f",
   "metadata": {},
   "source": [
    "## ELIF structure (multi way decisions)"
   ]
  },
  {
   "cell_type": "markdown",
   "id": "9e54eb69-6f5b-4496-adf1-885756ff6b7e",
   "metadata": {},
   "source": [
    "### example 1"
   ]
  },
  {
   "cell_type": "code",
   "execution_count": 21,
   "id": "e117f53b-22be-4f35-b953-7bfeb3783925",
   "metadata": {},
   "outputs": [
    {
     "name": "stdin",
     "output_type": "stream",
     "text": [
      "Give me a number 21\n"
     ]
    },
    {
     "name": "stdout",
     "output_type": "stream",
     "text": [
      "It's big\n"
     ]
    }
   ],
   "source": [
    "x = int(input(\"Give me a number\"))\n",
    "if x < 5:\n",
    "    print(\"It's small\")\n",
    "elif x > 20:\n",
    "    print(\"It's big\")\n",
    "    if x > 25:\n",
    "        print(\"More than I expected\")\n",
    "else:\n",
    "    print(\"It's medium\")"
   ]
  },
  {
   "cell_type": "markdown",
   "id": "d4e6e39f-9a45-4d3d-9570-75166fb06a58",
   "metadata": {},
   "source": [
    "### example 2"
   ]
  },
  {
   "cell_type": "code",
   "execution_count": 26,
   "id": "922fb4cd-2aed-4b28-90cd-37d216aed1aa",
   "metadata": {},
   "outputs": [
    {
     "name": "stdin",
     "output_type": "stream",
     "text": [
      "Give me a number 44\n"
     ]
    },
    {
     "name": "stdout",
     "output_type": "stream",
     "text": [
      "It's huge\n",
      "Thank you and goodbye\n"
     ]
    }
   ],
   "source": [
    "x = int(input(\"Give me a number\"))\n",
    "if x < 5:\n",
    "    print(\"It's small\")\n",
    "elif x < 20:\n",
    "    print(\"It's medium\")\n",
    "elif x < 20:\n",
    "    print(\"It's big\")\n",
    "else:\n",
    "    print(\"It's huge\")\n",
    "print(\"Thank you and goodbye\")"
   ]
  },
  {
   "cell_type": "markdown",
   "id": "0fc713f5-52e6-4ca1-8515-2f1255c45cca",
   "metadata": {},
   "source": [
    "## TRY / EXCEPT structure - eliminates a traceback / catches errors"
   ]
  },
  {
   "cell_type": "markdown",
   "id": "b3018582-7d91-44a7-beca-939dffb30000",
   "metadata": {},
   "source": [
    "### example 1"
   ]
  },
  {
   "cell_type": "code",
   "execution_count": 43,
   "id": "d1efe0b6-ee05-4a13-9d59-939583f61d52",
   "metadata": {},
   "outputs": [
    {
     "name": "stdin",
     "output_type": "stream",
     "text": [
      "Give me a number trfduti\n"
     ]
    },
    {
     "name": "stdout",
     "output_type": "stream",
     "text": [
      "It's not a number my friend\n"
     ]
    }
   ],
   "source": [
    "x = input(\"Give me a number\")\n",
    "try:\n",
    "    x = int(x)\n",
    "    print(x, \"is my favourite number\")\n",
    "except:\n",
    "    print(\"It's not a number my friend\")"
   ]
  },
  {
   "cell_type": "markdown",
   "id": "bb578d04-47b9-4e02-b9ce-193845359365",
   "metadata": {},
   "source": [
    "### example 2"
   ]
  },
  {
   "cell_type": "code",
   "execution_count": 24,
   "id": "7d598f2b-0b99-47c5-94f0-d9923a550eb5",
   "metadata": {},
   "outputs": [
    {
     "name": "stdin",
     "output_type": "stream",
     "text": [
      "What's your name? \n",
      " rop\n"
     ]
    },
    {
     "name": "stdout",
     "output_type": "stream",
     "text": [
      "Welcome, rop nice to meet you! \n",
      "\n"
     ]
    },
    {
     "name": "stdin",
     "output_type": "stream",
     "text": [
      "How old are you? ff\n"
     ]
    },
    {
     "name": "stdout",
     "output_type": "stream",
     "text": [
      "It's not a number my friend\n"
     ]
    }
   ],
   "source": [
    "x = input(\"What's your name? \\n\")\n",
    "print(\"Welcome,\", x, \"nice to meet you! \\n\")\n",
    "x = input(\"How old are you?\")\n",
    "try:\n",
    "    if int(x) < 20:\n",
    "        print(\"Nice,\", x, \"years old is so young!\")\n",
    "    if int(x) > 20:\n",
    "        print(\"Great,\", x, \"years old is an age of wisdom!\")\n",
    "except:\n",
    "    print(\"It's not a number my friend!\")"
   ]
  },
  {
   "cell_type": "code",
   "execution_count": 27,
   "id": "ae77255c-4f29-4833-a530-3d681fa6fad7",
   "metadata": {},
   "outputs": [
    {
     "name": "stdin",
     "output_type": "stream",
     "text": [
      "How old are you? \n",
      " 12\n"
     ]
    },
    {
     "name": "stdout",
     "output_type": "stream",
     "text": [
      "Nice, 12 years old is so young!\n"
     ]
    }
   ],
   "source": [
    "x = input(\"How old are you? \\n\")\n",
    "try:\n",
    "    x = int(x)\n",
    "    if x < 20:\n",
    "        print(\"Nice,\", x, \"years old is so young!\")\n",
    "    if x > 20:\n",
    "        print(\"Great,\", x, \"years old is an age of wisdom!\")\n",
    "except:\n",
    "    print(\"It's not a number my friend!\")"
   ]
  },
  {
   "cell_type": "markdown",
   "id": "bfca097e-576a-4710-b6d9-fc5d17fabf94",
   "metadata": {},
   "source": [
    "## Functions"
   ]
  },
  {
   "cell_type": "code",
   "execution_count": 30,
   "id": "04bcd588-1ab5-4a8d-b5d5-a2f42311e5fa",
   "metadata": {},
   "outputs": [],
   "source": [
    "def greet(language):\n",
    "    if language == \"es\":\n",
    "        print(\"Hola\")\n",
    "    elif language == \"fr\":\n",
    "        print(\"Bonjour\")\n",
    "    else:\n",
    "        print(\"Hi\")"
   ]
  },
  {
   "cell_type": "code",
   "execution_count": 31,
   "id": "2f206fff-9bcf-4c21-aa10-75d0f59563d3",
   "metadata": {},
   "outputs": [
    {
     "name": "stdout",
     "output_type": "stream",
     "text": [
      "Bonjour\n"
     ]
    }
   ],
   "source": [
    "greet(\"fr\")"
   ]
  },
  {
   "cell_type": "code",
   "execution_count": 4,
   "id": "5feb48c1-1649-4602-9a58-b9c3646f1fbb",
   "metadata": {
    "scrolled": true
   },
   "outputs": [
    {
     "name": "stdin",
     "output_type": "stream",
     "text": [
      "give me a word \n",
      " fdfuhf\n"
     ]
    },
    {
     "name": "stdout",
     "output_type": "stream",
     "text": [
      "u\n"
     ]
    }
   ],
   "source": [
    "word = input(\"give me a word \\n\")\n",
    "g = max(word)\n",
    "print(g)"
   ]
  },
  {
   "cell_type": "code",
   "execution_count": 49,
   "id": "463e51ba-d784-4bc8-bbb9-e2e9362e6327",
   "metadata": {},
   "outputs": [],
   "source": [
    "def x(word):\n",
    "    big = max(word)\n",
    "    print ('The biggest letter in this word is: ' + big)"
   ]
  },
  {
   "cell_type": "code",
   "execution_count": 51,
   "id": "c230ffce-1bb6-43fc-92ab-624514bea4b3",
   "metadata": {},
   "outputs": [
    {
     "name": "stdin",
     "output_type": "stream",
     "text": [
      "Choose a word \n",
      " Cat\n"
     ]
    },
    {
     "name": "stdout",
     "output_type": "stream",
     "text": [
      "The biggest letter in this word is: t\n"
     ]
    }
   ],
   "source": [
    "word = input('Choose a word \\n')\n",
    "x(word)"
   ]
  },
  {
   "cell_type": "markdown",
   "id": "45a67748-54fd-4b6d-b8b5-24e19d4c002b",
   "metadata": {},
   "source": [
    "## Multiple parameters/ arguments"
   ]
  },
  {
   "cell_type": "code",
   "execution_count": 9,
   "id": "8a78e46b-5150-4cd9-9c76-fba1c487206e",
   "metadata": {},
   "outputs": [],
   "source": [
    "def add(a, b):\n",
    "    adding = a + b\n",
    "    return adding"
   ]
  },
  {
   "cell_type": "code",
   "execution_count": 12,
   "id": "1a8c7e20-c764-463f-801f-0462b0af7c95",
   "metadata": {},
   "outputs": [
    {
     "name": "stdout",
     "output_type": "stream",
     "text": [
      "12\n"
     ]
    }
   ],
   "source": [
    "x = add(5, 7)\n",
    "print(x)"
   ]
  },
  {
   "cell_type": "markdown",
   "id": "793edfeb-db24-4c97-b97b-ca0649d81251",
   "metadata": {},
   "source": [
    "## Loops and iteration"
   ]
  },
  {
   "cell_type": "code",
   "execution_count": 4,
   "id": "346a6fca-47c5-4515-873b-67b1a60f9a81",
   "metadata": {},
   "outputs": [
    {
     "name": "stdout",
     "output_type": "stream",
     "text": [
      "10\n",
      "9\n",
      "8\n",
      "7\n",
      "6\n",
      "5\n",
      "4\n",
      "3\n",
      "2\n",
      "1\n",
      "Bye it is the end\n",
      "0\n"
     ]
    }
   ],
   "source": [
    "n = 10\n",
    "while n > 0:\n",
    "    print(n)\n",
    "    n = n-1\n",
    "print('Bye it is the end')\n",
    "print(n)"
   ]
  },
  {
   "cell_type": "code",
   "execution_count": 4,
   "id": "50083449-c20d-4fc0-8004-a1576abf4df6",
   "metadata": {},
   "outputs": [
    {
     "name": "stdout",
     "output_type": "stream",
     "text": [
      "Lather\n",
      "Rinse\n",
      "Lather\n",
      "Rinse\n",
      "Lather\n",
      "Rinse\n",
      "Lather\n",
      "Rinse\n",
      "Lather\n",
      "Rinse\n",
      "Day off!\n"
     ]
    }
   ],
   "source": [
    "n = 5\n",
    "while n>0: \n",
    "    print('Lather')\n",
    "    print('Rinse')\n",
    "    n = n-1\n",
    "print('Day off!')"
   ]
  },
  {
   "cell_type": "markdown",
   "id": "43c870f7-d68b-4403-b312-370182d49de1",
   "metadata": {},
   "source": [
    "### Breaking out of a loop"
   ]
  },
  {
   "cell_type": "code",
   "execution_count": 52,
   "id": "e087dc74-3b71-4c33-98ce-2729829eb22b",
   "metadata": {},
   "outputs": [
    {
     "name": "stdin",
     "output_type": "stream",
     "text": [
      "Say something \n",
      " Hi\n"
     ]
    },
    {
     "name": "stdout",
     "output_type": "stream",
     "text": [
      "Hi\n"
     ]
    },
    {
     "name": "stdin",
     "output_type": "stream",
     "text": [
      "Say something \n",
      " done\n"
     ]
    },
    {
     "name": "stdout",
     "output_type": "stream",
     "text": [
      "I'm done too!\n"
     ]
    }
   ],
   "source": [
    "while True:\n",
    "    line = input('Say something \\n')\n",
    "    if line == 'done':\n",
    "        break\n",
    "    print(line)\n",
    "print(\"I'm done too!\")"
   ]
  },
  {
   "cell_type": "markdown",
   "id": "35f7714d-b590-4dca-89f8-ff2245d85319",
   "metadata": {},
   "source": [
    "### Finishing an iteration with CONTINUE"
   ]
  },
  {
   "cell_type": "code",
   "execution_count": 53,
   "id": "c6411e01-1dab-461a-acb9-d85c970a512e",
   "metadata": {},
   "outputs": [
    {
     "name": "stdin",
     "output_type": "stream",
     "text": [
      "Say something \n",
      " Hi\n"
     ]
    },
    {
     "name": "stdout",
     "output_type": "stream",
     "text": [
      "Hi!\n"
     ]
    },
    {
     "name": "stdin",
     "output_type": "stream",
     "text": [
      "Say something \n",
      " #big\n",
      "Say something \n",
      " done\n"
     ]
    },
    {
     "name": "stdout",
     "output_type": "stream",
     "text": [
      "I'm done too!\n"
     ]
    }
   ],
   "source": [
    "while True:\n",
    "    line = input('Say something \\n')\n",
    "    if line [0] == '#':\n",
    "        continue\n",
    "    if line == 'done':\n",
    "        break\n",
    "    print(line + '!')\n",
    "print (\"I'm done too!\")\n"
   ]
  },
  {
   "cell_type": "markdown",
   "id": "dfa8dd5b-b161-4abe-b670-efdce028c808",
   "metadata": {},
   "source": [
    "## Definite loops"
   ]
  },
  {
   "cell_type": "code",
   "execution_count": null,
   "id": "2d1c1f61-3a72-4e6d-ba08-ffe3a2d02cb9",
   "metadata": {},
   "outputs": [],
   "source": []
  }
 ],
 "metadata": {
  "kernelspec": {
   "display_name": "Python 3 (ipykernel)",
   "language": "python",
   "name": "python3"
  },
  "language_info": {
   "codemirror_mode": {
    "name": "ipython",
    "version": 3
   },
   "file_extension": ".py",
   "mimetype": "text/x-python",
   "name": "python",
   "nbconvert_exporter": "python",
   "pygments_lexer": "ipython3",
   "version": "3.12.7"
  }
 },
 "nbformat": 4,
 "nbformat_minor": 5
}

{
 "cells": [
  {
   "cell_type": "markdown",
   "metadata": {},
   "source": [
    "Beata Sirowy\n",
    "# __Analyzing text__\n"
   ]
  },
  {
   "cell_type": "markdown",
   "metadata": {},
   "source": [
    "You can analyze text files containing entire books. Many classic works of literature are available as simple text files because they are in the public domain. The texts used in this section come from Project Gutenberg\n",
    "\n",
    "(https://gutenberg.org)."
   ]
  },
  {
   "cell_type": "markdown",
   "metadata": {},
   "source": [
    "Let’s pull in the text of Alice in Wonderland and try to count the number\n",
    "of words in the text. To do this, we’ll use the string method split(), which\n",
    "by default splits a string wherever it finds any whitespace:"
   ]
  },
  {
   "cell_type": "code",
   "execution_count": 15,
   "metadata": {},
   "outputs": [
    {
     "name": "stdout",
     "output_type": "stream",
     "text": [
      "\n",
      "\n",
      "CHAPTER I.\n",
      "Down the Rabbit-Hole\n",
      "\n",
      "\n",
      "Alice was beginning to get very tired of sitting by her sister on the\n",
      "bank, and of having nothing to do: once or twice she had peeped into\n",
      "the book her sister was reading, but it had no pictures or\n",
      "conversations in it, “and what is the use of a book,” thought Alice\n",
      "“without pictures or conversations?”\n",
      "\n",
      "\n",
      "\n",
      "\n",
      "The document has about 3755 lines.\n",
      "The document has about 29564 words.\n"
     ]
    }
   ],
   "source": [
    "from pathlib import Path\n",
    "path = Path(r\"C:\\Users\\Beata\\Documents\\Books\\alice.txt\")\n",
    "contents = path.read_text(encoding='utf-8').rstrip()\n",
    "lines = contents.splitlines()\n",
    "words = contents.split()\n",
    "\n",
    "for line in lines[50:61]:\n",
    "    print(line)\n",
    "print(\"\\n\")\n",
    "    \n",
    "num_lines = (len(lines))\n",
    "num_words=(len(words))\n",
    "print(\"\\n\")\n",
    "\n",
    "print(f\"The document has about {num_lines} lines.\")\n",
    "print(f\"The document has about {num_words} words.\")\n",
    "    "
   ]
  },
  {
   "cell_type": "markdown",
   "metadata": {},
   "source": [
    "__Working with Multiple Files__\n",
    "\n",
    "We can move the bulk of this program to a function called count_words(). This will make it easier to\n",
    "run the analysis for multiple books:"
   ]
  },
  {
   "cell_type": "code",
   "execution_count": null,
   "metadata": {},
   "outputs": [
    {
     "name": "stdout",
     "output_type": "stream",
     "text": [
      "The file C:\\Users\\Beata\\Documents\\Books\\alice.txt has about 29564 words.\n"
     ]
    }
   ],
   "source": [
    "from pathlib import Path\n",
    "\n",
    "path2 = Path(input(\"Please provide a txt file path\"))\n",
    "\n",
    "\n",
    "\n",
    "def count_words(path2):\n",
    "    try:\n",
    "        contents = path2.read_text(encoding='utf-8')\n",
    "    except :\n",
    "        print(f\"Sorry, the file {path2} does not exist.\")\n",
    "    else: # Count the approximate number of words in the file:\n",
    "        words = contents.split()\n",
    "        num_words = len(words)\n",
    "        print(f\"The file {path2} has about {num_words} words.\")\n",
    "\n",
    "\n",
    "\n",
    "\n",
    "count_words(path2)\n",
    "\n"
   ]
  },
  {
   "cell_type": "code",
   "execution_count": null,
   "metadata": {},
   "outputs": [
    {
     "name": "stdout",
     "output_type": "stream",
     "text": [
      "The file C:\\Users\\Beata\\Documents\\Books\\bible.txt has about 824036 words.\n"
     ]
    }
   ],
   "source": [
    "from pathlib import Path\n",
    "\n",
    "path1 = Path(input(\"Please, provide the file path\"))\n",
    "\n",
    "def count_words(path1):\n",
    "    # Count the approximate number of words in the file:\n",
    "    contents = path1.read_text(encoding='utf-8')\n",
    "    words = contents.split()\n",
    "    num_words = len(words)\n",
    "    print(f\"The file {path1} has about {num_words} words.\")\n",
    "\n",
    "\n",
    "\n",
    "\n",
    "count_words(path1)\n",
    "\n"
   ]
  },
  {
   "cell_type": "markdown",
   "metadata": {},
   "source": [
    "We can modify the program to return the last elementt in the file path:"
   ]
  },
  {
   "cell_type": "code",
   "execution_count": null,
   "metadata": {},
   "outputs": [
    {
     "name": "stdout",
     "output_type": "stream",
     "text": [
      "The file bible.txt has about 824036 words.\n"
     ]
    }
   ],
   "source": [
    "from pathlib import Path\n",
    "\n",
    "path1 = Path(input(\"Please, provide the file path\"))\n",
    "\n",
    "def get_last_element(path): # Return the last element of the file path \n",
    "    return path.name\n",
    "\n",
    "def count_words(path):\n",
    "    # Count the approximate number of words in the file:\n",
    "    contents = path.read_text(encoding='utf-8')\n",
    "    words = contents.split()\n",
    "    num_words = len(words)\n",
    "    print(f\"The file {get_last_element(path)} has about {num_words} words.\")\n",
    "\n",
    "\n",
    "\n",
    "\n",
    "count_words(path1)\n",
    "\n",
    "print(get_last_element(Path(input(\"Please, provide the file path\"))))"
   ]
  },
  {
   "cell_type": "markdown",
   "metadata": {},
   "source": [
    "__Finding a random line in the text__"
   ]
  },
  {
   "cell_type": "markdown",
   "metadata": {},
   "source": [
    "randint() function from random module takes two integer arguments and returns a randomly selected inte-\n",
    "ger between (and including) those numbers."
   ]
  },
  {
   "cell_type": "code",
   "execution_count": null,
   "metadata": {},
   "outputs": [
    {
     "data": {
      "text/plain": [
       "5"
      ]
     },
     "metadata": {},
     "output_type": "display_data"
    }
   ],
   "source": [
    "from random import randint\n",
    "randint(1, 6)"
   ]
  },
  {
   "cell_type": "markdown",
   "metadata": {},
   "source": [
    "Another useful function is choice(). This function takes in a list or tuple\n",
    "and returns a randomly chosen element:"
   ]
  },
  {
   "cell_type": "code",
   "execution_count": null,
   "metadata": {},
   "outputs": [
    {
     "data": {
      "text/plain": [
       "'martina'"
      ]
     },
     "metadata": {},
     "output_type": "display_data"
    }
   ],
   "source": [
    "from random import choice\n",
    "players = ['charles', 'martina', 'michael', 'florence', 'eli']\n",
    "first_up = choice(players)\n",
    "\n",
    "first_up\n"
   ]
  },
  {
   "cell_type": "markdown",
   "metadata": {},
   "source": [
    "We can use it to select a random line from a text - in this case, _Alice in the Wonderland_"
   ]
  },
  {
   "cell_type": "code",
   "execution_count": null,
   "metadata": {},
   "outputs": [
    {
     "data": {
      "text/plain": [
       "'either question, it didn’t much matter which way she put it. She felt'"
      ]
     },
     "metadata": {},
     "output_type": "display_data"
    }
   ],
   "source": [
    "from random import choice\n",
    "from pathlib import Path\n",
    "\n",
    "path = Path(r\"C:\\Users\\Beata\\Documents\\Books\\alice.txt\")\n",
    "contents = path.read_text(encoding='utf-8')\n",
    "lines = contents.splitlines()\n",
    "\n",
    "random_line = choice(lines)\n",
    "\n",
    "random_line\n",
    "\n"
   ]
  },
  {
   "cell_type": "markdown",
   "metadata": {},
   "source": [
    "__This version returns a full sentence__"
   ]
  },
  {
   "cell_type": "code",
   "execution_count": 12,
   "metadata": {},
   "outputs": [
    {
     "name": "stdout",
     "output_type": "stream",
     "text": [
      "“Poor little\n",
      "thing!” said Alice, in a coaxing tone, and she tried hard to whistle to\n",
      "it; but she was terribly frightened all the time at the thought that it\n",
      "might be hungry, in which case it would be very likely to eat her up in\n",
      "spite of all her coaxing.\n"
     ]
    }
   ],
   "source": [
    "from random import choice\n",
    "from pathlib import Path\n",
    "import re\n",
    "\n",
    "path = Path(r\"C:\\Users\\Beata\\Documents\\Books\\alice.txt\")\n",
    "contents = path.read_text(encoding='utf-8')\n",
    "\n",
    "# Split the text into sentences using a regular expression\n",
    "sentences = re.split(r'(?<=[.!?])\\s+', contents) \n",
    "\n",
    "# Randomly select a sentence and find its index\n",
    "random_sentence = choice(sentences) \n",
    "\n",
    "print(random_sentence)\n"
   ]
  },
  {
   "cell_type": "markdown",
   "metadata": {},
   "source": [
    "__This version allows a user input - file path__"
   ]
  },
  {
   "cell_type": "code",
   "execution_count": 13,
   "metadata": {},
   "outputs": [
    {
     "ename": "KeyboardInterrupt",
     "evalue": "Interrupted by user",
     "output_type": "error",
     "traceback": [
      "\u001b[1;31m---------------------------------------------------------------------------\u001b[0m",
      "\u001b[1;31mKeyboardInterrupt\u001b[0m                         Traceback (most recent call last)",
      "Cell \u001b[1;32mIn[13], line 6\u001b[0m\n\u001b[0;32m      3\u001b[0m \u001b[38;5;28;01mimport\u001b[39;00m \u001b[38;5;21;01mre\u001b[39;00m\n\u001b[0;32m      5\u001b[0m \u001b[38;5;66;03m# Read the file path from user input\u001b[39;00m\n\u001b[1;32m----> 6\u001b[0m path \u001b[38;5;241m=\u001b[39m Path(\u001b[38;5;28;43minput\u001b[39;49m\u001b[43m(\u001b[49m\u001b[38;5;124;43m\"\u001b[39;49m\u001b[38;5;124;43mPlease, provide the file path\u001b[39;49m\u001b[38;5;124;43m\"\u001b[39;49m\u001b[43m)\u001b[49m)\n\u001b[0;32m      7\u001b[0m contents \u001b[38;5;241m=\u001b[39m path\u001b[38;5;241m.\u001b[39mread_text(encoding\u001b[38;5;241m=\u001b[39m\u001b[38;5;124m'\u001b[39m\u001b[38;5;124mutf-8\u001b[39m\u001b[38;5;124m'\u001b[39m)\n\u001b[0;32m      9\u001b[0m \u001b[38;5;66;03m# Split the text into sentences using a regular expression\u001b[39;00m\n",
      "File \u001b[1;32m~\\AppData\\Roaming\\Python\\Python313\\site-packages\\ipykernel\\kernelbase.py:1282\u001b[0m, in \u001b[0;36mKernel.raw_input\u001b[1;34m(self, prompt)\u001b[0m\n\u001b[0;32m   1280\u001b[0m     msg \u001b[38;5;241m=\u001b[39m \u001b[38;5;124m\"\u001b[39m\u001b[38;5;124mraw_input was called, but this frontend does not support input requests.\u001b[39m\u001b[38;5;124m\"\u001b[39m\n\u001b[0;32m   1281\u001b[0m     \u001b[38;5;28;01mraise\u001b[39;00m StdinNotImplementedError(msg)\n\u001b[1;32m-> 1282\u001b[0m \u001b[38;5;28;01mreturn\u001b[39;00m \u001b[38;5;28;43mself\u001b[39;49m\u001b[38;5;241;43m.\u001b[39;49m\u001b[43m_input_request\u001b[49m\u001b[43m(\u001b[49m\n\u001b[0;32m   1283\u001b[0m \u001b[43m    \u001b[49m\u001b[38;5;28;43mstr\u001b[39;49m\u001b[43m(\u001b[49m\u001b[43mprompt\u001b[49m\u001b[43m)\u001b[49m\u001b[43m,\u001b[49m\n\u001b[0;32m   1284\u001b[0m \u001b[43m    \u001b[49m\u001b[38;5;28;43mself\u001b[39;49m\u001b[38;5;241;43m.\u001b[39;49m\u001b[43m_parent_ident\u001b[49m\u001b[43m[\u001b[49m\u001b[38;5;124;43m\"\u001b[39;49m\u001b[38;5;124;43mshell\u001b[39;49m\u001b[38;5;124;43m\"\u001b[39;49m\u001b[43m]\u001b[49m\u001b[43m,\u001b[49m\n\u001b[0;32m   1285\u001b[0m \u001b[43m    \u001b[49m\u001b[38;5;28;43mself\u001b[39;49m\u001b[38;5;241;43m.\u001b[39;49m\u001b[43mget_parent\u001b[49m\u001b[43m(\u001b[49m\u001b[38;5;124;43m\"\u001b[39;49m\u001b[38;5;124;43mshell\u001b[39;49m\u001b[38;5;124;43m\"\u001b[39;49m\u001b[43m)\u001b[49m\u001b[43m,\u001b[49m\n\u001b[0;32m   1286\u001b[0m \u001b[43m    \u001b[49m\u001b[43mpassword\u001b[49m\u001b[38;5;241;43m=\u001b[39;49m\u001b[38;5;28;43;01mFalse\u001b[39;49;00m\u001b[43m,\u001b[49m\n\u001b[0;32m   1287\u001b[0m \u001b[43m\u001b[49m\u001b[43m)\u001b[49m\n",
      "File \u001b[1;32m~\\AppData\\Roaming\\Python\\Python313\\site-packages\\ipykernel\\kernelbase.py:1325\u001b[0m, in \u001b[0;36mKernel._input_request\u001b[1;34m(self, prompt, ident, parent, password)\u001b[0m\n\u001b[0;32m   1322\u001b[0m \u001b[38;5;28;01mexcept\u001b[39;00m \u001b[38;5;167;01mKeyboardInterrupt\u001b[39;00m:\n\u001b[0;32m   1323\u001b[0m     \u001b[38;5;66;03m# re-raise KeyboardInterrupt, to truncate traceback\u001b[39;00m\n\u001b[0;32m   1324\u001b[0m     msg \u001b[38;5;241m=\u001b[39m \u001b[38;5;124m\"\u001b[39m\u001b[38;5;124mInterrupted by user\u001b[39m\u001b[38;5;124m\"\u001b[39m\n\u001b[1;32m-> 1325\u001b[0m     \u001b[38;5;28;01mraise\u001b[39;00m \u001b[38;5;167;01mKeyboardInterrupt\u001b[39;00m(msg) \u001b[38;5;28;01mfrom\u001b[39;00m \u001b[38;5;28;01mNone\u001b[39;00m\n\u001b[0;32m   1326\u001b[0m \u001b[38;5;28;01mexcept\u001b[39;00m \u001b[38;5;167;01mException\u001b[39;00m:\n\u001b[0;32m   1327\u001b[0m     \u001b[38;5;28mself\u001b[39m\u001b[38;5;241m.\u001b[39mlog\u001b[38;5;241m.\u001b[39mwarning(\u001b[38;5;124m\"\u001b[39m\u001b[38;5;124mInvalid Message:\u001b[39m\u001b[38;5;124m\"\u001b[39m, exc_info\u001b[38;5;241m=\u001b[39m\u001b[38;5;28;01mTrue\u001b[39;00m)\n",
      "\u001b[1;31mKeyboardInterrupt\u001b[0m: Interrupted by user"
     ]
    }
   ],
   "source": [
    "from random import choice\n",
    "from pathlib import Path\n",
    "import re\n",
    "\n",
    "# Read the file path from user input\n",
    "path = Path(input(\"Please, provide the file path\"))\n",
    "contents = path.read_text(encoding='utf-8')\n",
    "\n",
    "# Split the text into sentences using a regular expression\n",
    "sentences = re.split(r'(?<=[.!?])\\s+', contents) \n",
    "\n",
    "# Randomly select a sentence and find its index\n",
    "random_sentence = choice(sentences) \n",
    "\n",
    "print(random_sentence)"
   ]
  },
  {
   "cell_type": "markdown",
   "metadata": {},
   "source": [
    "__Requesting another random sentence__\n",
    "\n",
    "We can modify the program to run in a loop, allowing the user to request another random sentence by typing \"+\" and to quit by typing \"q\". Here we use _Tao Te Ching_"
   ]
  },
  {
   "cell_type": "code",
   "execution_count": 14,
   "metadata": {},
   "outputs": [
    {
     "name": "stdout",
     "output_type": "stream",
     "text": [
      "It is because they do not know these, that men do not know me.\n",
      "Men resort to him, and receive no hurt,\n",
      "but (find) rest, peace, and the feeling of ease.\n",
      "With that gentleness I can be bold; with that economy I can be\n",
      "liberal; shrinking from taking precedence of others, I can become\n",
      "a vessel of the highest honour.\n",
      "I alone seem to have lost everything.\n",
      "3.\n",
      "Program terminated.\n"
     ]
    }
   ],
   "source": [
    "from random import choice\n",
    "from pathlib import Path\n",
    "import re\n",
    "\n",
    "def get_random_sentence(sentences): \n",
    "    return choice(sentences)\n",
    "\n",
    "# Read the file path from user input\n",
    "path = Path(r\"C:\\Users\\Beata\\Documents\\Books\\tao.txt\")\n",
    "contents = path.read_text(encoding='utf-8')\n",
    "\n",
    "# Split the text into sentences using a regular expression\n",
    "sentences = re.split(r'(?<=[.!?])\\s+', contents) \n",
    "\n",
    "active = True\n",
    "while active:\n",
    "    print(choice(sentences))\n",
    "    user_input = input(\"Enter '+' for another sentence or 'q' to quit: \").strip()\n",
    "    \n",
    "    if user_input == 'q':\n",
    "        active = False\n",
    "print(\"Program terminated.\")\n",
    "\n",
    "    "
   ]
  },
  {
   "cell_type": "markdown",
   "metadata": {},
   "source": [
    "__Including the surrounding text__\n",
    "\n",
    "We can modify the program to include n lines before and after the randomly selected line."
   ]
  },
  {
   "cell_type": "code",
   "execution_count": null,
   "metadata": {},
   "outputs": [
    {
     "name": "stdout",
     "output_type": "stream",
     "text": [
      "\n",
      "Presently the Rabbit came up to the door, and tried to open it; but, as\n",
      "the door opened inwards, and Alice’s elbow was pressed hard against it,\n",
      "that attempt proved a failure. Alice heard it say to itself “Then I’ll\n",
      "go round and get in at the window.”\n"
     ]
    }
   ],
   "source": [
    "from random import choice\n",
    "from pathlib import Path\n",
    "\n",
    "# Function get_surrounding_lines: \n",
    "# This function takes the list of lines, the index of the randomly selected line, \n",
    "# and the number of lines to include before and after. \n",
    "# It calculates the start and end indices, ensuring they stay within the bounds of the list.\n",
    "\n",
    "def get_surrounding_lines(lines, random_index, n):\n",
    "    start_index = max(0, random_index - n)\n",
    "    end_index = min(len(lines), random_index + n + 1)\n",
    "    return lines[start_index:end_index]\n",
    "\n",
    "path = Path(r\"C:\\Users\\Beata\\Documents\\Books\\alice.txt\")\n",
    "contents = path.read_text(encoding='utf-8')\n",
    "lines = contents.splitlines()\n",
    "\n",
    "# The script selects a random line and finds its index in the list.\n",
    "random_index = lines.index(choice(lines))\n",
    "n = 2 # Number of lines before and after to include \n",
    "\n",
    "surrounding_lines = get_surrounding_lines(lines, random_index, n) \n",
    "\n",
    "for line in surrounding_lines: \n",
    "    print(line)\n"
   ]
  },
  {
   "cell_type": "markdown",
   "metadata": {},
   "source": [
    "We can retrieve surrounding text based on sentences instead of lines "
   ]
  },
  {
   "cell_type": "code",
   "execution_count": null,
   "metadata": {},
   "outputs": [
    {
     "name": "stdout",
     "output_type": "stream",
     "text": [
      "“If I eat one of these cakes,” she thought, “it’s sure to make\n",
      "_some_ change in my size; and as it can’t possibly make me larger, it\n",
      "must make me smaller, I suppose.”\n",
      "\n",
      "So she swallowed one of the cakes, and was delighted to find that she\n",
      "began shrinking directly.\n",
      "As soon as she was small enough to get\n",
      "through the door, she ran out of the house, and found quite a crowd of\n",
      "little animals and birds waiting outside.\n"
     ]
    }
   ],
   "source": [
    "from random import choice\n",
    "from pathlib import Path\n",
    "import re\n",
    "\n",
    "# Get the sentence before, the random sentence, and the sentence after\n",
    "def get_surrounding_sentences(sentences, random_index):\n",
    "    start_index = max(0, random_index - 1) \n",
    "    end_index = min(len(sentences), random_index + 1) \n",
    "    return sentences[start_index:end_index]\n",
    "\n",
    "# Split the text into sentences using a regular expression\n",
    "path = Path(r\"C:\\Users\\Beata\\Documents\\Books\\alice.txt\") \n",
    "contents = path.read_text(encoding='utf-8')\n",
    "sentences = re.split(r'(?<=[.!?]) +', contents) \n",
    "\n",
    "# Randomly select a sentence and find its index\n",
    "random_sentence = choice(sentences) \n",
    "random_index = sentences.index(random_sentence)\n",
    "\n",
    "# Retrieve the surrounding sentences \n",
    "surrounding_sentences = get_surrounding_sentences(sentences, random_index)\n",
    "\n",
    "for sentence in surrounding_sentences: \n",
    "    print(sentence)\n",
    "\n",
    "\n"
   ]
  }
 ],
 "metadata": {
  "kernelspec": {
   "display_name": "Python 3",
   "language": "python",
   "name": "python3"
  },
  "language_info": {
   "codemirror_mode": {
    "name": "ipython",
    "version": 3
   },
   "file_extension": ".py",
   "mimetype": "text/x-python",
   "name": "python",
   "nbconvert_exporter": "python",
   "pygments_lexer": "ipython3",
   "version": "3.13.0"
  }
 },
 "nbformat": 4,
 "nbformat_minor": 2
}

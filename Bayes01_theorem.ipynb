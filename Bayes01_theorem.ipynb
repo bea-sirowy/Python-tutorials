{
 "cells": [
  {
   "cell_type": "markdown",
   "metadata": {},
   "source": [
    "Beata Sirowy\n",
    "\n",
    "# Bayes therorem in practice\n",
    "\n",
    "Based on: Downey, A. (2021) _Think Bayes_"
   ]
  },
  {
   "attachments": {
    "image.png": {
     "image/png": "[encoded data removed]"
    }
   },
   "cell_type": "markdown",
   "metadata": {},
   "source": [
    "![image.png](attachment:image.png)"
   ]
  },
  {
   "cell_type": "markdown",
   "metadata": {},
   "source": [
    "### The cookie problem (example)"
   ]
  },
  {
   "cell_type": "markdown",
   "metadata": {},
   "source": [
    "Suppose there are two bowls of cookies.\n",
    "\n",
    "- Bowl 1 contains 30 vanilla cookies and 10 chocolate cookies.\n",
    "- Bowl 2 contains 20 vanilla cookies and 20 chocolate cookies.\n",
    "\n",
    "Now suppose you choose one of the bowls at random and, without looking,\n",
    "choose a cookie at random. If the cookie is vanilla, what is the probability that\n",
    "it came from Bowl 1?"
   ]
  },
  {
   "cell_type": "markdown",
   "metadata": {},
   "source": [
    "P (Bowl 1, given = vanilla) = P(Bowl1)P(vanilla, given Bowl1) / P(vanilla)\n",
    "\n",
    "P(B1\\V) = P(B1)P(V\\B1) \\ P(V)\n",
    "\n",
    "P(B1) = 0.5\n",
    "P (V\\B1) = 0.75\n",
    "p(V) = 5/8\n",
    "\n",
    "P (B1\\V) = 0.5 * 0,75 / (5/8)"
   ]
  },
  {
   "cell_type": "code",
   "execution_count": 14,
   "metadata": {},
   "outputs": [
    {
     "name": "stdout",
     "output_type": "stream",
     "text": [
      "Given that the cookie is vanilla, the probability that it came from Bowl 1 is: 0.6\n"
     ]
    }
   ],
   "source": [
    "result = 0.5 * 0.75 / (5/8)\n",
    "print(f\"Given that the cookie is vanilla, the probability that it came from Bowl 1 is: {result}\")"
   ]
  },
  {
   "cell_type": "markdown",
   "metadata": {},
   "source": [
    "### A coin toss (example)\n",
    "\n",
    "- coin 1: equal chances of getting H and T\n",
    "- coin 2: 90% chance of getting H\n",
    "\n",
    "We randomly choose a coin. Given that we got heads, what is the chance that it was coin 2?\n",
    "\n",
    "We have to compute P (C2 given H)\n",
    "\n",
    "\n",
    "P (C2 \\ H) = P(C2) * P(H\\C2) / P(H)\n",
    "\n",
    "P(C2) = 0.5\n",
    "P (H\\C2) = 0.9\n",
    "p (H) = 14/20 = 0.7\n",
    "\n",
    "P P (C2\\H) = 0.5 * 0.9 / 0.7\n"
   ]
  },
  {
   "cell_type": "code",
   "execution_count": 17,
   "metadata": {},
   "outputs": [
    {
     "name": "stdout",
     "output_type": "stream",
     "text": [
      "Given that the result is heads, the probability that we picked Coin 2 is: 0.6428571428571429\n"
     ]
    }
   ],
   "source": [
    "result1 = 0.5 * 0.9 / 0.7\n",
    "print(f\"Given that the result is heads, the probability that we picked Coin 2 is: {result1}\")"
   ]
  },
  {
   "cell_type": "markdown",
   "metadata": {},
   "source": [
    "### Medical screening (example)"
   ]
  },
  {
   "cell_type": "markdown",
   "metadata": {},
   "source": [
    "Suppose a physician reported the following cancer\n",
    "screening test scenario among 10,000 people:"
   ]
  },
  {
   "attachments": {
    "image.png": {
     "image/png": "[encoded data removed]"
    }
   },
   "cell_type": "markdown",
   "metadata": {},
   "source": [
    "![image.png](attachment:image.png)"
   ]
  },
  {
   "cell_type": "markdown",
   "metadata": {},
   "source": [
    "If the result of this screening test on a person is positive, what is the\n",
    "probability that they actually have cancer?"
   ]
  },
  {
   "cell_type": "markdown",
   "metadata": {},
   "source": [
    "We have to compute P (C, P)\n",
    "\n",
    "\n",
    "P(C\\ P) = P(C) * P (P\\ C) / P (P)\n",
    "\n",
    "P(C) = 0.01\n",
    "P(P) = 0.098\n",
    "P (P\\c) = 0.8\n",
    "\n",
    "p(C\\P) = 0.01 * 0.8 / 0.098 "
   ]
  },
  {
   "cell_type": "code",
   "execution_count": 19,
   "metadata": {},
   "outputs": [
    {
     "name": "stdout",
     "output_type": "stream",
     "text": [
      "Given that the screening result is positive, the probability that the person has cancer is: 0.08163265306122448\n"
     ]
    }
   ],
   "source": [
    "result2 = 0.01 * 0.8 / 0.098 \n",
    "print(f\"Given that the screening result is positive, the probability that the person has cancer is: {result2}\")"
   ]
  },
  {
   "cell_type": "markdown",
   "metadata": {},
   "source": [
    "Given a positive screening result, the chance that the subject has cancer is\n",
    "8.16%, which is significantly higher than the one under general assumption\n",
    "(100/10000=1%) without the subject undergoing the screening."
   ]
  },
  {
   "cell_type": "markdown",
   "metadata": {},
   "source": [
    "### Factory machines (example)\n",
    "\n",
    "Three machines A, B, and C in a factory account for 35%,\n",
    "20%, and 45% of bulb production. The fraction of defective bulbs\n",
    "produced by each machine is 1.5%, 1%, and 2%, respectively. A bulb\n",
    "produced by this factory was identified as defective, which is denoted\n",
    "as event D. What are the probabilities that this bulb was manufactured\n",
    "by machine A, B, and C, respectively?"
   ]
  },
  {
   "cell_type": "markdown",
   "metadata": {},
   "source": [
    "P(A\\D) = P(A) * P(D\\A) / P(D)\n",
    "\n",
    "P(B\\D) = P(B) * P(D\\B) / P(D)\n",
    "\n",
    "P(C\\D) = P(C) * P(C\\A) / P(D)\n",
    "\n",
    "\n",
    "P(A) = 0.35,  P(D\\A) = 0,0015\n",
    "\n",
    "P(B) = 0.20,  P(D\\B) = 0.001\n",
    "\n",
    "P(C) = 0.45, P(D\\c) = 0.002\n",
    "\n",
    "P (D) = P(DA) + P(DB) + P(DC) = 0.35 * 0.0015 + 0.2 * 0.001 + 0.45 * 0.002"
   ]
  },
  {
   "cell_type": "code",
   "execution_count": 29,
   "metadata": {},
   "outputs": [
    {
     "name": "stdout",
     "output_type": "stream",
     "text": [
      "The chance that the defective bulb comes from machine A is:  0.32307692307692304\n",
      "The chance that the defective bulb comes from machine B is:  0.12307692307692307\n",
      "The chance that the defective bulb comes from machine C is:  0.5538461538461539\n",
      "The total probability of events:  1.0\n"
     ]
    }
   ],
   "source": [
    "Pd = (0.35 * 0.0015) + (0.2 * 0.001) + (0.45 * 0.002)\n",
    "\n",
    "resultA = 0.35 * 0.0015 / Pd\n",
    "\n",
    "resultB = 0.2 * 0.001 / Pd\n",
    "\n",
    "resultC = 0.45 * 0.002 / Pd\n",
    "\n",
    "\n",
    "print(\"The chance that the defective bulb comes from machine A is: \", resultA)\n",
    "print(\"The chance that the defective bulb comes from machine B is: \", resultB)\n",
    "print(\"The chance that the defective bulb comes from machine C is: \", resultC)\n",
    "\n",
    "\n",
    "sum = resultA + resultB + resultC\n",
    "\n",
    "print(\"The total probability of events: \", sum)\n"
   ]
  },
  {
   "cell_type": "markdown",
   "metadata": {},
   "source": [
    "### Diachronic Bayes\n",
    "There is another way to think of Bayes’s theorem: it gives us a way to update the\n",
    "probability of a hypothesis H , given some body of data, D .\n",
    "- This interpretation is “diachronic”, which means “related to change over time”;\n",
    "in this case, the probability of the hypotheses changes as we see new data.\n",
    "- Rewriting Bayes’s theorem with H and D yields:"
   ]
  },
  {
   "attachments": {
    "image.png": {
     "image/png": "[encoded data removed]"
    }
   },
   "cell_type": "markdown",
   "metadata": {},
   "source": [
    "![image.png](attachment:image.png)"
   ]
  },
  {
   "attachments": {
    "image.png": {
     "image/png": "[encoded data removed]"
    }
   },
   "cell_type": "markdown",
   "metadata": {},
   "source": [
    "![image.png](attachment:image.png)"
   ]
  },
  {
   "attachments": {
    "image-2.png": {
     "image/png": "[encoded data removed]"
    },
    "image.png": {
     "image/png": "[encoded data removed]"
    }
   },
   "cell_type": "markdown",
   "metadata": {},
   "source": [
    "- Sometimes we can compute the prior based on background information. For\n",
    "example, the Cookie Problem specifies that we choose a bowl at random with\n",
    "equal probability.\n",
    "- In other cases the prior is subjective; that is, reasonable people might disagree,\n",
    "either because they use different background information or because they\n",
    "interpret the same information differently.\n",
    "- The likelihood is usually the easiest part to compute. In the Cookie Problem, we\n",
    "are given the number of cookies in each bowl, so we can compute the probability of the data under each hypothesis.\n",
    "- Computing the total probability of the data can be tricky. It is supposed to be the\n",
    "probability of seeing the data under any hypothesis at all, but it can be hard to\n",
    "nail down what that means.\n",
    "- Most often we simplify things by specifying a set of hypotheses that are:\n",
    "Mutually exclusive, which means that only one of them can be true, and\n",
    "Collectively exhaustive, which means one of them must be true.\n",
    "- When these conditions apply, we can compute using the law of total\n",
    "probability.\n",
    "\n",
    "![image.png](attachment:image.png)\n",
    "\n",
    "![image-2.png](attachment:image-2.png)"
   ]
  },
  {
   "cell_type": "markdown",
   "metadata": {},
   "source": [
    "The process of using data and a prior probability to compute a\n",
    "posterior probability, is called __a Bayesian update__."
   ]
  },
  {
   "cell_type": "markdown",
   "metadata": {},
   "source": [
    "### Bayes tables: cookie example"
   ]
  },
  {
   "cell_type": "markdown",
   "metadata": {},
   "source": [
    "A convenient tool for doing a Bayesian update is a Bayes table. You can write a\n",
    "Bayes table on paper or use a spreadsheet, but in this section I’ll use a pandas\n",
    "DataFrame."
   ]
  },
  {
   "cell_type": "code",
   "execution_count": 31,
   "metadata": {},
   "outputs": [
    {
     "data": {
      "text/html": [
       "<div>\n",
       "<style scoped>\n",
       "    .dataframe tbody tr th:only-of-type {\n",
       "        vertical-align: middle;\n",
       "    }\n",
       "\n",
       "    .dataframe tbody tr th {\n",
       "        vertical-align: top;\n",
       "    }\n",
       "\n",
       "    .dataframe thead th {\n",
       "        text-align: right;\n",
       "    }\n",
       "</style>\n",
       "<table border=\"1\" class=\"dataframe\">\n",
       "  <thead>\n",
       "    <tr style=\"text-align: right;\">\n",
       "      <th></th>\n",
       "    </tr>\n",
       "  </thead>\n",
       "  <tbody>\n",
       "    <tr>\n",
       "      <th>Bowl 1</th>\n",
       "    </tr>\n",
       "    <tr>\n",
       "      <th>Bowl 2</th>\n",
       "    </tr>\n",
       "  </tbody>\n",
       "</table>\n",
       "</div>"
      ],
      "text/plain": [
       "Empty DataFrame\n",
       "Columns: []\n",
       "Index: [Bowl 1, Bowl 2]"
      ]
     },
     "execution_count": 31,
     "metadata": {},
     "output_type": "execute_result"
    }
   ],
   "source": [
    "import pandas as pd\n",
    "table = pd.DataFrame(index=['Bowl 1', 'Bowl 2'])\n",
    "\n",
    "table"
   ]
  },
  {
   "cell_type": "code",
   "execution_count": 53,
   "metadata": {},
   "outputs": [
    {
     "data": {
      "text/html": [
       "<div>\n",
       "<style scoped>\n",
       "    .dataframe tbody tr th:only-of-type {\n",
       "        vertical-align: middle;\n",
       "    }\n",
       "\n",
       "    .dataframe tbody tr th {\n",
       "        vertical-align: top;\n",
       "    }\n",
       "\n",
       "    .dataframe thead th {\n",
       "        text-align: right;\n",
       "    }\n",
       "</style>\n",
       "<table border=\"1\" class=\"dataframe\">\n",
       "  <thead>\n",
       "    <tr style=\"text-align: right;\">\n",
       "      <th></th>\n",
       "      <th>prior</th>\n",
       "      <th>likelihood_Vanilla</th>\n",
       "    </tr>\n",
       "  </thead>\n",
       "  <tbody>\n",
       "    <tr>\n",
       "      <th>Bowl 1</th>\n",
       "      <td>0.5</td>\n",
       "      <td>0.75</td>\n",
       "    </tr>\n",
       "    <tr>\n",
       "      <th>Bowl 2</th>\n",
       "      <td>0.5</td>\n",
       "      <td>0.50</td>\n",
       "    </tr>\n",
       "  </tbody>\n",
       "</table>\n",
       "</div>"
      ],
      "text/plain": [
       "        prior  likelihood_Vanilla\n",
       "Bowl 1    0.5                0.75\n",
       "Bowl 2    0.5                0.50"
      ]
     },
     "execution_count": 53,
     "metadata": {},
     "output_type": "execute_result"
    }
   ],
   "source": [
    "table['prior'] = 1/2, 1/2\n",
    "table['likelihood_Vanilla'] = 3/4, 1/2\n",
    "table"
   ]
  },
  {
   "cell_type": "markdown",
   "metadata": {},
   "source": [
    "Here we see a difference from the previous method: we compute likelihoods for\n",
    "both hypotheses, not just Bowl 1:\n",
    "\n",
    "- The chance of getting a vanilla cookie from Bowl 1 is 3/4.\n",
    "- The chance of getting a vanilla cookie from Bowl 2 is 1/2."
   ]
  },
  {
   "cell_type": "markdown",
   "metadata": {},
   "source": [
    "The next step is similar to what we did with Bayes’s theorem; we multiply the\n",
    "priors by the likelihoods:\n",
    "\n"
   ]
  },
  {
   "attachments": {
    "image.png": {
     "image/png": "[encoded data removed]"
    }
   },
   "cell_type": "markdown",
   "metadata": {},
   "source": [
    "![image.png](attachment:image.png)"
   ]
  },
  {
   "attachments": {
    "image.png": {
     "image/png": "[encoded data removed]"
    }
   },
   "cell_type": "markdown",
   "metadata": {},
   "source": [
    "which is the numerator of Bayes’s theorem. If we add them up, we have\n",
    "\n",
    "![image.png](attachment:image.png)\n",
    "\n",
    "which is the denominator of Bayes’s theorem P(D)"
   ]
  },
  {
   "cell_type": "code",
   "execution_count": 55,
   "metadata": {},
   "outputs": [
    {
     "data": {
      "text/html": [
       "<div>\n",
       "<style scoped>\n",
       "    .dataframe tbody tr th:only-of-type {\n",
       "        vertical-align: middle;\n",
       "    }\n",
       "\n",
       "    .dataframe tbody tr th {\n",
       "        vertical-align: top;\n",
       "    }\n",
       "\n",
       "    .dataframe thead th {\n",
       "        text-align: right;\n",
       "    }\n",
       "</style>\n",
       "<table border=\"1\" class=\"dataframe\">\n",
       "  <thead>\n",
       "    <tr style=\"text-align: right;\">\n",
       "      <th></th>\n",
       "      <th>prior</th>\n",
       "      <th>likelihood_Vanilla</th>\n",
       "      <th>unnorm_posteriors</th>\n",
       "    </tr>\n",
       "  </thead>\n",
       "  <tbody>\n",
       "    <tr>\n",
       "      <th>Bowl 1</th>\n",
       "      <td>0.5</td>\n",
       "      <td>0.75</td>\n",
       "      <td>0.375</td>\n",
       "    </tr>\n",
       "    <tr>\n",
       "      <th>Bowl 2</th>\n",
       "      <td>0.5</td>\n",
       "      <td>0.50</td>\n",
       "      <td>0.250</td>\n",
       "    </tr>\n",
       "  </tbody>\n",
       "</table>\n",
       "</div>"
      ],
      "text/plain": [
       "        prior  likelihood_Vanilla  unnorm_posteriors\n",
       "Bowl 1    0.5                0.75              0.375\n",
       "Bowl 2    0.5                0.50              0.250"
      ]
     },
     "execution_count": 55,
     "metadata": {},
     "output_type": "execute_result"
    }
   ],
   "source": [
    "table['unnorm_posteriors'] = table['prior'] * table['likelihood_Vanilla']\n",
    "table"
   ]
  },
  {
   "cell_type": "markdown",
   "metadata": {},
   "source": [
    "So we can compute the total probability of the data P(D) like this:"
   ]
  },
  {
   "cell_type": "code",
   "execution_count": 56,
   "metadata": {},
   "outputs": [
    {
     "data": {
      "text/plain": [
       "np.float64(0.625)"
      ]
     },
     "execution_count": 56,
     "metadata": {},
     "output_type": "execute_result"
    }
   ],
   "source": [
    "prob_data = table['unnorm_posteriors'].sum()\n",
    "prob_data"
   ]
  },
  {
   "cell_type": "markdown",
   "metadata": {},
   "source": [
    "And we can compute the posterior probabilities P(H\\D) like this:"
   ]
  },
  {
   "cell_type": "code",
   "execution_count": 58,
   "metadata": {},
   "outputs": [
    {
     "data": {
      "text/html": [
       "<div>\n",
       "<style scoped>\n",
       "    .dataframe tbody tr th:only-of-type {\n",
       "        vertical-align: middle;\n",
       "    }\n",
       "\n",
       "    .dataframe tbody tr th {\n",
       "        vertical-align: top;\n",
       "    }\n",
       "\n",
       "    .dataframe thead th {\n",
       "        text-align: right;\n",
       "    }\n",
       "</style>\n",
       "<table border=\"1\" class=\"dataframe\">\n",
       "  <thead>\n",
       "    <tr style=\"text-align: right;\">\n",
       "      <th></th>\n",
       "      <th>prior</th>\n",
       "      <th>likelihood_Vanilla</th>\n",
       "      <th>unnorm_posteriors</th>\n",
       "      <th>posterior</th>\n",
       "    </tr>\n",
       "  </thead>\n",
       "  <tbody>\n",
       "    <tr>\n",
       "      <th>Bowl 1</th>\n",
       "      <td>0.5</td>\n",
       "      <td>0.75</td>\n",
       "      <td>0.375</td>\n",
       "      <td>0.6</td>\n",
       "    </tr>\n",
       "    <tr>\n",
       "      <th>Bowl 2</th>\n",
       "      <td>0.5</td>\n",
       "      <td>0.50</td>\n",
       "      <td>0.250</td>\n",
       "      <td>0.4</td>\n",
       "    </tr>\n",
       "  </tbody>\n",
       "</table>\n",
       "</div>"
      ],
      "text/plain": [
       "        prior  likelihood_Vanilla  unnorm_posteriors  posterior\n",
       "Bowl 1    0.5                0.75              0.375        0.6\n",
       "Bowl 2    0.5                0.50              0.250        0.4"
      ]
     },
     "execution_count": 58,
     "metadata": {},
     "output_type": "execute_result"
    }
   ],
   "source": [
    "table['posterior'] = table['unnorm_posteriors'] / prob_data\n",
    "table"
   ]
  },
  {
   "cell_type": "markdown",
   "metadata": {},
   "source": [
    "- The posterior probability for Bowl 1 is 0.6, which is what we got using Bayes’s\n",
    "theorem explicitly. As a bonus, we also get the posterior probability of Bowl 2,\n",
    "which is 0.4.\n",
    "\n",
    "- When we add up the unnormalized posteriors and divide through, we force the\n",
    "posteriors to add up to 1. This process is called __“normalization”__, which is why\n",
    "the total probability of the data is also called the __“normalizing constant”__."
   ]
  },
  {
   "cell_type": "markdown",
   "metadata": {},
   "source": [
    "### The dice problem (example)"
   ]
  },
  {
   "cell_type": "markdown",
   "metadata": {},
   "source": [
    "A Bayes table can also solve problems with more than two hypotheses."
   ]
  },
  {
   "cell_type": "markdown",
   "metadata": {},
   "source": [
    "_Suppose I have a box with a 6-sided die, an 8-sided die, and a 12-sided die. I\n",
    "choose one of the dice at random, roll it, and report that the outcome is a 1.\n",
    "What is the probability that I chose the 6-sided die?_"
   ]
  },
  {
   "cell_type": "markdown",
   "metadata": {},
   "source": [
    "- In this example, there are three hypotheses with equal prior probabilities. The\n",
    "data is my report that the outcome is a 1.\n",
    "- If I chose the 6-sided die, the probability of the data is 1/6. If I chose the 8-sided\n",
    "die, the probability is 1/8, and if I chose the 12-sided die, it’s 1/12."
   ]
  },
  {
   "cell_type": "code",
   "execution_count": 60,
   "metadata": {},
   "outputs": [
    {
     "data": {
      "text/html": [
       "<div>\n",
       "<style scoped>\n",
       "    .dataframe tbody tr th:only-of-type {\n",
       "        vertical-align: middle;\n",
       "    }\n",
       "\n",
       "    .dataframe tbody tr th {\n",
       "        vertical-align: top;\n",
       "    }\n",
       "\n",
       "    .dataframe thead th {\n",
       "        text-align: right;\n",
       "    }\n",
       "</style>\n",
       "<table border=\"1\" class=\"dataframe\">\n",
       "  <thead>\n",
       "    <tr style=\"text-align: right;\">\n",
       "      <th></th>\n",
       "      <th>prior</th>\n",
       "      <th>likelihood</th>\n",
       "    </tr>\n",
       "  </thead>\n",
       "  <tbody>\n",
       "    <tr>\n",
       "      <th>6</th>\n",
       "      <td>1/3</td>\n",
       "      <td>1/6</td>\n",
       "    </tr>\n",
       "    <tr>\n",
       "      <th>8</th>\n",
       "      <td>1/3</td>\n",
       "      <td>1/8</td>\n",
       "    </tr>\n",
       "    <tr>\n",
       "      <th>12</th>\n",
       "      <td>1/3</td>\n",
       "      <td>1/12</td>\n",
       "    </tr>\n",
       "  </tbody>\n",
       "</table>\n",
       "</div>"
      ],
      "text/plain": [
       "   prior likelihood\n",
       "6    1/3        1/6\n",
       "8    1/3        1/8\n",
       "12   1/3       1/12"
      ]
     },
     "execution_count": 60,
     "metadata": {},
     "output_type": "execute_result"
    }
   ],
   "source": [
    "from fractions import Fraction\n",
    "\n",
    "table2 = pd.DataFrame(index=[6, 8, 12])\n",
    "table2['prior'] = Fraction(1, 3)\n",
    "table2['likelihood'] = Fraction(1, 6), Fraction(1, 8), Fraction(1, 12)\n",
    "table2"
   ]
  },
  {
   "cell_type": "markdown",
   "metadata": {},
   "source": [
    "We use fractions to represent the prior probabilities and the likelihoods. That\n",
    "way they don’t get rounded off to floating-point numbers."
   ]
  },
  {
   "cell_type": "code",
   "execution_count": 64,
   "metadata": {},
   "outputs": [
    {
     "data": {
      "text/html": [
       "<div>\n",
       "<style scoped>\n",
       "    .dataframe tbody tr th:only-of-type {\n",
       "        vertical-align: middle;\n",
       "    }\n",
       "\n",
       "    .dataframe tbody tr th {\n",
       "        vertical-align: top;\n",
       "    }\n",
       "\n",
       "    .dataframe thead th {\n",
       "        text-align: right;\n",
       "    }\n",
       "</style>\n",
       "<table border=\"1\" class=\"dataframe\">\n",
       "  <thead>\n",
       "    <tr style=\"text-align: right;\">\n",
       "      <th></th>\n",
       "      <th>prior</th>\n",
       "      <th>likelihood</th>\n",
       "      <th>unnorm_posteriors</th>\n",
       "    </tr>\n",
       "  </thead>\n",
       "  <tbody>\n",
       "    <tr>\n",
       "      <th>6</th>\n",
       "      <td>1/3</td>\n",
       "      <td>1/6</td>\n",
       "      <td>1/18</td>\n",
       "    </tr>\n",
       "    <tr>\n",
       "      <th>8</th>\n",
       "      <td>1/3</td>\n",
       "      <td>1/8</td>\n",
       "      <td>1/24</td>\n",
       "    </tr>\n",
       "    <tr>\n",
       "      <th>12</th>\n",
       "      <td>1/3</td>\n",
       "      <td>1/12</td>\n",
       "      <td>1/36</td>\n",
       "    </tr>\n",
       "  </tbody>\n",
       "</table>\n",
       "</div>"
      ],
      "text/plain": [
       "   prior likelihood unnorm_posteriors\n",
       "6    1/3        1/6              1/18\n",
       "8    1/3        1/8              1/24\n",
       "12   1/3       1/12              1/36"
      ]
     },
     "execution_count": 64,
     "metadata": {},
     "output_type": "execute_result"
    }
   ],
   "source": [
    "table2['unnorm_posteriors'] = table2['prior'] * table2['likelihood']\n",
    "table2"
   ]
  },
  {
   "cell_type": "code",
   "execution_count": 72,
   "metadata": {},
   "outputs": [
    {
     "data": {
      "text/plain": [
       "Fraction(1, 8)"
      ]
     },
     "execution_count": 72,
     "metadata": {},
     "output_type": "execute_result"
    }
   ],
   "source": [
    "prob_data = table2[\"unnorm_posteriors\"].sum()\n",
    "prob_data"
   ]
  },
  {
   "cell_type": "code",
   "execution_count": 78,
   "metadata": {},
   "outputs": [
    {
     "data": {
      "text/html": [
       "<div>\n",
       "<style scoped>\n",
       "    .dataframe tbody tr th:only-of-type {\n",
       "        vertical-align: middle;\n",
       "    }\n",
       "\n",
       "    .dataframe tbody tr th {\n",
       "        vertical-align: top;\n",
       "    }\n",
       "\n",
       "    .dataframe thead th {\n",
       "        text-align: right;\n",
       "    }\n",
       "</style>\n",
       "<table border=\"1\" class=\"dataframe\">\n",
       "  <thead>\n",
       "    <tr style=\"text-align: right;\">\n",
       "      <th></th>\n",
       "      <th>prior</th>\n",
       "      <th>likelihood</th>\n",
       "      <th>unnorm_posteriors</th>\n",
       "      <th>posteriors</th>\n",
       "    </tr>\n",
       "  </thead>\n",
       "  <tbody>\n",
       "    <tr>\n",
       "      <th>6</th>\n",
       "      <td>1/3</td>\n",
       "      <td>1/6</td>\n",
       "      <td>1/18</td>\n",
       "      <td>4/9</td>\n",
       "    </tr>\n",
       "    <tr>\n",
       "      <th>8</th>\n",
       "      <td>1/3</td>\n",
       "      <td>1/8</td>\n",
       "      <td>1/24</td>\n",
       "      <td>1/3</td>\n",
       "    </tr>\n",
       "    <tr>\n",
       "      <th>12</th>\n",
       "      <td>1/3</td>\n",
       "      <td>1/12</td>\n",
       "      <td>1/36</td>\n",
       "      <td>2/9</td>\n",
       "    </tr>\n",
       "  </tbody>\n",
       "</table>\n",
       "</div>"
      ],
      "text/plain": [
       "   prior likelihood unnorm_posteriors posteriors\n",
       "6    1/3        1/6              1/18        4/9\n",
       "8    1/3        1/8              1/24        1/3\n",
       "12   1/3       1/12              1/36        2/9"
      ]
     },
     "execution_count": 78,
     "metadata": {},
     "output_type": "execute_result"
    }
   ],
   "source": [
    "table2[\"posteriors\"] = table2[\"unnorm_posteriors\"] / prob_data\n",
    "\n",
    "table2"
   ]
  },
  {
   "cell_type": "markdown",
   "metadata": {},
   "source": [
    "The posterior probability of the 6-sided die is 4/9, which is a little more than the\n",
    "probabilities for the other dice, 3/9 and 2/9. Intuitively, the 6-sided die is the\n",
    "most likely because it had the highest likelihood of producing the outcome we\n",
    "saw."
   ]
  },
  {
   "cell_type": "markdown",
   "metadata": {},
   "source": [
    "To delete any column in a dataframe we use:"
   ]
  },
  {
   "cell_type": "code",
   "execution_count": null,
   "metadata": {},
   "outputs": [],
   "source": [
    "table2.drop(columns=[\"priors\"], inplace=True) #deleting a column"
   ]
  },
  {
   "cell_type": "markdown",
   "metadata": {},
   "source": [
    "### The Monty Hall problem (example)"
   ]
  }
 ],
 "metadata": {
  "kernelspec": {
   "display_name": "Python 3",
   "language": "python",
   "name": "python3"
  },
  "language_info": {
   "codemirror_mode": {
    "name": "ipython",
    "version": 3
   },
   "file_extension": ".py",
   "mimetype": "text/x-python",
   "name": "python",
   "nbconvert_exporter": "python",
   "pygments_lexer": "ipython3",
   "version": "3.13.0"
  }
 },
 "nbformat": 4,
 "nbformat_minor": 2
}

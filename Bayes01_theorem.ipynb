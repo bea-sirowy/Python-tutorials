{
 "cells": [
  {
   "cell_type": "markdown",
   "metadata": {},
   "source": [
    "Beata Sirowy\n",
    "\n",
    "# Bayes therorem in practice\n",
    "\n",
    "Based on: Downey, A. (2021) _Think Bayes_"
   ]
  },
  {
   "attachments": {
    "image.png": {
     "image/png": "[encoded data removed]"
    }
   },
   "cell_type": "markdown",
   "metadata": {},
   "source": [
    "![image.png](attachment:image.png)"
   ]
  },
  {
   "cell_type": "markdown",
   "metadata": {},
   "source": [
    "### The cookie problem"
   ]
  },
  {
   "cell_type": "markdown",
   "metadata": {},
   "source": [
    "Suppose there are two bowls of cookies.\n",
    "\n",
    "- Bowl 1 contains 30 vanilla cookies and 10 chocolate cookies.\n",
    "- Bowl 2 contains 20 vanilla cookies and 20 chocolate cookies.\n",
    "\n",
    "Now suppose you choose one of the bowls at random and, without looking,\n",
    "choose a cookie at random. If the cookie is vanilla, what is the probability that\n",
    "it came from Bowl 1?"
   ]
  },
  {
   "cell_type": "markdown",
   "metadata": {},
   "source": [
    "P (Bowl 1, given = vanilla) = P(Bowl1)P(vanilla, given Bowl1) / P(vanilla)\n",
    "\n",
    "P(B1\\V) = P(B1)P(V\\B1) \\ P(V)\n",
    "\n",
    "P(B1) = 0.5\n",
    "P (V\\B1) = 0.75\n",
    "p(V) = 5/8\n",
    "\n",
    "P (B1\\V) = 0.5 * 0,75 / (5/8)"
   ]
  },
  {
   "cell_type": "code",
   "execution_count": 14,
   "metadata": {},
   "outputs": [
    {
     "name": "stdout",
     "output_type": "stream",
     "text": [
      "Given that the cookie is vanilla, the probability that it came from Bowl 1 is: 0.6\n"
     ]
    }
   ],
   "source": [
    "result = 0.5 * 0.75 / (5/8)\n",
    "print(f\"Given that the cookie is vanilla, the probability that it came from Bowl 1 is: {result}\")"
   ]
  },
  {
   "cell_type": "markdown",
   "metadata": {},
   "source": [
    "### A coin toss\n",
    "\n",
    "- coin 1: equal chances of getting H and T\n",
    "- coin 2: 90% chance of getting H\n",
    "\n",
    "We randomly choose a coin. Given that we got heads, what is the chance that it was coin 2?\n",
    "\n",
    "We have to compute P (C2 given H)\n",
    "\n",
    "\n",
    "P (C2 \\ H) = P(C2) * P(H\\C2) / P(H)\n",
    "\n",
    "P(C2) = 0.5\n",
    "P (H\\C2) = 0.9\n",
    "p (H) = 14/20 = 0.7\n",
    "\n",
    "P P (C2\\H) = 0.5 * 0.9 / 0.7\n"
   ]
  },
  {
   "cell_type": "code",
   "execution_count": 17,
   "metadata": {},
   "outputs": [
    {
     "name": "stdout",
     "output_type": "stream",
     "text": [
      "Given that the result is heads, the probability that we picked Coin 2 is: 0.6428571428571429\n"
     ]
    }
   ],
   "source": [
    "result1 = 0.5 * 0.9 / 0.7\n",
    "print(f\"Given that the result is heads, the probability that we picked Coin 2 is: {result1}\")"
   ]
  },
  {
   "cell_type": "markdown",
   "metadata": {},
   "source": [
    "### Medical screening"
   ]
  },
  {
   "cell_type": "markdown",
   "metadata": {},
   "source": [
    "Suppose a physician reported the following cancer\n",
    "screening test scenario among 10,000 people:"
   ]
  },
  {
   "attachments": {
    "image.png": {
     "image/png": "[encoded data removed]"
    }
   },
   "cell_type": "markdown",
   "metadata": {},
   "source": [
    "![image.png](attachment:image.png)"
   ]
  },
  {
   "cell_type": "markdown",
   "metadata": {},
   "source": [
    "If the result of this screening test on a person is positive, what is the\n",
    "probability that they actually have cancer?"
   ]
  },
  {
   "cell_type": "markdown",
   "metadata": {},
   "source": [
    "We have to compute P (C, P)\n",
    "\n",
    "\n",
    "P(C\\ P) = P(C) * P (P\\ C) / P (P)\n",
    "\n",
    "P(C) = 0.01\n",
    "P(P) = 0.098\n",
    "P (P\\c) = 0.8\n",
    "\n",
    "p(C\\P) = 0.01 * 0.8 / 0.098 "
   ]
  },
  {
   "cell_type": "code",
   "execution_count": 19,
   "metadata": {},
   "outputs": [
    {
     "name": "stdout",
     "output_type": "stream",
     "text": [
      "Given that the screening result is positive, the probability that the person has cancer is: 0.08163265306122448\n"
     ]
    }
   ],
   "source": [
    "result2 = 0.01 * 0.8 / 0.098 \n",
    "print(f\"Given that the screening result is positive, the probability that the person has cancer is: {result2}\")"
   ]
  },
  {
   "cell_type": "markdown",
   "metadata": {},
   "source": [
    "Given a positive screening result, the chance that the subject has cancer is\n",
    "8.16%, which is significantly higher than the one under general assumption\n",
    "(100/10000=1%) without the subject undergoing the screening."
   ]
  }
 ],
 "metadata": {
  "kernelspec": {
   "display_name": "Python 3",
   "language": "python",
   "name": "python3"
  },
  "language_info": {
   "codemirror_mode": {
    "name": "ipython",
    "version": 3
   },
   "file_extension": ".py",
   "mimetype": "text/x-python",
   "name": "python",
   "nbconvert_exporter": "python",
   "pygments_lexer": "ipython3",
   "version": "3.13.0"
  }
 },
 "nbformat": 4,
 "nbformat_minor": 2
}

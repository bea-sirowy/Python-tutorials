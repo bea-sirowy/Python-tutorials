{
 "cells": [
  {
   "cell_type": "markdown",
   "metadata": {},
   "source": [
    "Beata Sirowy\n",
    "# __Downloading data: csv__\n",
    "Based on Matthes, E. (2023) _Python: Crash Course_"
   ]
  },
  {
   "cell_type": "markdown",
   "metadata": {},
   "source": [
    "\n",
    "- We’ll use Python’s csv module to process weather data\n",
    "stored in the CSV format and analyze high and low temperatures over time\n",
    "in two different locations. \n",
    "- We’ll then use Matplotlib to generate a chart\n",
    "based on our downloaded data to display variations in temperature in two\n",
    "dissimilar environments: Sitka, Alaska, and Death Valley, California.\n"
   ]
  },
  {
   "cell_type": "markdown",
   "metadata": {},
   "source": [
    "### Parsing the CSV File Headers\n"
   ]
  },
  {
   "cell_type": "markdown",
   "metadata": {},
   "source": [
    "- We read the file and chain the splitlines()\n",
    "method to get a list of all lines in the file, which we assign to lines.\n",
    "- We build a reader object -  an object that can be used\n",
    "to parse each line in the file. \n",
    "- To make a reader object, call the function\n",
    "csv.reader() and pass it the list of lines from the CSV file.\n",
    "- When given a reader object, the next() function returns the next line\n",
    "in the file, starting from the beginning of the file. \n",
    "- Here we call next() only\n",
    "once, so we get the first line of the file, which contains the file headers.\n",
    "- We assign the data that’s returned to header_row."
   ]
  },
  {
   "cell_type": "code",
   "execution_count": null,
   "metadata": {},
   "outputs": [
    {
     "name": "stdout",
     "output_type": "stream",
     "text": [
      "['STATION', 'NAME', 'DATE', 'TAVG', 'TMAX', 'TMIN']\n"
     ]
    }
   ],
   "source": [
    "from pathlib import Path\n",
    "import csv\n",
    "\n",
    "path = Path(r\"C:\\Users\\Beata\\Documents\\Python Scripts\\Files\\pcc_3e-main\\chapter_16\\the_csv_file_format\\weather_data\\sitka_weather_2021_simple.csv\")\n",
    "lines = path.read_text().splitlines()\n",
    "\n",
    "reader = csv.reader(lines)\n",
    "header_row = next(reader)\n",
    "print(header_row) "
   ]
  },
  {
   "cell_type": "markdown",
   "metadata": {},
   "source": [
    "- To make it easier to understand the file header data, let’s print each header\n",
    "and its position in the list:\n",
    "- The enumerate() function returns both the index of each item and the\n",
    "value of each item as you loop through a list."
   ]
  },
  {
   "cell_type": "code",
   "execution_count": 4,
   "metadata": {},
   "outputs": [
    {
     "name": "stdout",
     "output_type": "stream",
     "text": [
      "0 STATION\n",
      "1 NAME\n",
      "2 DATE\n",
      "3 TAVG\n",
      "4 TMAX\n",
      "5 TMIN\n"
     ]
    }
   ],
   "source": [
    "reader = csv.reader(lines)\n",
    "header_row = next(reader)\n",
    "\n",
    "for index, column_header in enumerate(header_row):\n",
    "    print(index, column_header)"
   ]
  },
  {
   "cell_type": "markdown",
   "metadata": {},
   "source": [
    "Next, we'll extract the values with the indexes 2 and 4.\n",
    "- We make an empty list called highs and then loop through the\n",
    "remaining rows in the file"
   ]
  },
  {
   "cell_type": "code",
   "execution_count": null,
   "metadata": {},
   "outputs": [
    {
     "name": "stdout",
     "output_type": "stream",
     "text": [
      "[44, 44, 43, 45, 45, 44, 48, 48, 46, 46, 44, 44, 39, 47, 48, 47, 46, 48, 42, 38, 41, 40, 38, 39, 37, 36, 30, 36, 40, 42, 43, 38, 38, 40, 39, 37, 37, 36, 30, 17, 30, 37, 39, 38, 37, 35, 38, 43, 43, 42, 44, 44, 42, 38, 39, 42, 43, 44, 45, 41, 41, 41, 43, 43, 43, 47, 40, 41, 40, 41, 37, 35, 34, 40, 42, 43, 40, 37, 39, 43, 42, 42, 40, 41, 42, 39, 41, 41, 41, 41, 36, 38, 41, 41, 40, 38, 41, 39, 39, 36, 41, 41, 45, 45, 48, 50, 56, 67, 61, 51, 57, 52, 63, 60, 53, 50, 51, 48, 47, 48, 50, 49, 48, 55, 63, 56, 50, 49, 52, 49, 49, 47, 49, 48, 49, 52, 56, 57, 52, 53, 49, 53, 50, 51, 51, 51, 49, 57, 58, 58, 56, 53, 51, 56, 58, 54, 58, 59, 53, 55, 59, 61, 67, 64, 58, 60, 66, 58, 68, 59, 55, 56, 63, 63, 59, 63, 78, 75, 61, 62, 61, 60, 66, 60, 65, 59, 58, 58, 57, 60, 60, 60, 57, 58, 60, 61, 63, 63, 70, 64, 59, 63, 61, 58, 59, 64, 62, 70, 70, 73, 66, 66, 62, 67, 65, 69, 63, 65, 63, 60, 60, 61, 65, 64, 60, 58, 64, 58, 59, 63, 61, 63, 68, 61, 59, 60, 63, 60, 60, 60, 65, 64, 61, 63, 60, 60, 59, 61, 64, 60, 61, 62, 58, 58, 58, 55, 55, 55, 56, 55, 57, 58, 57, 54, 60, 57, 53, 58, 51, 55, 55, 53, 53, 52, 48, 51, 52, 51, 52, 51, 51, 52, 48, 51, 50, 49, 49, 48, 48, 52, 55, 56, 56, 55, 51, 51, 49, 52, 47, 44, 44, 49, 54, 59, 55, 48, 46, 50, 48, 47, 46, 45, 44, 47, 47, 41, 42, 39, 46, 45, 42, 36, 46, 47, 42, 40, 46, 48, 39, 39, 37, 40, 44, 43, 38, 33, 33, 37, 37, 43, 40, 40, 42, 36, 37, 35, 32, 35, 36, 39, 38, 39, 37, 39, 38, 32, 30, 26, 31, 35, 35, 41, 38, 39]\n"
     ]
    }
   ],
   "source": [
    "reader = csv.reader(lines)\n",
    "header_row = next(reader)\n",
    "\n",
    "highs = []\n",
    "for row in reader:\n",
    "    high = int(row[4])\n",
    "    highs.append(high)\n",
    "\n",
    "print(highs)"
   ]
  }
 ],
 "metadata": {
  "kernelspec": {
   "display_name": "Python 3",
   "language": "python",
   "name": "python3"
  },
  "language_info": {
   "codemirror_mode": {
    "name": "ipython",
    "version": 3
   },
   "file_extension": ".py",
   "mimetype": "text/x-python",
   "name": "python",
   "nbconvert_exporter": "python",
   "pygments_lexer": "ipython3",
   "version": "3.13.0"
  }
 },
 "nbformat": 4,
 "nbformat_minor": 2
}

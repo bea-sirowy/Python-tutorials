{
 "cells": [
  {
   "cell_type": "markdown",
   "metadata": {},
   "source": [
    "Beata Sirowy\n",
    "# __Python data structures: Tuples__\n",
    "Based on Severance, Ch. (2016) _Python for Everybody. Exploring Data in Python 3_\n",
    "\n",
    "## An overview"
   ]
  },
  {
   "cell_type": "markdown",
   "metadata": {},
   "source": [
    "- another kind of sequence/collecton  that functions much like a list\n",
    "- include elements which are indexed starting at 0\n",
    "- tuples use regular parentheses - lists use square brackets\n",
    "- BUT: tuples are __immutable__ - unlke lists (once you create a tuple you can't alter its contents - similar to a string) \n",
    "- immutability contributes to the __efficiency__ of tuples (in terms of memory use) - they can be stored more densely than lists; accordingly - tuples are preferred when we are making \"temporary variables\" in a program"
   ]
  },
  {
   "cell_type": "code",
   "execution_count": 5,
   "metadata": {},
   "outputs": [
    {
     "name": "stdout",
     "output_type": "stream",
     "text": [
      "Gary\n",
      "Glenn\n",
      "John\n",
      "Gary\n"
     ]
    }
   ],
   "source": [
    "x = (\"Glenn\", \"John\", \"Gary\")\n",
    "print(x[2])\n",
    "for y in x:\n",
    "    print(y)"
   ]
  },
  {
   "cell_type": "markdown",
   "metadata": {},
   "source": [
    "Changing an element in a list"
   ]
  },
  {
   "cell_type": "code",
   "execution_count": 7,
   "metadata": {},
   "outputs": [
    {
     "name": "stdout",
     "output_type": "stream",
     "text": [
      "[4, 15, 25]\n"
     ]
    }
   ],
   "source": [
    "x = [4, 15, 6]\n",
    "x[2] = 25\n",
    "print(x)"
   ]
  },
  {
   "cell_type": "markdown",
   "metadata": {},
   "source": [
    "In tuples it is not possible. Also, we can't use functions such as x.append(), x.reverse(), x.sort(), etc"
   ]
  },
  {
   "cell_type": "code",
   "execution_count": 8,
   "metadata": {},
   "outputs": [
    {
     "ename": "TypeError",
     "evalue": "'tuple' object does not support item assignment",
     "output_type": "error",
     "traceback": [
      "\u001b[1;31m---------------------------------------------------------------------------\u001b[0m",
      "\u001b[1;31mTypeError\u001b[0m                                 Traceback (most recent call last)",
      "Cell \u001b[1;32mIn[8], line 2\u001b[0m\n\u001b[0;32m      1\u001b[0m z \u001b[38;5;241m=\u001b[39m (\u001b[38;5;241m4\u001b[39m, \u001b[38;5;241m15\u001b[39m, \u001b[38;5;241m6\u001b[39m)\n\u001b[1;32m----> 2\u001b[0m \u001b[43mz\u001b[49m\u001b[43m[\u001b[49m\u001b[38;5;241;43m2\u001b[39;49m\u001b[43m]\u001b[49m \u001b[38;5;241m=\u001b[39m \u001b[38;5;241m25\u001b[39m\n\u001b[0;32m      3\u001b[0m \u001b[38;5;28mprint\u001b[39m(z)\n",
      "\u001b[1;31mTypeError\u001b[0m: 'tuple' object does not support item assignment"
     ]
    }
   ],
   "source": [
    "z = (4, 15, 6)\n",
    "z[2] = 25\n",
    "print(z)"
   ]
  },
  {
   "cell_type": "markdown",
   "metadata": {},
   "source": [
    "Things we can do with a tuple:"
   ]
  },
  {
   "cell_type": "code",
   "execution_count": 51,
   "metadata": {},
   "outputs": [
    {
     "data": {
      "text/plain": [
       "['__add__',\n",
       " '__class__',\n",
       " '__class_getitem__',\n",
       " '__contains__',\n",
       " '__delattr__',\n",
       " '__dir__',\n",
       " '__doc__',\n",
       " '__eq__',\n",
       " '__format__',\n",
       " '__ge__',\n",
       " '__getattribute__',\n",
       " '__getitem__',\n",
       " '__getnewargs__',\n",
       " '__getstate__',\n",
       " '__gt__',\n",
       " '__hash__',\n",
       " '__init__',\n",
       " '__init_subclass__',\n",
       " '__iter__',\n",
       " '__le__',\n",
       " '__len__',\n",
       " '__lt__',\n",
       " '__mul__',\n",
       " '__ne__',\n",
       " '__new__',\n",
       " '__reduce__',\n",
       " '__reduce_ex__',\n",
       " '__repr__',\n",
       " '__rmul__',\n",
       " '__setattr__',\n",
       " '__sizeof__',\n",
       " '__str__',\n",
       " '__subclasshook__',\n",
       " 'count',\n",
       " 'index']"
      ]
     },
     "execution_count": 51,
     "metadata": {},
     "output_type": "execute_result"
    }
   ],
   "source": [
    "t = tuple()\n",
    "dir(t)\n"
   ]
  },
  {
   "cell_type": "markdown",
   "metadata": {},
   "source": [
    "## Tuples and assignment\n",
    "- we can put a tuple on the left-hand side of an assignment statement\n",
    "- we can omit parentheses"
   ]
  },
  {
   "cell_type": "code",
   "execution_count": 10,
   "metadata": {},
   "outputs": [
    {
     "name": "stdout",
     "output_type": "stream",
     "text": [
      "fred\n"
     ]
    }
   ],
   "source": [
    "(x, y) = (4, \"fred\")\n",
    "print(y)"
   ]
  },
  {
   "cell_type": "code",
   "execution_count": 11,
   "metadata": {},
   "outputs": [
    {
     "name": "stdout",
     "output_type": "stream",
     "text": [
      "fred\n"
     ]
    }
   ],
   "source": [
    "x, y = 4, \"fred\"\n",
    "print(y)"
   ]
  },
  {
   "cell_type": "code",
   "execution_count": 14,
   "metadata": {},
   "outputs": [
    {
     "name": "stdout",
     "output_type": "stream",
     "text": [
      "999\n"
     ]
    }
   ],
   "source": [
    "a,b = 999,105\n",
    "print(a)"
   ]
  },
  {
   "cell_type": "markdown",
   "metadata": {},
   "source": [
    "## Tuples and dictionaries\n",
    "- the __items__ method in dictionaries returns a list of key-value tuples"
   ]
  },
  {
   "cell_type": "code",
   "execution_count": 20,
   "metadata": {},
   "outputs": [
    {
     "name": "stdout",
     "output_type": "stream",
     "text": [
      "John 2\n",
      "Sue 15\n",
      "dict_items([('John', 2), ('Sue', 15)])\n"
     ]
    },
    {
     "data": {
      "text/plain": [
       "dict_items"
      ]
     },
     "execution_count": 20,
     "metadata": {},
     "output_type": "execute_result"
    }
   ],
   "source": [
    "d = dict()\n",
    "d[\"John\"] = 2\n",
    "d[\"Sue\"] = 15\n",
    "for x,y in d.items():\n",
    "    print(x,y)\n",
    "print(d.items())\n",
    "type(d.items())"
   ]
  },
  {
   "cell_type": "markdown",
   "metadata": {},
   "source": [
    "## Tuples are comparable\n",
    "- the comparison operators work with tuples and other sequences"
   ]
  },
  {
   "cell_type": "code",
   "execution_count": 22,
   "metadata": {},
   "outputs": [
    {
     "data": {
      "text/plain": [
       "False"
      ]
     },
     "execution_count": 22,
     "metadata": {},
     "output_type": "execute_result"
    }
   ],
   "source": [
    "(4, 12, 56) < (3, 11, 43)"
   ]
  },
  {
   "cell_type": "code",
   "execution_count": 23,
   "metadata": {},
   "outputs": [
    {
     "data": {
      "text/plain": [
       "True"
      ]
     },
     "execution_count": 23,
     "metadata": {},
     "output_type": "execute_result"
    }
   ],
   "source": [
    "(4, 12, 56) > (3, 11, 43)\n"
   ]
  },
  {
   "cell_type": "code",
   "execution_count": 26,
   "metadata": {},
   "outputs": [
    {
     "data": {
      "text/plain": [
       "True"
      ]
     },
     "execution_count": 26,
     "metadata": {},
     "output_type": "execute_result"
    }
   ],
   "source": [
    "(\"Glenn\", \"John\", \"Ga\") == (\"Glenn\", \"John\", \"Ga\")"
   ]
  },
  {
   "cell_type": "code",
   "execution_count": 29,
   "metadata": {},
   "outputs": [
    {
     "data": {
      "text/plain": [
       "False"
      ]
     },
     "execution_count": 29,
     "metadata": {},
     "output_type": "execute_result"
    }
   ],
   "source": [
    "(\"Glenn\", \"John\", \"Ga\") > (\"Glenn\", \"John\", \"Gal\")"
   ]
  },
  {
   "cell_type": "markdown",
   "metadata": {},
   "source": [
    "## Sorting lists of tuples\n",
    "- we can take advantage of the ability to sort a list of tuples to get a sorted version of a dictionary\n",
    "- we sort the dictionary by the key ising the items() method and sorted() function\n",
    "- keys in dictionaries need to be unique, values can be repeated"
   ]
  },
  {
   "cell_type": "code",
   "execution_count": 31,
   "metadata": {},
   "outputs": [
    {
     "data": {
      "text/plain": [
       "[('a', 10), ('b', 1), ('c', 22)]"
      ]
     },
     "execution_count": 31,
     "metadata": {},
     "output_type": "execute_result"
    }
   ],
   "source": [
    "d = {\"a\":10, \"c\": 22, \"b\": 1}\n",
    "d.items()\n",
    "sorted(d.items())"
   ]
  },
  {
   "cell_type": "markdown",
   "metadata": {},
   "source": [
    "An alternative code:"
   ]
  },
  {
   "cell_type": "code",
   "execution_count": 33,
   "metadata": {},
   "outputs": [
    {
     "name": "stdout",
     "output_type": "stream",
     "text": [
      "[('a', 10), ('b', 1), ('c', 22)]\n",
      "a 10\n",
      "b 1\n",
      "c 22\n"
     ]
    }
   ],
   "source": [
    "d = {\"a\":10, \"c\": 22, \"b\": 1}\n",
    "print(sorted(d.items()))\n",
    "for x,y in sorted(d.items()):\n",
    "    print(x,y)\n"
   ]
  },
  {
   "cell_type": "markdown",
   "metadata": {},
   "source": [
    "## Sort by values instead of keys\n",
    "- if we construct a listr of tuples of the form (value, key) we can sort it by value\n",
    "- we do this with a for loop that creates a list of tuples"
   ]
  },
  {
   "cell_type": "code",
   "execution_count": 42,
   "metadata": {},
   "outputs": [
    {
     "name": "stdout",
     "output_type": "stream",
     "text": [
      "[(10, 'a'), (4, 'b'), (22, 'c')]\n",
      "[(4, 'b'), (10, 'a'), (22, 'c')]\n",
      "[(22, 'c'), (10, 'a'), (4, 'b')]\n"
     ]
    }
   ],
   "source": [
    "c = {'a': 10, 'b': 4, 'c': 22 }\n",
    "x = list()\n",
    "for k,v in c.items():\n",
    "    x.append((v, k))\n",
    "print(x)\n",
    "#sorting\n",
    "x = sorted(x)\n",
    "print(x)\n",
    "#reverse sorting (descending)\n",
    "x = sorted(x, reverse=True)\n",
    "print(x)\n",
    "    \n"
   ]
  },
  {
   "cell_type": "markdown",
   "metadata": {},
   "source": [
    "## Geting 10 most common words from a text file"
   ]
  },
  {
   "cell_type": "code",
   "execution_count": 52,
   "metadata": {},
   "outputs": [
    {
     "name": "stdout",
     "output_type": "stream",
     "text": [
      "Jan 352\n",
      "2008 324\n",
      "by 245\n",
      "Received: 243\n",
      "-0500 219\n",
      "from 218\n",
      "4 203\n",
      "with 194\n",
      "Fri, 183\n",
      "id 136\n"
     ]
    }
   ],
   "source": [
    "# creating a dictionary with words and their counts\n",
    "document = open(r\"C:\\Users\\Beata\\Documents\\Python Scripts\\mbox-short.txt\")\n",
    "counts = dict()\n",
    "for line in document:\n",
    "    words = line.split()\n",
    "    for word in words:\n",
    "        counts[word] = counts.get(word, 0) + 1\n",
    "\n",
    "# creating a list with tuples (Value: count, key: word) based on the dictionary we previously created   \n",
    "lst = list()\n",
    "for key, val in counts.items():\n",
    "    tup = (val, key)\n",
    "    lst.append(tup)\n",
    "    \n",
    "# sorting the list(descending), getting 10 top words\n",
    "lst = sorted(lst, reverse = True)\n",
    "\n",
    "for val, key in lst[:10]:\n",
    "    print(key, val)"
   ]
  },
  {
   "cell_type": "markdown",
   "metadata": {},
   "source": [
    "The above code can be condensed - we use __list comprehensiom__ which creates a dynamic list. In this case we make a list of reversed tuples and sort it."
   ]
  },
  {
   "cell_type": "code",
   "execution_count": 54,
   "metadata": {},
   "outputs": [
    {
     "name": "stdout",
     "output_type": "stream",
     "text": [
      "[(4, 'b'), (10, 'a'), (22, 'c')]\n"
     ]
    }
   ],
   "source": [
    "c = {'a': 10, 'b': 4, 'c': 22 }\n",
    "print( sorted ( [ (v, k) for k, v in c.items() ] ) )"
   ]
  },
  {
   "cell_type": "code",
   "execution_count": 55,
   "metadata": {},
   "outputs": [
    {
     "name": "stdout",
     "output_type": "stream",
     "text": [
      "[(352, 'Jan'), (324, '2008'), (245, 'by'), (243, 'Received:'), (219, '-0500'), (218, 'from'), (203, '4'), (194, 'with'), (183, 'Fri,'), (136, 'id')]\n"
     ]
    }
   ],
   "source": [
    "document = open(r\"C:\\Users\\Beata\\Documents\\Python Scripts\\mbox-short.txt\")\n",
    "counts = dict()\n",
    "for line in document:\n",
    "    words = line.split()\n",
    "    for word in words:\n",
    "        counts[word] = counts.get(word, 0) + 1\n",
    "\n",
    "print( sorted ([ (v, k) for k, v in counts.items() ], reverse = True )[:10] )"
   ]
  },
  {
   "cell_type": "markdown",
   "metadata": {},
   "source": [
    "Getting a more readable output:"
   ]
  },
  {
   "cell_type": "code",
   "execution_count": 56,
   "metadata": {},
   "outputs": [
    {
     "name": "stdout",
     "output_type": "stream",
     "text": [
      "352 Jan\n",
      "324 2008\n",
      "245 by\n",
      "243 Received:\n",
      "219 -0500\n",
      "218 from\n",
      "203 4\n",
      "194 with\n",
      "183 Fri,\n",
      "136 id\n"
     ]
    }
   ],
   "source": [
    "document = open(r\"C:\\Users\\Beata\\Documents\\Python Scripts\\mbox-short.txt\")\n",
    "counts = dict()\n",
    "for line in document:\n",
    "    words = line.split()\n",
    "    for word in words:\n",
    "        counts[word] = counts.get(word, 0) + 1\n",
    "\n",
    "a = ( sorted ([ (v, k) for k, v in counts.items() ], reverse = True )[:10] )\n",
    "\n",
    "for x, y in a:\n",
    "    print(x, y)\n",
    "    "
   ]
  }
 ],
 "metadata": {
  "kernelspec": {
   "display_name": "Python 3",
   "language": "python",
   "name": "python3"
  },
  "language_info": {
   "codemirror_mode": {
    "name": "ipython",
    "version": 3
   },
   "file_extension": ".py",
   "mimetype": "text/x-python",
   "name": "python",
   "nbconvert_exporter": "python",
   "pygments_lexer": "ipython3",
   "version": "3.13.0"
  }
 },
 "nbformat": 4,
 "nbformat_minor": 2
}

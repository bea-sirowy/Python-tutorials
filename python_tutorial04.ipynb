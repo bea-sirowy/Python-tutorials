{
 "cells": [
  {
   "cell_type": "markdown",
   "metadata": {
    "vscode": {
     "languageId": "r"
    }
   },
   "source": [
    "Beata Sirowy\n",
    "# __Python data structures: Dictionaries__"
   ]
  },
  {
   "cell_type": "markdown",
   "metadata": {},
   "source": [
    "## An overview\n",
    "\n",
    "__Dictionary__: a linear collection of key-value pairs. Lookup by \"tag\" or \"key\". Allows a more random access than a list. <br>\n",
    "(__List__: a linear collection of values; lookup by position 0...n)\n",
    "- Using Python's collections (lists, dictionaries, tuples) is easy - but creating the code to support them is tricky (uses concepts like dynamic memory, arrays, linked lists, hash maps and trees)"
   ]
  },
  {
   "cell_type": "markdown",
   "metadata": {},
   "source": [
    "__Dictonaries:__\n",
    "- most powerful data  structures of the type \"collection\" in Python;\n",
    "- allow us to do fast database-like operations;\n",
    "- similar concepts in other programming languages: e.g. properties/map/hashmap in Java, associative arrays in PHP\n",
    "\n"
   ]
  },
  {
   "cell_type": "markdown",
   "metadata": {},
   "source": [
    "Since Python 3.7(2018) dictonaries keep entries in the order they were inserted <br> \"Insertion order\" is not always \"sorter order\".\n"
   ]
  },
  {
   "cell_type": "markdown",
   "metadata": {},
   "source": [
    "__Dictionaries vs. lists:__\n",
    "- we append values to the end of the list and look them up __by position__.\n",
    "- we insert values into a dictionary using a __key__, and retrieve them using a key. "
   ]
  },
  {
   "cell_type": "code",
   "execution_count": 3,
   "metadata": {},
   "outputs": [
    {
     "name": "stdout",
     "output_type": "stream",
     "text": [
      "[12, 24, 72]\n",
      "72\n",
      "[12, 24, 17]\n"
     ]
    }
   ],
   "source": [
    "x = list()\n",
    "x.append(12)\n",
    "x.append(24)\n",
    "x.append(72)\n",
    "\n",
    "print(x)\n",
    "print(x[2])\n",
    "x[2] = 17\n",
    "\n",
    "print(x)"
   ]
  },
  {
   "cell_type": "code",
   "execution_count": 7,
   "metadata": {},
   "outputs": [
    {
     "name": "stdout",
     "output_type": "stream",
     "text": [
      "{'summer': 12, 'fall': 3, 'spring': 25}\n",
      "25\n",
      "{'summer': 12, 'fall': 3, 'spring': 27}\n"
     ]
    }
   ],
   "source": [
    "x = dict()\n",
    "x['summer'] = 12\n",
    "x['fall'] = 3\n",
    "x['spring'] = 25\n",
    "print(x)\n",
    "print (x['spring'])\n",
    "x ['spring'] = x['spring'] + 2\n",
    "print(x)"
   ]
  }
 ],
 "metadata": {
  "kernelspec": {
   "display_name": "Bea00",
   "language": "python",
   "name": "python3"
  },
  "language_info": {
   "codemirror_mode": {
    "name": "ipython",
    "version": 3
   },
   "file_extension": ".py",
   "mimetype": "text/x-python",
   "name": "python",
   "nbconvert_exporter": "python",
   "pygments_lexer": "ipython3",
   "version": "3.12.7"
  }
 },
 "nbformat": 4,
 "nbformat_minor": 2
}

{
 "cells": [
  {
   "cell_type": "markdown",
   "metadata": {
    "vscode": {
     "languageId": "r"
    }
   },
   "source": [
    "Beata Sirowy\n",
    "# __Python data structures: Dictionaries__"
   ]
  }
 ],
 "metadata": {
  "kernelspec": {
   "display_name": "Bea00",
   "language": "python",
   "name": "python3"
  },
  "language_info": {
   "name": "python",
   "version": "3.12.7"
  }
 },
 "nbformat": 4,
 "nbformat_minor": 2
}

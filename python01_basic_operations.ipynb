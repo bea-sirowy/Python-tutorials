{
 "cells": [
  {
   "cell_type": "markdown",
   "id": "05f6fbce",
   "metadata": {},
   "source": [
    "Beata Sirowy"
   ]
  },
  {
   "cell_type": "markdown",
   "id": "f5c778cc-f033-4bb0-8cd4-51f8618efbea",
   "metadata": {},
   "source": [
    "# __Python demo: <br> multi way decisions, loops, functions, string operations__"
   ]
  },
  {
   "cell_type": "markdown",
   "id": "ac95ea31-4105-409f-8b51-e81094d5fa88",
   "metadata": {},
   "source": [
    "## Lift converter"
   ]
  },
  {
   "cell_type": "code",
   "execution_count": 20,
   "id": "ef026702-b06e-4cd9-a4cb-673a4df81615",
   "metadata": {},
   "outputs": [
    {
     "name": "stdout",
     "output_type": "stream",
     "text": [
      "European floor number: 6 \n",
      "Your floor in USA would be: 7\n"
     ]
    }
   ],
   "source": [
    "x = input(\"Write the European floor number you wish to go: \\n\")\n",
    "y = int(x) + 1\n",
    "print(\"European floor number:\", x, \"\\nYour floor in USA would be:\", y)"
   ]
  },
  {
   "cell_type": "markdown",
   "id": "dc183833-4fd7-43b8-b8d6-2de538631da5",
   "metadata": {},
   "source": [
    "## One way decisions with IF ELSE"
   ]
  },
  {
   "cell_type": "code",
   "execution_count": 16,
   "id": "013b0294-8dc6-4d26-b8f6-28c3d7e4623f",
   "metadata": {
    "scrolled": true
   },
   "outputs": [
    {
     "name": "stdout",
     "output_type": "stream",
     "text": [
      "Whats your name? \n",
      " John\n"
     ]
    },
    {
     "name": "stdout",
     "output_type": "stream",
     "text": [
      "Welcome, John nice to meet you!\n"
     ]
    },
    {
     "name": "stdout",
     "output_type": "stream",
     "text": [
      "How old are you? \n",
      " 12\n"
     ]
    },
    {
     "name": "stdout",
     "output_type": "stream",
     "text": [
      "Awesome, 12 years old is so young!\n"
     ]
    }
   ],
   "source": [
    "x = input(\"Whats your name? \\n\")\n",
    "print(\"Welcome,\", x, \"nice to meet you!\")\n",
    "x = input(\"How old are you? \\n\")\n",
    "if int(x) < 20:\n",
    "    print(\"Awesome,\", x, \"years old is so young!\")\n",
    "else:\n",
    "    print(\"Great,\", x, \"years old is an age of wisdom!\")"
   ]
  },
  {
   "cell_type": "markdown",
   "id": "2755ab80-5347-456c-bd89-ef01ccee050f",
   "metadata": {},
   "source": [
    "## ELIF structure (multi way decisions)"
   ]
  },
  {
   "cell_type": "markdown",
   "id": "ba8f837c-221c-44c2-902f-68462f51df75",
   "metadata": {},
   "source": [
    "Runs in sequence; exits the block once it finds TRUE value (doesn't check the following conditions)."
   ]
  },
  {
   "cell_type": "markdown",
   "id": "9e54eb69-6f5b-4496-adf1-885756ff6b7e",
   "metadata": {},
   "source": [
    "### example 1"
   ]
  },
  {
   "cell_type": "code",
   "execution_count": 21,
   "id": "e117f53b-22be-4f35-b953-7bfeb3783925",
   "metadata": {},
   "outputs": [
    {
     "name": "stdout",
     "output_type": "stream",
     "text": [
      "Give me a number 21\n"
     ]
    },
    {
     "name": "stdout",
     "output_type": "stream",
     "text": [
      "It's big\n"
     ]
    }
   ],
   "source": [
    "x = int(input(\"Give me a number\"))\n",
    "if x < 5:\n",
    "    print(\"It's small\")\n",
    "elif x > 20:\n",
    "    print(\"It's big\")\n",
    "    if x > 25:\n",
    "        print(\"More than I expected\")\n",
    "else:\n",
    "    print(\"It's medium\")"
   ]
  },
  {
   "cell_type": "markdown",
   "id": "d4e6e39f-9a45-4d3d-9570-75166fb06a58",
   "metadata": {},
   "source": [
    "### example 2"
   ]
  },
  {
   "cell_type": "code",
   "execution_count": 26,
   "id": "922fb4cd-2aed-4b28-90cd-37d216aed1aa",
   "metadata": {},
   "outputs": [
    {
     "name": "stdout",
     "output_type": "stream",
     "text": [
      "Give me a number 44\n"
     ]
    },
    {
     "name": "stdout",
     "output_type": "stream",
     "text": [
      "It's huge\n",
      "Thank you and goodbye\n"
     ]
    }
   ],
   "source": [
    "x = int(input(\"Give me a number\"))\n",
    "if x < 5:\n",
    "    print(\"It's small\")\n",
    "elif x < 20:\n",
    "    print(\"It's medium\")\n",
    "elif x < 20:\n",
    "    print(\"It's big\")\n",
    "else:\n",
    "    print(\"It's huge\")\n",
    "print(\"Thank you and goodbye\")"
   ]
  },
  {
   "cell_type": "markdown",
   "id": "0fc713f5-52e6-4ca1-8515-2f1255c45cca",
   "metadata": {},
   "source": [
    "## TRY / EXCEPT structure - eliminates a traceback / catches errors"
   ]
  },
  {
   "cell_type": "markdown",
   "id": "deb1dfc7-e27c-4b4e-98ea-ee325b07a638",
   "metadata": {},
   "source": [
    "If the code in TRY works, EXCEPT is skipped. <br>\n",
    "If TRY fails, runs to EXCEPT."
   ]
  },
  {
   "cell_type": "markdown",
   "id": "b3018582-7d91-44a7-beca-939dffb30000",
   "metadata": {},
   "source": [
    "### example 1"
   ]
  },
  {
   "cell_type": "code",
   "execution_count": 43,
   "id": "d1efe0b6-ee05-4a13-9d59-939583f61d52",
   "metadata": {},
   "outputs": [
    {
     "name": "stdout",
     "output_type": "stream",
     "text": [
      "Give me a number trfduti\n"
     ]
    },
    {
     "name": "stdout",
     "output_type": "stream",
     "text": [
      "It's not a number my friend\n"
     ]
    }
   ],
   "source": [
    "x = input(\"Give me a number\")\n",
    "try:\n",
    "    x = int(x)\n",
    "    print(x, \"is my favourite number\")\n",
    "except:\n",
    "    print(\"It's not a number my friend\")"
   ]
  },
  {
   "cell_type": "markdown",
   "id": "bb578d04-47b9-4e02-b9ce-193845359365",
   "metadata": {},
   "source": [
    "### example 2"
   ]
  },
  {
   "cell_type": "code",
   "execution_count": 24,
   "id": "7d598f2b-0b99-47c5-94f0-d9923a550eb5",
   "metadata": {},
   "outputs": [
    {
     "name": "stdout",
     "output_type": "stream",
     "text": [
      "What's your name? \n",
      " rop\n"
     ]
    },
    {
     "name": "stdout",
     "output_type": "stream",
     "text": [
      "Welcome, rop nice to meet you! \n",
      "\n"
     ]
    },
    {
     "name": "stdout",
     "output_type": "stream",
     "text": [
      "How old are you? ff\n"
     ]
    },
    {
     "name": "stdout",
     "output_type": "stream",
     "text": [
      "It's not a number my friend\n"
     ]
    }
   ],
   "source": [
    "x = input(\"What's your name? \\n\")\n",
    "print(\"Welcome,\", x, \"nice to meet you! \\n\")\n",
    "x = input(\"How old are you?\")\n",
    "try:\n",
    "    if int(x) < 20:\n",
    "        print(\"Nice,\", x, \"years old is so young!\")\n",
    "    if int(x) > 20:\n",
    "        print(\"Great,\", x, \"years old is an age of wisdom!\")\n",
    "except:\n",
    "    print(\"It's not a number my friend!\")"
   ]
  },
  {
   "cell_type": "code",
   "execution_count": 27,
   "id": "ae77255c-4f29-4833-a530-3d681fa6fad7",
   "metadata": {},
   "outputs": [
    {
     "name": "stdout",
     "output_type": "stream",
     "text": [
      "How old are you? \n",
      " 12\n"
     ]
    },
    {
     "name": "stdout",
     "output_type": "stream",
     "text": [
      "Nice, 12 years old is so young!\n"
     ]
    }
   ],
   "source": [
    "x = input(\"How old are you? \\n\")\n",
    "try:\n",
    "    x = int(x)\n",
    "    if x < 20:\n",
    "        print(\"Nice,\", x, \"years old is so young!\")\n",
    "    if x > 20:\n",
    "        print(\"Great,\", x, \"years old is an age of wisdom!\")\n",
    "except:\n",
    "    print(\"It's not a number my friend!\")"
   ]
  },
  {
   "cell_type": "markdown",
   "id": "bfca097e-576a-4710-b6d9-fc5d17fabf94",
   "metadata": {},
   "source": [
    "## Functions"
   ]
  },
  {
   "cell_type": "markdown",
   "id": "578528cc-d112-4c69-8df3-bd9ff72d28ba",
   "metadata": {},
   "source": [
    "Purpose: store and reuse. <br>\n",
    "DRY: don't repeat yourself"
   ]
  },
  {
   "cell_type": "code",
   "execution_count": 30,
   "id": "04bcd588-1ab5-4a8d-b5d5-a2f42311e5fa",
   "metadata": {},
   "outputs": [],
   "source": [
    "def greet(language):\n",
    "    if language == \"es\":\n",
    "        print(\"Hola\")\n",
    "    elif language == \"fr\":\n",
    "        print(\"Bonjour\")\n",
    "    else:\n",
    "        print(\"Hi\")"
   ]
  },
  {
   "cell_type": "code",
   "execution_count": 31,
   "id": "2f206fff-9bcf-4c21-aa10-75d0f59563d3",
   "metadata": {},
   "outputs": [
    {
     "name": "stdout",
     "output_type": "stream",
     "text": [
      "Bonjour\n"
     ]
    }
   ],
   "source": [
    "greet(\"fr\")"
   ]
  },
  {
   "cell_type": "code",
   "execution_count": 4,
   "id": "5feb48c1-1649-4602-9a58-b9c3646f1fbb",
   "metadata": {
    "scrolled": true
   },
   "outputs": [
    {
     "name": "stdout",
     "output_type": "stream",
     "text": [
      "give me a word \n",
      " fdfuhf\n"
     ]
    },
    {
     "name": "stdout",
     "output_type": "stream",
     "text": [
      "u\n"
     ]
    }
   ],
   "source": [
    "word = input(\"give me a word \\n\")\n",
    "g = max(word)\n",
    "print(g)"
   ]
  },
  {
   "cell_type": "code",
   "execution_count": 49,
   "id": "463e51ba-d784-4bc8-bbb9-e2e9362e6327",
   "metadata": {},
   "outputs": [],
   "source": [
    "def x(word):\n",
    "    big = max(word)\n",
    "    print(\"The biggest letter in this word is: \" + big)"
   ]
  },
  {
   "cell_type": "code",
   "execution_count": 51,
   "id": "c230ffce-1bb6-43fc-92ab-624514bea4b3",
   "metadata": {},
   "outputs": [
    {
     "name": "stdout",
     "output_type": "stream",
     "text": [
      "Choose a word \n",
      " Cat\n"
     ]
    },
    {
     "name": "stdout",
     "output_type": "stream",
     "text": [
      "The biggest letter in this word is: t\n"
     ]
    }
   ],
   "source": [
    "word = input(\"Choose a word \\n\")\n",
    "x(word)"
   ]
  },
  {
   "cell_type": "markdown",
   "id": "45a67748-54fd-4b6d-b8b5-24e19d4c002b",
   "metadata": {},
   "source": [
    "### Multiple parameters/ arguments"
   ]
  },
  {
   "cell_type": "code",
   "execution_count": 9,
   "id": "8a78e46b-5150-4cd9-9c76-fba1c487206e",
   "metadata": {},
   "outputs": [],
   "source": [
    "def add(a, b):\n",
    "    adding = a + b\n",
    "    return adding"
   ]
  },
  {
   "cell_type": "code",
   "execution_count": 12,
   "id": "1a8c7e20-c764-463f-801f-0462b0af7c95",
   "metadata": {},
   "outputs": [
    {
     "name": "stdout",
     "output_type": "stream",
     "text": [
      "12\n"
     ]
    }
   ],
   "source": [
    "x = add(5, 7)\n",
    "print(x)"
   ]
  },
  {
   "cell_type": "markdown",
   "id": "793edfeb-db24-4c97-b97b-ca0649d81251",
   "metadata": {},
   "source": [
    "## Loops and iteration"
   ]
  },
  {
   "cell_type": "code",
   "execution_count": 4,
   "id": "346a6fca-47c5-4515-873b-67b1a60f9a81",
   "metadata": {},
   "outputs": [
    {
     "name": "stdout",
     "output_type": "stream",
     "text": [
      "10\n",
      "9\n",
      "8\n",
      "7\n",
      "6\n",
      "5\n",
      "4\n",
      "3\n",
      "2\n",
      "1\n",
      "Bye it is the end\n",
      "0\n"
     ]
    }
   ],
   "source": [
    "n = 10\n",
    "while n > 0:\n",
    "    print(n)\n",
    "    n = n - 1\n",
    "print(\"Bye it is the end\")\n",
    "print(n)"
   ]
  },
  {
   "cell_type": "code",
   "execution_count": 4,
   "id": "50083449-c20d-4fc0-8004-a1576abf4df6",
   "metadata": {},
   "outputs": [
    {
     "name": "stdout",
     "output_type": "stream",
     "text": [
      "Lather\n",
      "Rinse\n",
      "Lather\n",
      "Rinse\n",
      "Lather\n",
      "Rinse\n",
      "Lather\n",
      "Rinse\n",
      "Lather\n",
      "Rinse\n",
      "Day off!\n"
     ]
    }
   ],
   "source": [
    "n = 5\n",
    "while n > 0:\n",
    "    print(\"Lather\")\n",
    "    print(\"Rinse\")\n",
    "    n = n - 1\n",
    "print(\"Day off!\")"
   ]
  },
  {
   "cell_type": "markdown",
   "id": "43c870f7-d68b-4403-b312-370182d49de1",
   "metadata": {},
   "source": [
    "### Breaking out of a loop"
   ]
  },
  {
   "cell_type": "code",
   "execution_count": 52,
   "id": "e087dc74-3b71-4c33-98ce-2729829eb22b",
   "metadata": {},
   "outputs": [
    {
     "name": "stdout",
     "output_type": "stream",
     "text": [
      "Say something \n",
      " Hi\n"
     ]
    },
    {
     "name": "stdout",
     "output_type": "stream",
     "text": [
      "Hi\n"
     ]
    },
    {
     "name": "stdout",
     "output_type": "stream",
     "text": [
      "Say something \n",
      " done\n"
     ]
    },
    {
     "name": "stdout",
     "output_type": "stream",
     "text": [
      "I'm done too!\n"
     ]
    }
   ],
   "source": [
    "while True:\n",
    "    line = input(\"Say something \\n\")\n",
    "    if line == \"done\":\n",
    "        break\n",
    "    print(line)\n",
    "print(\"I'm done too!\")"
   ]
  },
  {
   "cell_type": "markdown",
   "id": "35f7714d-b590-4dca-89f8-ff2245d85319",
   "metadata": {},
   "source": [
    "### Finishing an iteration with CONTINUE"
   ]
  },
  {
   "cell_type": "markdown",
   "id": "cdd1211d-c444-483a-b653-fb344e3f5c03",
   "metadata": {},
   "source": [
    "CONTINUE ends the current iteration and jumps to the top of the loop."
   ]
  },
  {
   "cell_type": "code",
   "execution_count": 53,
   "id": "c6411e01-1dab-461a-acb9-d85c970a512e",
   "metadata": {},
   "outputs": [
    {
     "name": "stdout",
     "output_type": "stream",
     "text": [
      "Say something \n",
      " Hi\n"
     ]
    },
    {
     "name": "stdout",
     "output_type": "stream",
     "text": [
      "Hi!\n"
     ]
    },
    {
     "name": "stdout",
     "output_type": "stream",
     "text": [
      "Say something \n",
      " #big\n",
      "Say something \n",
      " done\n"
     ]
    },
    {
     "name": "stdout",
     "output_type": "stream",
     "text": [
      "I'm done too!\n"
     ]
    }
   ],
   "source": [
    "while True:\n",
    "    line = input(\"Say something \\n\")\n",
    "    if line[0] == \"#\":\n",
    "        continue\n",
    "    if line == \"done\":\n",
    "        break\n",
    "    print(line + \"!\")\n",
    "print(\"I'm done too!\")"
   ]
  },
  {
   "cell_type": "code",
   "execution_count": null,
   "id": "33e933ee-3718-4f77-9243-105ae3b87d6c",
   "metadata": {},
   "outputs": [],
   "source": []
  },
  {
   "cell_type": "markdown",
   "id": "dfa8dd5b-b161-4abe-b670-efdce028c808",
   "metadata": {},
   "source": [
    "## Definite loops"
   ]
  },
  {
   "cell_type": "markdown",
   "id": "e5d6161a-3bdd-43e1-99be-0b6ad07b12e2",
   "metadata": {},
   "source": [
    "The iteration variable \"iterates\" through the sequence (ordered set). <br>\n",
    "The block (body) of code is executed once with each iteration."
   ]
  },
  {
   "cell_type": "code",
   "execution_count": 14,
   "id": "0f2382d1-8d41-4755-a0d6-781eceacffe8",
   "metadata": {},
   "outputs": [
    {
     "name": "stdout",
     "output_type": "stream",
     "text": [
      "25\n",
      "20\n",
      "15\n",
      "10\n",
      "5\n",
      "The End\n"
     ]
    }
   ],
   "source": [
    "for i in [5, 4, 3, 2, 1]:\n",
    "    print(i * 5)\n",
    "print(\"The End\")"
   ]
  },
  {
   "cell_type": "code",
   "execution_count": 11,
   "id": "870b85f8-1367-468b-93b9-1692fd08a25b",
   "metadata": {},
   "outputs": [
    {
     "name": "stdout",
     "output_type": "stream",
     "text": [
      "1\n",
      "2\n",
      "3\n",
      "4\n",
      "5\n",
      "Blastoff!!!\n"
     ]
    }
   ],
   "source": [
    "for i in range(1, 6):\n",
    "    print(i)\n",
    "print(\"Blastoff!!!\")"
   ]
  },
  {
   "cell_type": "markdown",
   "id": "09b3e59e-8744-4341-9300-c639d3e0bbd2",
   "metadata": {},
   "source": [
    "### A definite loop with strings"
   ]
  },
  {
   "cell_type": "code",
   "execution_count": 16,
   "id": "6f3be5b4-ab43-406d-9154-d69e02b70564",
   "metadata": {},
   "outputs": [
    {
     "name": "stdout",
     "output_type": "stream",
     "text": [
      "Happy New Year Damian!\n",
      "Happy New Year Mat!\n",
      "Happy New Year Kon!\n",
      "Done!\n"
     ]
    }
   ],
   "source": [
    "friends = [\"Damian\", \"Mat\", \"Kon\"]\n",
    "for x in friends:\n",
    "    print(\"Happy New Year\", x + \"!\")\n",
    "print(\"Done!\")"
   ]
  },
  {
   "cell_type": "markdown",
   "id": "aa395daf-5eb8-436b-b248-dd4f57b3162c",
   "metadata": {},
   "source": [
    "### Finding the largest value"
   ]
  },
  {
   "cell_type": "code",
   "execution_count": 28,
   "id": "7670bcb4-fed3-4e66-ab1f-ca035e4ed689",
   "metadata": {},
   "outputs": [
    {
     "name": "stdout",
     "output_type": "stream",
     "text": [
      "Before the loop: let's begin with -1\n",
      "9 9\n",
      "56 56\n",
      "97 97\n",
      "97 45\n",
      "97 15\n",
      "99 99\n",
      "99 27\n",
      "After the loop: the largest number in the set is 99\n"
     ]
    }
   ],
   "source": [
    "largest_so_far = -1\n",
    "print(\"Before the loop: let's begin with\", largest_so_far)\n",
    "for x in [9, 56, 97, 45, 15, 99, 27]:\n",
    "    if x > largest_so_far:\n",
    "        largest_so_far=x\n",
    "    print(largest_so_far, x)\n",
    "print(\"After the loop: the largest number in the set is\", largest_so_far)"
   ]
  },
  {
   "cell_type": "markdown",
   "id": "cd4b3c4f-96b9-429c-9b24-bf861ea46508",
   "metadata": {},
   "source": [
    "### Counting in a loop"
   ]
  },
  {
   "cell_type": "markdown",
   "id": "49cb6b2b-6a82-4172-8cc1-2c13cb6c9893",
   "metadata": {},
   "source": [
    "To count in the loop we introduce a __counter variable__ that starts at 0 and we add one to it each time through the loop."
   ]
  },
  {
   "cell_type": "code",
   "execution_count": 34,
   "id": "9e2df556-1b80-4348-be42-ac45abf3545e",
   "metadata": {},
   "outputs": [
    {
     "name": "stdout",
     "output_type": "stream",
     "text": [
      "Before the loop 0\n",
      "1 9\n",
      "2 56\n",
      "3 97\n",
      "4 45\n",
      "5 15\n",
      "6 99\n",
      "7 27\n",
      "After the loop: the sum is 7\n"
     ]
    }
   ],
   "source": [
    "n = 0\n",
    "print(\"Before the loop\", n)\n",
    "for x in [9, 56, 97, 45, 15, 99, 27]:\n",
    "    n = n +1\n",
    "    print(n, x)\n",
    "print(\"After the loop: the COUNT is\", n)\n",
    "    "
   ]
  },
  {
   "cell_type": "markdown",
   "id": "7351c2de-4af9-4845-82b5-8d7a32837db1",
   "metadata": {},
   "source": [
    "### Summing in a loop"
   ]
  },
  {
   "cell_type": "code",
   "execution_count": 36,
   "id": "00d41911-354b-402f-a3ff-d1cf40e16f1d",
   "metadata": {},
   "outputs": [
    {
     "name": "stdout",
     "output_type": "stream",
     "text": [
      "Before the loop 0\n",
      "9 9\n",
      "56 65\n",
      "97 162\n",
      "45 207\n",
      "15 222\n",
      "99 321\n",
      "27 348\n",
      "After the loop: the SUM is 348\n"
     ]
    }
   ],
   "source": [
    "n = 0\n",
    "print(\"Before the loop\", n)\n",
    "for x in [9, 56, 97, 45, 15, 99, 27]:\n",
    "    n = n + x\n",
    "    print(x, n)\n",
    "print(\"After the loop: the SUM is\", n)\n",
    "    \n"
   ]
  },
  {
   "cell_type": "markdown",
   "id": "570c1722-b51a-4a74-8085-61e36d93f5f8",
   "metadata": {},
   "source": [
    "### Finding an average in the loop"
   ]
  },
  {
   "cell_type": "code",
   "execution_count": 41,
   "id": "e7df6403-0d9b-485e-b52f-fe9b357a9b39",
   "metadata": {},
   "outputs": [
    {
     "name": "stdout",
     "output_type": "stream",
     "text": [
      "Before the loop 0 0\n",
      "1 9 9\n",
      "2 65 56\n",
      "3 162 97\n",
      "4 207 45\n",
      "5 222 15\n",
      "6 321 99\n",
      "7 348 27\n",
      "After the loop: COUNT, SUM and AVERAGE are: 7 348 49.714285714285715\n"
     ]
    }
   ],
   "source": [
    "count = 0\n",
    "sum_ = 0\n",
    "print(\"Before the loop\", count, sum_)\n",
    "for x in [9, 56, 97, 45, 15, 99, 27]:\n",
    "    count = count + 1\n",
    "    sum_ = sum_ + x\n",
    "    print(count, sum_, x)\n",
    "print(\"After the loop: COUNT, SUM and AVERAGE are:\", count, sum_, sum_/count)"
   ]
  },
  {
   "cell_type": "markdown",
   "id": "5ba7a0fb-df39-4b91-989b-bdd7d298fe71",
   "metadata": {},
   "source": [
    "### Filtering in a loop"
   ]
  },
  {
   "cell_type": "markdown",
   "id": "dda37acf-a735-421f-8cb2-0c58be61a615",
   "metadata": {},
   "source": [
    "We use an IF statement in the loop to catch / filter the values we are lookig for (e.g. searching for large numbers in a list of numbers)."
   ]
  },
  {
   "cell_type": "code",
   "execution_count": 43,
   "id": "52c558b8-ffaf-41bc-af94-4abd2705a1f6",
   "metadata": {},
   "outputs": [
    {
     "name": "stdout",
     "output_type": "stream",
     "text": [
      "Before the loop: the following numbers in the set are larger than 20:\n",
      "Large number: 56\n",
      "Large number: 97\n",
      "Large number: 45\n",
      "Large number: 99\n",
      "Large number: 27\n",
      "After the loop\n"
     ]
    }
   ],
   "source": [
    "print(\"Before the loop: the following numbers in the set are larger than 20:\")\n",
    "for x in [9, 56, 97, 45, 15, 99, 27]:\n",
    "    if x > 20:\n",
    "        print(\"Large number:\", x)\n",
    "print(\"After the loop\")"
   ]
  },
  {
   "cell_type": "markdown",
   "id": "556a8c3e-f2bf-40b4-a089-8f8f93206a9d",
   "metadata": {},
   "source": [
    "### Search using a Boolean variable"
   ]
  },
  {
   "cell_type": "markdown",
   "id": "f5042d3a-b925-41ac-9def-96f6fba02cb1",
   "metadata": {},
   "source": [
    "If we just want to know if the value was found, we use a variable that starts at FALSE and is set to TRUE as soon as we find what we are looking for."
   ]
  },
  {
   "cell_type": "markdown",
   "id": "99fa5e8c-e1a7-43b5-a135-5ed6532c27ec",
   "metadata": {},
   "source": [
    "found = False\n",
    "print(\"Before the loop: finding a value:\", found)\n",
    "for x in [9, 56, 97, 45, 15, 99, 27]:\n",
    "    if x == 15:\n",
    "        found = True\n",
    "    print(found, x)\n",
    "print(\"After the loop: the value was found:\", found)"
   ]
  },
  {
   "cell_type": "markdown",
   "id": "2bdea25e-1fc3-45fa-8ad1-6d2701731edb",
   "metadata": {},
   "source": [
    "### Finding the smallest value"
   ]
  },
  {
   "cell_type": "code",
   "execution_count": 55,
   "id": "bba0f45c-34b5-41e9-9f02-a2e2291ec87a",
   "metadata": {},
   "outputs": [
    {
     "name": "stdout",
     "output_type": "stream",
     "text": [
      "Before the loop: let's begin with 100000\n",
      "9 9\n",
      "9 56\n",
      "9 97\n",
      "9 45\n",
      "9 15\n",
      "9 99\n",
      "2 2\n",
      "2 27\n",
      "After the loop: the smallest number in the set is 2\n"
     ]
    }
   ],
   "source": [
    "smallest_so_far = 100000\n",
    "print(\"Before the loop: let's begin with\", smallest_so_far)\n",
    "for x in [9, 56, 97, 45, 15, 99, 2, 27]:\n",
    "    if x < smallest_so_far:\n",
    "        smallest_so_far=x\n",
    "    print(smallest_so_far, x)\n",
    "print(\"After the loop: the smallest number in the set is\", smallest_so_far)"
   ]
  },
  {
   "cell_type": "markdown",
   "id": "aabb5028-6e52-4e2e-8276-aafa838e9c49",
   "metadata": {},
   "source": [
    "__NONE type variable__ should be used in this loop instead of a random large number at the beginning as a __flag value__- to make sure our loop works correctly with any sets of numbers, no matter how small. <br>\n",
    "<br>\n",
    "IS / IS NOT operators can be used with logical expressions. IS implies \"the same as\", is similar to but stronger than =="
   ]
  },
  {
   "cell_type": "code",
   "execution_count": 57,
   "id": "1814354b-85e7-4d19-9bfc-51d2eb61f816",
   "metadata": {},
   "outputs": [
    {
     "name": "stdout",
     "output_type": "stream",
     "text": [
      "Before the loop: let's begin with None\n",
      "9 9\n",
      "9 56\n",
      "9 97\n",
      "9 45\n",
      "9 15\n",
      "9 99\n",
      "2 2\n",
      "2 27\n",
      "After the loop: the smallest number in the set is 2\n"
     ]
    }
   ],
   "source": [
    "smallest_so_far = None\n",
    "print(\"Before the loop: let's begin with\", smallest_so_far)\n",
    "for x in [9, 56, 97, 45, 15, 99, 2, 27]:\n",
    "    if smallest_so_far is None:\n",
    "        smallest_so_far=x\n",
    "    elif x < smallest_so_far:\n",
    "        smallest_so_far=x\n",
    "    print(smallest_so_far, x)\n",
    "print(\"After the loop: the smallest number in the set is\", smallest_so_far)"
   ]
  },
  {
   "cell_type": "markdown",
   "id": "98ff79e4-bc8c-463d-9ca9-7f9f73015899",
   "metadata": {},
   "source": [
    "## Strings "
   ]
  },
  {
   "cell_type": "markdown",
   "id": "148fe832-7ab1-4851-84b4-56538d647adf",
   "metadata": {},
   "source": [
    "Strings have indexable data within.\n",
    "\n",
    "Using a \"while\" statement, an iteration variable, and the len functions we can construct a loop to look at each letter in a string individually.\n",
    "\n"
   ]
  },
  {
   "cell_type": "code",
   "execution_count": 71,
   "id": "9d213d82-f669-489a-a28a-e1d6700dca9d",
   "metadata": {},
   "outputs": [
    {
     "name": "stdout",
     "output_type": "stream",
     "text": [
      "0 b\n",
      "1 a\n",
      "2 n\n",
      "3 a\n",
      "4 n\n",
      "5 a\n"
     ]
    }
   ],
   "source": [
    "x = 'banana'\n",
    "index = 0\n",
    "while index < len(x):\n",
    "    letter = x[index]\n",
    "    print(index, letter)\n",
    "    index = index + 1"
   ]
  },
  {
   "cell_type": "markdown",
   "id": "759e181e-6a0e-4732-8e3e-d01c2a1ef832",
   "metadata": {},
   "source": [
    "A definite loop using \"for\" statement is more convenient - the iteration variable is taken care of by the loop"
   ]
  },
  {
   "cell_type": "code",
   "execution_count": 70,
   "id": "a6e082f1-c601-41cd-a431-69a6ebf3592f",
   "metadata": {},
   "outputs": [
    {
     "name": "stdout",
     "output_type": "stream",
     "text": [
      "b\n",
      "a\n",
      "n\n",
      "a\n",
      "n\n",
      "a\n"
     ]
    }
   ],
   "source": [
    "x = 'banana'\n",
    "for y in x:\n",
    "    print(y)"
   ]
  },
  {
   "cell_type": "markdown",
   "id": "674072f1-5afa-4e4d-bd19-5bfd452b1d5a",
   "metadata": {},
   "source": [
    "### Looping and counting"
   ]
  },
  {
   "cell_type": "markdown",
   "id": "1a3346f7-4a53-4841-9c16-ab9cb213425e",
   "metadata": {},
   "source": [
    "Counting letters \"a\""
   ]
  },
  {
   "cell_type": "code",
   "execution_count": 86,
   "id": "2e3fe417-1be9-4170-a673-f6f26dbc9353",
   "metadata": {},
   "outputs": [
    {
     "name": "stdout",
     "output_type": "stream",
     "text": [
      "3\n"
     ]
    }
   ],
   "source": [
    "x = \"banana\"\n",
    "count = 0\n",
    "for y in x:\n",
    "    if y == \"a\":\n",
    "        count = count + 1\n",
    "print(count)"
   ]
  },
  {
   "cell_type": "markdown",
   "id": "15958dbf-f976-4e15-8e82-314479163cb8",
   "metadata": {},
   "source": [
    "## Slicing strings"
   ]
  },
  {
   "cell_type": "markdown",
   "id": "0a3a4d47-affb-4e01-95c6-3af08017390d",
   "metadata": {},
   "source": [
    "The first number is included, the second is \"up to but not including\". If the second number is beyond the string, it stops at the end."
   ]
  },
  {
   "cell_type": "code",
   "execution_count": 76,
   "id": "a722544a-85c8-40ee-9dcb-8f8095dc3776",
   "metadata": {},
   "outputs": [
    {
     "name": "stdout",
     "output_type": "stream",
     "text": [
      "App\n"
     ]
    }
   ],
   "source": [
    "x = 'Apples and bananas'\n",
    "print(x[0:3])"
   ]
  },
  {
   "cell_type": "code",
   "execution_count": 80,
   "id": "1ca1b875-7d9e-4418-8e29-790bde62b3aa",
   "metadata": {},
   "outputs": [
    {
     "name": "stdout",
     "output_type": "stream",
     "text": [
      "a\n"
     ]
    }
   ],
   "source": [
    "print(x[7:8])"
   ]
  },
  {
   "cell_type": "code",
   "execution_count": 81,
   "id": "112e068b-4d29-4c49-8606-72994113cf85",
   "metadata": {},
   "outputs": [
    {
     "name": "stdout",
     "output_type": "stream",
     "text": [
      "and bananas\n"
     ]
    }
   ],
   "source": [
    "print(x[7:20])"
   ]
  },
  {
   "cell_type": "code",
   "execution_count": 83,
   "id": "6797388d-02c6-49e7-9755-d64cc0c1da56",
   "metadata": {},
   "outputs": [
    {
     "name": "stdout",
     "output_type": "stream",
     "text": [
      "Ap\n"
     ]
    }
   ],
   "source": [
    "print(x[:2])"
   ]
  },
  {
   "cell_type": "code",
   "execution_count": 84,
   "id": "aab1d4f0-06fb-42e8-8754-cbc45404118c",
   "metadata": {},
   "outputs": [
    {
     "name": "stdout",
     "output_type": "stream",
     "text": [
      "nd bananas\n"
     ]
    }
   ],
   "source": [
    "print(x[8:])"
   ]
  },
  {
   "cell_type": "code",
   "execution_count": 85,
   "id": "194d1628-fcb8-405e-96f2-31093d5e0e80",
   "metadata": {},
   "outputs": [
    {
     "name": "stdout",
     "output_type": "stream",
     "text": [
      "Apples and bananas\n"
     ]
    }
   ],
   "source": [
    "print(x[:])"
   ]
  },
  {
   "cell_type": "markdown",
   "id": "6e4cdb1d-c397-4b1b-9b1b-e28188684e4f",
   "metadata": {},
   "source": [
    "### String Concatenation"
   ]
  },
  {
   "cell_type": "code",
   "execution_count": 88,
   "id": "e0a7da74-55ba-46de-9bb6-5ef9456075de",
   "metadata": {},
   "outputs": [
    {
     "name": "stdout",
     "output_type": "stream",
     "text": [
      "Hi There\n"
     ]
    }
   ],
   "source": [
    "a = \"Hi\"\n",
    "b = \" \"\n",
    "c = \"There\"\n",
    "print(a + b + c)"
   ]
  },
  {
   "cell_type": "markdown",
   "id": "42cd78b7-252f-4b29-ae90-014960803cc9",
   "metadata": {},
   "source": [
    "## Using \"in\" as a logical operator"
   ]
  },
  {
   "cell_type": "code",
   "execution_count": 90,
   "id": "d619a80c-b475-46e9-9032-d3055cfd1d7e",
   "metadata": {},
   "outputs": [
    {
     "data": {
      "text/plain": [
       "True"
      ]
     },
     "execution_count": 90,
     "metadata": {},
     "output_type": "execute_result"
    }
   ],
   "source": [
    "x = 'banana'\n",
    "'n' in x"
   ]
  },
  {
   "cell_type": "code",
   "execution_count": 93,
   "id": "3ace1bd5-e7ef-49aa-bfea-7972c3d1204e",
   "metadata": {},
   "outputs": [
    {
     "name": "stdout",
     "output_type": "stream",
     "text": [
      "I found it!\n"
     ]
    }
   ],
   "source": [
    "if 'a' in x:\n",
    "    print('I found it!')\n"
   ]
  },
  {
   "cell_type": "markdown",
   "id": "9f6de756-e25b-4175-8264-d438966031b0",
   "metadata": {},
   "source": [
    "## String functions"
   ]
  },
  {
   "cell_type": "code",
   "execution_count": 95,
   "id": "95883741-5b39-4d41-9500-d6f4f6bab5e9",
   "metadata": {},
   "outputs": [
    {
     "name": "stdout",
     "output_type": "stream",
     "text": [
      "hello bob\n"
     ]
    }
   ],
   "source": [
    "x = 'Hello Bob'\n",
    "y = x.lower()\n",
    "print(y)"
   ]
  },
  {
   "cell_type": "code",
   "execution_count": 98,
   "id": "a9e12f2e-b72e-40bc-93bb-b65b6eaafdc0",
   "metadata": {},
   "outputs": [
    {
     "name": "stdout",
     "output_type": "stream",
     "text": [
      "HELLO BOB\n"
     ]
    }
   ],
   "source": [
    "print('Hello Bob'.upper())"
   ]
  },
  {
   "cell_type": "code",
   "execution_count": 97,
   "id": "e511c758-ef15-43c6-8c5d-a65f96869c50",
   "metadata": {},
   "outputs": [
    {
     "data": {
      "text/plain": [
       "9"
      ]
     },
     "execution_count": 97,
     "metadata": {},
     "output_type": "execute_result"
    }
   ],
   "source": [
    "len('Hello Bob')"
   ]
  },
  {
   "cell_type": "code",
   "execution_count": 100,
   "id": "877b8033-18c5-46fb-afc0-6915dbde8eac",
   "metadata": {},
   "outputs": [
    {
     "data": {
      "text/plain": [
       "str"
      ]
     },
     "execution_count": 100,
     "metadata": {},
     "output_type": "execute_result"
    }
   ],
   "source": [
    "type('Hello Bob')"
   ]
  },
  {
   "cell_type": "markdown",
   "id": "974245ed-b01c-45b5-b986-fa2086aac795",
   "metadata": {},
   "source": [
    "The following command lists all in-built string methods/functions"
   ]
  },
  {
   "cell_type": "code",
   "execution_count": 101,
   "id": "8366b623-9a12-4ebe-8280-30e42b4df831",
   "metadata": {},
   "outputs": [
    {
     "data": {
      "text/plain": [
       "['__add__',\n",
       " '__class__',\n",
       " '__contains__',\n",
       " '__delattr__',\n",
       " '__dir__',\n",
       " '__doc__',\n",
       " '__eq__',\n",
       " '__format__',\n",
       " '__ge__',\n",
       " '__getattribute__',\n",
       " '__getitem__',\n",
       " '__getnewargs__',\n",
       " '__getstate__',\n",
       " '__gt__',\n",
       " '__hash__',\n",
       " '__init__',\n",
       " '__init_subclass__',\n",
       " '__iter__',\n",
       " '__le__',\n",
       " '__len__',\n",
       " '__lt__',\n",
       " '__mod__',\n",
       " '__mul__',\n",
       " '__ne__',\n",
       " '__new__',\n",
       " '__reduce__',\n",
       " '__reduce_ex__',\n",
       " '__repr__',\n",
       " '__rmod__',\n",
       " '__rmul__',\n",
       " '__setattr__',\n",
       " '__sizeof__',\n",
       " '__str__',\n",
       " '__subclasshook__',\n",
       " 'capitalize',\n",
       " 'casefold',\n",
       " 'center',\n",
       " 'count',\n",
       " 'encode',\n",
       " 'endswith',\n",
       " 'expandtabs',\n",
       " 'find',\n",
       " 'format',\n",
       " 'format_map',\n",
       " 'index',\n",
       " 'isalnum',\n",
       " 'isalpha',\n",
       " 'isascii',\n",
       " 'isdecimal',\n",
       " 'isdigit',\n",
       " 'isidentifier',\n",
       " 'islower',\n",
       " 'isnumeric',\n",
       " 'isprintable',\n",
       " 'isspace',\n",
       " 'istitle',\n",
       " 'isupper',\n",
       " 'join',\n",
       " 'ljust',\n",
       " 'lower',\n",
       " 'lstrip',\n",
       " 'maketrans',\n",
       " 'partition',\n",
       " 'removeprefix',\n",
       " 'removesuffix',\n",
       " 'replace',\n",
       " 'rfind',\n",
       " 'rindex',\n",
       " 'rjust',\n",
       " 'rpartition',\n",
       " 'rsplit',\n",
       " 'rstrip',\n",
       " 'split',\n",
       " 'splitlines',\n",
       " 'startswith',\n",
       " 'strip',\n",
       " 'swapcase',\n",
       " 'title',\n",
       " 'translate',\n",
       " 'upper',\n",
       " 'zfill']"
      ]
     },
     "execution_count": 101,
     "metadata": {},
     "output_type": "execute_result"
    }
   ],
   "source": [
    "dir('Hello Bob')"
   ]
  },
  {
   "cell_type": "markdown",
   "id": "f4f1d628-2806-4d3e-b11d-36392e2825b5",
   "metadata": {},
   "source": [
    "### String library - examples"
   ]
  },
  {
   "cell_type": "code",
   "execution_count": 104,
   "id": "e69d4482-fa48-4b4f-8d85-f66bcbdd708b",
   "metadata": {},
   "outputs": [
    {
     "data": {
      "text/plain": [
       "'Hello bob'"
      ]
     },
     "execution_count": 104,
     "metadata": {},
     "output_type": "execute_result"
    }
   ],
   "source": [
    "str.capitalize('hello bob')"
   ]
  },
  {
   "cell_type": "code",
   "execution_count": 105,
   "id": "14d19b60-7e92-4243-8f9f-3a40ba6621b6",
   "metadata": {},
   "outputs": [
    {
     "data": {
      "text/plain": [
       "'hello bob'"
      ]
     },
     "execution_count": 105,
     "metadata": {},
     "output_type": "execute_result"
    }
   ],
   "source": [
    "str.lower('Hello Bob')"
   ]
  },
  {
   "cell_type": "code",
   "execution_count": 106,
   "id": "4256741f-1427-4a1e-bb36-1eb7cb9816bf",
   "metadata": {},
   "outputs": [
    {
     "data": {
      "text/plain": [
       "'HELLO BOB'"
      ]
     },
     "execution_count": 106,
     "metadata": {},
     "output_type": "execute_result"
    }
   ],
   "source": [
    "str.upper('Hello Bob')"
   ]
  },
  {
   "cell_type": "markdown",
   "id": "9a92105a-b635-4958-a774-076994e82ab0",
   "metadata": {},
   "source": [
    "__find()__ function - searches for a substring within a string, finds it's first occurrence and indicates where it starts (position number), if the string is not found - returns -1; string positions start at 0. "
   ]
  },
  {
   "cell_type": "code",
   "execution_count": 108,
   "id": "f3f6ff37-9ee4-4e4d-98b1-a355c1ad6918",
   "metadata": {},
   "outputs": [
    {
     "name": "stdout",
     "output_type": "stream",
     "text": [
      "2\n"
     ]
    }
   ],
   "source": [
    "x = 'banana'\n",
    "pos = x.find('na')\n",
    "print(pos)"
   ]
  },
  {
   "cell_type": "code",
   "execution_count": 109,
   "id": "e4b12e20-a470-4ecc-b47d-2b54c8233861",
   "metadata": {},
   "outputs": [
    {
     "name": "stdout",
     "output_type": "stream",
     "text": [
      "-1\n"
     ]
    }
   ],
   "source": [
    "pos = x.find('zz')\n",
    "print(pos)"
   ]
  },
  {
   "cell_type": "markdown",
   "id": "c148ced1-a656-47eb-96a8-90bb5b57b130",
   "metadata": {},
   "source": [
    "__replace()__ function - works like a search and replace operation in a word processor, replaces all occurences of the search string within the replacement string"
   ]
  },
  {
   "cell_type": "code",
   "execution_count": 110,
   "id": "7b02d092-7c94-4bde-b291-2b64974f7bba",
   "metadata": {},
   "outputs": [
    {
     "name": "stdout",
     "output_type": "stream",
     "text": [
      "Hello Sue\n"
     ]
    }
   ],
   "source": [
    "x = 'Hello Bob'\n",
    "y = x.replace('Bob', 'Sue')\n",
    "print(y)"
   ]
  },
  {
   "cell_type": "code",
   "execution_count": 111,
   "id": "b1b538ff-3ffa-4b09-b73f-1182b6f586c7",
   "metadata": {},
   "outputs": [
    {
     "name": "stdout",
     "output_type": "stream",
     "text": [
      "HellX BXb\n"
     ]
    }
   ],
   "source": [
    "x = 'Hello Bob'\n",
    "y = x.replace('o', 'X')\n",
    "print(y)"
   ]
  },
  {
   "cell_type": "markdown",
   "id": "51ec3109-1dbd-4098-90be-3a3e1951440c",
   "metadata": {},
   "source": [
    "__lstrip()__, __rstrip()__, __strip()__ removw whitespace - at tle left, right, or both sides of a string"
   ]
  },
  {
   "cell_type": "code",
   "execution_count": 113,
   "id": "b64f0983-e4ba-4972-a612-068f78fe4c47",
   "metadata": {},
   "outputs": [
    {
     "data": {
      "text/plain": [
       "'Hello Bob'"
      ]
     },
     "execution_count": 113,
     "metadata": {},
     "output_type": "execute_result"
    }
   ],
   "source": [
    "x = '   Hello Bob'\n",
    "x.strip()"
   ]
  },
  {
   "cell_type": "markdown",
   "id": "4fbfbb94-a1fc-429d-b0a3-d3bd876b7dd2",
   "metadata": {},
   "source": [
    "__startswith()__ - looks for a prefix"
   ]
  },
  {
   "cell_type": "code",
   "execution_count": 114,
   "id": "2528841d-1673-42ba-88fa-c16390c1792d",
   "metadata": {},
   "outputs": [
    {
     "data": {
      "text/plain": [
       "False"
      ]
     },
     "execution_count": 114,
     "metadata": {},
     "output_type": "execute_result"
    }
   ],
   "source": [
    "x ='Hello Bob'\n",
    "x.startswith('Please')"
   ]
  },
  {
   "cell_type": "code",
   "execution_count": 116,
   "id": "8a462c41-32ac-48ef-9853-b173bc413110",
   "metadata": {},
   "outputs": [
    {
     "data": {
      "text/plain": [
       "True"
      ]
     },
     "execution_count": 116,
     "metadata": {},
     "output_type": "execute_result"
    }
   ],
   "source": [
    "x.startswith('H')"
   ]
  },
  {
   "cell_type": "markdown",
   "id": "e10d0b46-91a0-4cca-af00-ceac886488ce",
   "metadata": {},
   "source": [
    "### Parsing amd extracting"
   ]
  },
  {
   "cell_type": "code",
   "execution_count": 122,
   "id": "f090d3b2-fe13-454a-9207-4f43ba72ed44",
   "metadata": {},
   "outputs": [
    {
     "name": "stdout",
     "output_type": "stream",
     "text": [
      "10\n"
     ]
    }
   ],
   "source": [
    "x = 'from bobby@xyz.com Sat Jan 5 09:14:16 2024'\n",
    "at = x.find('@')\n",
    "print(at)"
   ]
  },
  {
   "cell_type": "markdown",
   "id": "ff56acff-90e8-48d5-943e-876724249502",
   "metadata": {},
   "source": [
    "The second parameter in the following statement specifies where to startt the search."
   ]
  },
  {
   "cell_type": "code",
   "execution_count": 123,
   "id": "d3fc4d43-121c-4ec9-b454-4a430694badb",
   "metadata": {},
   "outputs": [
    {
     "name": "stdout",
     "output_type": "stream",
     "text": [
      "18\n"
     ]
    }
   ],
   "source": [
    "sp = x.find(' ', at)\n",
    "print(sp)"
   ]
  },
  {
   "cell_type": "code",
   "execution_count": 128,
   "id": "f771d838-31e8-4e82-b210-9302771d1558",
   "metadata": {},
   "outputs": [
    {
     "name": "stdout",
     "output_type": "stream",
     "text": [
      "xyz.com\n"
     ]
    }
   ],
   "source": [
    "domain = x[at +1 : sp]\n",
    "print(domain)"
   ]
  },
  {
   "cell_type": "code",
   "execution_count": null,
   "id": "19492fbb-39ba-4181-ab52-dcdacace7292",
   "metadata": {},
   "outputs": [],
   "source": []
  }
 ],
 "metadata": {
  "kernelspec": {
   "display_name": "Bea00",
   "language": "python",
   "name": "python3"
  },
  "language_info": {
   "codemirror_mode": {
    "name": "ipython",
    "version": 3
   },
   "file_extension": ".py",
   "mimetype": "text/x-python",
   "name": "python",
   "nbconvert_exporter": "python",
   "pygments_lexer": "ipython3",
   "version": "3.12.7"
  }
 },
 "nbformat": 4,
 "nbformat_minor": 5
}
